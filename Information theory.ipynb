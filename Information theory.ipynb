{
 "cells": [
  {
   "cell_type": "code",
   "execution_count": 1,
   "id": "2aa47227",
   "metadata": {},
   "outputs": [],
   "source": [
    "import numpy as np\n",
    "\n",
    "p_dist = [0.1, 0.2, 0.3, 0.4]\n",
    "\n",
    "info_content = lambda p: np.log2(1/p)\n",
    "entropy = lambda p_dist: np.sum([p*np.log2(1/p) for p in p_dist])\n"
   ]
  },
  {
   "cell_type": "code",
   "execution_count": 2,
   "id": "1dbb313d",
   "metadata": {},
   "outputs": [
    {
     "data": {
      "text/plain": [
       "3.321928094887362"
      ]
     },
     "execution_count": 2,
     "metadata": {},
     "output_type": "execute_result"
    }
   ],
   "source": [
    "info_content(p_dist[0])"
   ]
  },
  {
   "cell_type": "code",
   "execution_count": 3,
   "id": "9b9c620f",
   "metadata": {},
   "outputs": [
    {
     "data": {
      "text/plain": [
       "1.8464393446710154"
      ]
     },
     "execution_count": 3,
     "metadata": {},
     "output_type": "execute_result"
    }
   ],
   "source": [
    "entropy(p_dist)"
   ]
  },
  {
   "cell_type": "code",
   "execution_count": 21,
   "id": "4bcd62ca",
   "metadata": {},
   "outputs": [],
   "source": [
    "class TreeNode:\n",
    "    def __init__(self, data, prob):\n",
    "        self.data = data\n",
    "        self.prob = prob\n",
    "        self.leftChild = None\n",
    "        self.rightChild = None\n",
    "        self.treeString = ''\n",
    "        self.depth = None\n",
    "        self.leaf = True\n",
    "    \n",
    "    def print_leaves(self, level=0):\n",
    "        self.depth = level\n",
    "        self.treeString = 'prob:' +str(self.prob) + '--- data:' +str(self.data) +'--- level:' + str(level) + \\\n",
    "        '--- leaf: '+str(self.leaf) +'--->\\n'\n",
    "        if self.rightChild:\n",
    "            self.treeString += self.rightChild.print_leaves(level+1)\n",
    "        if self.leftChild:\n",
    "            self.treeString += self.leftChild.print_leaves(level+1)\n",
    "        return self.treeString\n",
    "        "
   ]
  },
  {
   "cell_type": "code",
   "execution_count": 22,
   "id": "cedb55e6",
   "metadata": {},
   "outputs": [],
   "source": [
    "root = TreeNode(0, 0.1)\n",
    "lhs_child = TreeNode(0, 0.2)\n",
    "rhs_child = TreeNode(0, 0.3)\n",
    "root.leftChild = lhs_child\n",
    "root.rightChild = rhs_child\n",
    "\n",
    "grand_children = [TreeNode(0, 1/(i+1)) for i in range(4)]\n",
    "lhs_child.leftChild = grand_children[0]\n",
    "lhs_child.rightChild = grand_children[1]\n",
    "rhs_child.leftChild = grand_children[2]\n",
    "rhs_child.rightChild = grand_children[3]"
   ]
  },
  {
   "cell_type": "code",
   "execution_count": 23,
   "id": "d39f1624",
   "metadata": {},
   "outputs": [
    {
     "name": "stdout",
     "output_type": "stream",
     "text": [
      "prob:0.1--- data:0--- level:0--- leaf: True--->\n",
      "prob:0.3--- data:0--- level:1--- leaf: True--->\n",
      "prob:0.25--- data:0--- level:2--- leaf: True--->\n",
      "prob:0.3333333333333333--- data:0--- level:2--- leaf: True--->\n",
      "prob:0.2--- data:0--- level:1--- leaf: True--->\n",
      "prob:0.5--- data:0--- level:2--- leaf: True--->\n",
      "prob:1.0--- data:0--- level:2--- leaf: True--->\n",
      "\n"
     ]
    }
   ],
   "source": [
    "x = root.print_leaves()\n",
    "print(x)"
   ]
  },
  {
   "cell_type": "code",
   "execution_count": 24,
   "id": "609438f5",
   "metadata": {},
   "outputs": [],
   "source": [
    "def lhs_1_rhs_0(node, max_level, level=0):\n",
    "    if node.rightChild is None:\n",
    "        node.data = 1\n",
    "        print('did somthing RHS')\n",
    "    else:\n",
    "        print('going lower', level)\n",
    "        lhs_1_rhs_0(node.rightChild, 3, level+1)\n",
    "        lhs_1_rhs_0(node.leftChild, 3, level+1)\n",
    "        return \n",
    "            "
   ]
  },
  {
   "cell_type": "code",
   "execution_count": 25,
   "id": "40d86f4e",
   "metadata": {},
   "outputs": [],
   "source": [
    "# TODO: build a class with encode and decode methods for the huffman tree\n",
    "# TODO: try out the ipython UI plugins to make the tree interactive and visualise it\n",
    "\n",
    "# Implement Huffmans algorithm to find optimal symbol code given an ensemble X w.p P\n",
    "\n",
    "class HuffmanAlgo:\n",
    "    \n",
    "    def __init__(self, P):\n",
    "        self.P = P\n",
    "        self.root = None\n",
    "        self.tree_depth = None\n",
    "        self.encoder = None\n",
    "        \n",
    "    def create_tree(self):\n",
    "        # create tree from the leaves, starting with the lowest prob combo\n",
    "        P_sorted = np.sort(self.P)\n",
    "        P_sorted = [TreeNode(0, prob) for prob in P_sorted]\n",
    "        leaf_node = P_sorted[0]\n",
    "        while len(P_sorted) > 1:\n",
    "            p_0, p_1 = P_sorted[0].prob, P_sorted[1].prob\n",
    "            p_0_1 = p_0 + p_1\n",
    "            p_0_1_node = TreeNode(0, p_0_1)\n",
    "            p_0_1_node.leftChild = P_sorted[0]\n",
    "            p_0_1_node.rightChild = P_sorted[1]\n",
    "            p_0_1_node.rightChild.data = 1\n",
    "            p_0_1_node.leaf = False\n",
    "\n",
    "#             latest_treeString = p_0_1_node.print_leaves()\n",
    "#             print(latest_treeString, 'with root prob', p_0_1)\n",
    "\n",
    "            P_sorted = P_sorted[2:]\n",
    "\n",
    "            # need to get sorted list of nodes by prob\n",
    "            P_sorted_plus_new_node = np.concatenate((P_sorted, [p_0_1_node]), axis=0)\n",
    "            P_sorted = self._sort_nodes_by_prob(P_sorted_plus_new_node)\n",
    "\n",
    "        # put 1s and 0s at each child node\n",
    "        self.root = p_0_1_node\n",
    "        print(self.print_tree())\n",
    "        self.tree_depth = leaf_node.depth\n",
    "        \n",
    "        return 'Tree Created Of Depth: {}'.format(self.tree_depth)\n",
    "    \n",
    "    def _sort_nodes_by_prob(self, node_list):\n",
    "        idx_prob_lookup = {}\n",
    "        prob_arr = []\n",
    "        for idx, node in enumerate(node_list):\n",
    "            idx_prob_lookup[node.prob] = idx\n",
    "            prob_arr.append(node.prob)\n",
    "        prob_arr = np.sort(prob_arr)\n",
    "\n",
    "        sorted_nodes = []\n",
    "        for prob in prob_arr:\n",
    "            idx = idx_prob_lookup[prob]\n",
    "            sorted_nodes.append(node_list[idx])\n",
    "        return np.array(sorted_nodes)\n",
    "\n",
    "    \n",
    "    def print_tree(self):\n",
    "        \n",
    "        latest_treeString = self.root.print_leaves()\n",
    "        return latest_treeString\n",
    "    \n",
    "    def encode(self, X):\n",
    "        \n",
    "        encoded_X_dict = {}\n",
    "        encoded_X_path = ''\n",
    "        encoded_X_dict[leave_name_letter] = encoded_X_path\n",
    "        # get all paths to target leaves of tree and append data to encoded_X_dict\n",
    "        \n",
    "        self.encoder = encoded_X_dict\n",
    "        return 'Completed encoder'\n",
    "            "
   ]
  },
  {
   "cell_type": "code",
   "execution_count": 26,
   "id": "2baf374e",
   "metadata": {
    "scrolled": true
   },
   "outputs": [
    {
     "name": "stdout",
     "output_type": "stream",
     "text": [
      "prob:1.0--- data:0--- level:0--- leaf: False--->\n",
      "prob:0.6000000000000001--- data:1--- level:1--- leaf: False--->\n",
      "prob:0.30000000000000004--- data:1--- level:2--- leaf: False--->\n",
      "prob:0.2--- data:1--- level:3--- leaf: True--->\n",
      "prob:0.1--- data:0--- level:3--- leaf: True--->\n",
      "prob:0.3--- data:0--- level:2--- leaf: True--->\n",
      "prob:0.4--- data:0--- level:1--- leaf: True--->\n",
      "\n",
      "Tree Created Of Depth: 3\n"
     ]
    }
   ],
   "source": [
    "algoInst = HuffmanAlgo(p_dist)\n",
    "print(algoInst.create_tree())"
   ]
  },
  {
   "cell_type": "code",
   "execution_count": 27,
   "id": "4507ffa7",
   "metadata": {},
   "outputs": [],
   "source": [
    "# Assume alphabet is a, b, c, d and prob dist = p_dist defined above\n",
    "test_X = 'aabcddd'\n",
    "\n"
   ]
  },
  {
   "cell_type": "code",
   "execution_count": 104,
   "id": "54860d73",
   "metadata": {},
   "outputs": [
    {
     "data": {
      "application/vnd.jupyter.widget-view+json": {
       "model_id": "57a5efad18cd48d49a6f290ccf3f664f",
       "version_major": 2,
       "version_minor": 0
      },
      "text/plain": [
       "IntSlider(value=3, description='Slider:', max=10)"
      ]
     },
     "metadata": {},
     "output_type": "display_data"
    }
   ],
   "source": [
    "import ipywidgets as widgets\n",
    "from IPython.display import display, clear_output\n",
    "\n",
    "\n",
    "slider = widgets.IntSlider(\n",
    "    min=0,\n",
    "    max=10,\n",
    "    step=1,\n",
    "    description='Slider:',\n",
    "    value=3\n",
    ")\n",
    "\n",
    "display(slider)"
   ]
  },
  {
   "cell_type": "code",
   "execution_count": 29,
   "id": "2f15f595",
   "metadata": {},
   "outputs": [
    {
     "data": {
      "text/plain": [
       "3"
      ]
     },
     "execution_count": 29,
     "metadata": {},
     "output_type": "execute_result"
    }
   ],
   "source": [
    "slider.value"
   ]
  },
  {
   "cell_type": "code",
   "execution_count": 30,
   "id": "f42c6ed7",
   "metadata": {},
   "outputs": [
    {
     "name": "stdout",
     "output_type": "stream",
     "text": [
      "['Accordion', 'AppLayout', 'Audio', 'BoundedFloatText', 'BoundedIntText', 'Box', 'Button', 'ButtonStyle', 'CallbackDispatcher', 'Checkbox', 'Color', 'ColorPicker', 'Combobox', 'Controller', 'CoreWidget', 'DOMWidget', 'DatePicker', 'Datetime', 'Dropdown', 'FileUpload', 'FloatLogSlider', 'FloatProgress', 'FloatRangeSlider', 'FloatSlider', 'FloatText', 'GridBox', 'GridspecLayout', 'HBox', 'HTML', 'HTMLMath', 'Image', 'IntProgress', 'IntRangeSlider', 'IntSlider', 'IntText', 'Label', 'Layout', 'NumberFormat', 'Output', 'Password', 'Play', 'RadioButtons', 'Select', 'SelectMultiple', 'SelectionRangeSlider', 'SelectionSlider', 'SliderStyle', 'Style', 'Tab', 'Text', 'Textarea', 'ToggleButton', 'ToggleButtons', 'ToggleButtonsStyle', 'TwoByTwoLayout', 'VBox', 'Valid', 'ValueWidget', 'Video', 'Widget', '__builtins__', '__cached__', '__doc__', '__file__', '__jupyter_widgets_base_version__', '__jupyter_widgets_controls_version__', '__loader__', '__name__', '__package__', '__path__', '__protocol_version__', '__spec__', '__version__', '_handle_ipython', '_version', 'dlink', 'docutils', 'domwidget', 'fixed', 'get_ipython', 'handle_kernel', 'interact', 'interact_manual', 'interaction', 'interactive', 'interactive_output', 'jsdlink', 'jslink', 'link', 'load_ipython_extension', 'os', 'register', 'register_comm_target', 'trait_types', 'util', 'valuewidget', 'version_info', 'widget', 'widget_bool', 'widget_box', 'widget_button', 'widget_color', 'widget_controller', 'widget_core', 'widget_date', 'widget_description', 'widget_float', 'widget_int', 'widget_layout', 'widget_link', 'widget_media', 'widget_output', 'widget_selection', 'widget_selectioncontainer', 'widget_serialization', 'widget_string', 'widget_style', 'widget_templates', 'widget_upload', 'widgets']\n"
     ]
    }
   ],
   "source": [
    "print(dir(widgets))"
   ]
  },
  {
   "cell_type": "code",
   "execution_count": 138,
   "id": "87090d3c",
   "metadata": {},
   "outputs": [
    {
     "name": "stdout",
     "output_type": "stream",
     "text": [
      "Size of alphabet to be coded:\n"
     ]
    },
    {
     "data": {
      "application/vnd.jupyter.widget-view+json": {
       "model_id": "571c62a6f3a344dd89ff65a51dbba3f5",
       "version_major": 2,
       "version_minor": 0
      },
      "text/plain": [
       "IntText(value=0)"
      ]
     },
     "metadata": {},
     "output_type": "display_data"
    },
    {
     "data": {
      "application/vnd.jupyter.widget-view+json": {
       "model_id": "e54d418a61694ae6acea4ba1400eca9d",
       "version_major": 2,
       "version_minor": 0
      },
      "text/plain": [
       "Output()"
      ]
     },
     "metadata": {},
     "output_type": "display_data"
    }
   ],
   "source": [
    "# change p_dist and number of variables and create a tree \n",
    "# encode and decode any string with a given encoder\n",
    "\n",
    "\n",
    "create_float_widget = lambda x: widgets.BoundedFloatText(\n",
    "    value=1,\n",
    "    min=0,\n",
    "    max=1.0,\n",
    "    step=0.1,\n",
    "    description='{}:'.format(x),\n",
    "    disabled=False\n",
    ")\n",
    "\n",
    "dimensions_widget = widgets.IntText()\n",
    "print('Size of alphabet to be coded:')\n",
    "display(dimensions_widget)\n",
    "\n",
    "out = widgets.Output()\n",
    "display(out)\n",
    "widget_list = []\n",
    "\n",
    "# Handle changes to the dimension size to prob distribution inputs\n",
    "\n",
    "def prob_eventhandler(obj):\n",
    "    global widget_list\n",
    "    widget_list = [create_float_widget('p{}'.format(i)) for i in range(dimensions_widget.value)]\n",
    "    with out:\n",
    "        clear_output()\n",
    "        print('Probability distribution of alphabet:')\n",
    "        display(*widget_list)\n",
    "\n",
    "\n",
    "dimensions_widget.observe(prob_eventhandler, names='value')\n",
    "\n"
   ]
  },
  {
   "cell_type": "code",
   "execution_count": 139,
   "id": "f1c88bc3",
   "metadata": {},
   "outputs": [
    {
     "data": {
      "application/vnd.jupyter.widget-view+json": {
       "model_id": "29fc9cbf7d56400c96b8ba48813656b8",
       "version_major": 2,
       "version_minor": 0
      },
      "text/plain": [
       "Button(description='Create Tree', style=ButtonStyle())"
      ]
     },
     "metadata": {},
     "output_type": "display_data"
    },
    {
     "data": {
      "application/vnd.jupyter.widget-view+json": {
       "model_id": "d048964ffd064f01a2887a2831400805",
       "version_major": 2,
       "version_minor": 0
      },
      "text/plain": [
       "Output()"
      ]
     },
     "metadata": {},
     "output_type": "display_data"
    }
   ],
   "source": [
    "btn = widgets.Button(description='Create Tree')\n",
    "display(btn)\n",
    "\n",
    "out_tree = widgets.Output()\n",
    "display(out_tree)\n",
    "\n",
    "def btn_eventhandler(obj):\n",
    "    p_dist_var = [w.value for w in widget_list]\n",
    "    algoInst = HuffmanAlgo(p_dist_var)\n",
    "    with out_tree:\n",
    "        clear_output()\n",
    "        print('Prob dist: \\n',algoInst.P)\n",
    "        print(algoInst.create_tree())\n",
    "btn.on_click(btn_eventhandler)"
   ]
  },
  {
   "cell_type": "code",
   "execution_count": null,
   "id": "ef0761bb",
   "metadata": {},
   "outputs": [],
   "source": []
  },
  {
   "cell_type": "code",
   "execution_count": 13,
   "id": "b36b843b",
   "metadata": {},
   "outputs": [],
   "source": [
    "# Implement arithmetic coding"
   ]
  },
  {
   "cell_type": "code",
   "execution_count": 14,
   "id": "67d75007",
   "metadata": {},
   "outputs": [
    {
     "name": "stdout",
     "output_type": "stream",
     "text": [
      "Help on function sort in module numpy:\n",
      "\n",
      "sort(a, axis=-1, kind=None, order=None)\n",
      "    Return a sorted copy of an array.\n",
      "    \n",
      "    Parameters\n",
      "    ----------\n",
      "    a : array_like\n",
      "        Array to be sorted.\n",
      "    axis : int or None, optional\n",
      "        Axis along which to sort. If None, the array is flattened before\n",
      "        sorting. The default is -1, which sorts along the last axis.\n",
      "    kind : {'quicksort', 'mergesort', 'heapsort', 'stable'}, optional\n",
      "        Sorting algorithm. The default is 'quicksort'. Note that both 'stable'\n",
      "        and 'mergesort' use timsort or radix sort under the covers and, in general,\n",
      "        the actual implementation will vary with data type. The 'mergesort' option\n",
      "        is retained for backwards compatibility.\n",
      "    \n",
      "        .. versionchanged:: 1.15.0.\n",
      "           The 'stable' option was added.\n",
      "    \n",
      "    order : str or list of str, optional\n",
      "        When `a` is an array with fields defined, this argument specifies\n",
      "        which fields to compare first, second, etc.  A single field can\n",
      "        be specified as a string, and not all fields need be specified,\n",
      "        but unspecified fields will still be used, in the order in which\n",
      "        they come up in the dtype, to break ties.\n",
      "    \n",
      "    Returns\n",
      "    -------\n",
      "    sorted_array : ndarray\n",
      "        Array of the same type and shape as `a`.\n",
      "    \n",
      "    See Also\n",
      "    --------\n",
      "    ndarray.sort : Method to sort an array in-place.\n",
      "    argsort : Indirect sort.\n",
      "    lexsort : Indirect stable sort on multiple keys.\n",
      "    searchsorted : Find elements in a sorted array.\n",
      "    partition : Partial sort.\n",
      "    \n",
      "    Notes\n",
      "    -----\n",
      "    The various sorting algorithms are characterized by their average speed,\n",
      "    worst case performance, work space size, and whether they are stable. A\n",
      "    stable sort keeps items with the same key in the same relative\n",
      "    order. The four algorithms implemented in NumPy have the following\n",
      "    properties:\n",
      "    \n",
      "    =========== ======= ============= ============ ========\n",
      "       kind      speed   worst case    work space   stable\n",
      "    =========== ======= ============= ============ ========\n",
      "    'quicksort'    1     O(n^2)            0          no\n",
      "    'heapsort'     3     O(n*log(n))       0          no\n",
      "    'mergesort'    2     O(n*log(n))      ~n/2        yes\n",
      "    'timsort'      2     O(n*log(n))      ~n/2        yes\n",
      "    =========== ======= ============= ============ ========\n",
      "    \n",
      "    .. note:: The datatype determines which of 'mergesort' or 'timsort'\n",
      "       is actually used, even if 'mergesort' is specified. User selection\n",
      "       at a finer scale is not currently available.\n",
      "    \n",
      "    All the sort algorithms make temporary copies of the data when\n",
      "    sorting along any but the last axis.  Consequently, sorting along\n",
      "    the last axis is faster and uses less space than sorting along\n",
      "    any other axis.\n",
      "    \n",
      "    The sort order for complex numbers is lexicographic. If both the real\n",
      "    and imaginary parts are non-nan then the order is determined by the\n",
      "    real parts except when they are equal, in which case the order is\n",
      "    determined by the imaginary parts.\n",
      "    \n",
      "    Previous to numpy 1.4.0 sorting real and complex arrays containing nan\n",
      "    values led to undefined behaviour. In numpy versions >= 1.4.0 nan\n",
      "    values are sorted to the end. The extended sort order is:\n",
      "    \n",
      "      * Real: [R, nan]\n",
      "      * Complex: [R + Rj, R + nanj, nan + Rj, nan + nanj]\n",
      "    \n",
      "    where R is a non-nan real value. Complex values with the same nan\n",
      "    placements are sorted according to the non-nan part if it exists.\n",
      "    Non-nan values are sorted as before.\n",
      "    \n",
      "    .. versionadded:: 1.12.0\n",
      "    \n",
      "    quicksort has been changed to `introsort <https://en.wikipedia.org/wiki/Introsort>`_.\n",
      "    When sorting does not make enough progress it switches to\n",
      "    `heapsort <https://en.wikipedia.org/wiki/Heapsort>`_.\n",
      "    This implementation makes quicksort O(n*log(n)) in the worst case.\n",
      "    \n",
      "    'stable' automatically chooses the best stable sorting algorithm\n",
      "    for the data type being sorted.\n",
      "    It, along with 'mergesort' is currently mapped to\n",
      "    `timsort <https://en.wikipedia.org/wiki/Timsort>`_\n",
      "    or `radix sort <https://en.wikipedia.org/wiki/Radix_sort>`_\n",
      "    depending on the data type.\n",
      "    API forward compatibility currently limits the\n",
      "    ability to select the implementation and it is hardwired for the different\n",
      "    data types.\n",
      "    \n",
      "    .. versionadded:: 1.17.0\n",
      "    \n",
      "    Timsort is added for better performance on already or nearly\n",
      "    sorted data. On random data timsort is almost identical to\n",
      "    mergesort. It is now used for stable sort while quicksort is still the\n",
      "    default sort if none is chosen. For timsort details, refer to\n",
      "    `CPython listsort.txt <https://github.com/python/cpython/blob/3.7/Objects/listsort.txt>`_.\n",
      "    'mergesort' and 'stable' are mapped to radix sort for integer data types. Radix sort is an\n",
      "    O(n) sort instead of O(n log n).\n",
      "    \n",
      "    .. versionchanged:: 1.18.0\n",
      "    \n",
      "    NaT now sorts to the end of arrays for consistency with NaN.\n",
      "    \n",
      "    Examples\n",
      "    --------\n",
      "    >>> a = np.array([[1,4],[3,1]])\n",
      "    >>> np.sort(a)                # sort along the last axis\n",
      "    array([[1, 4],\n",
      "           [1, 3]])\n",
      "    >>> np.sort(a, axis=None)     # sort the flattened array\n",
      "    array([1, 1, 3, 4])\n",
      "    >>> np.sort(a, axis=0)        # sort along the first axis\n",
      "    array([[1, 1],\n",
      "           [3, 4]])\n",
      "    \n",
      "    Use the `order` keyword to specify a field to use when sorting a\n",
      "    structured array:\n",
      "    \n",
      "    >>> dtype = [('name', 'S10'), ('height', float), ('age', int)]\n",
      "    >>> values = [('Arthur', 1.8, 41), ('Lancelot', 1.9, 38),\n",
      "    ...           ('Galahad', 1.7, 38)]\n",
      "    >>> a = np.array(values, dtype=dtype)       # create a structured array\n",
      "    >>> np.sort(a, order='height')                        # doctest: +SKIP\n",
      "    array([('Galahad', 1.7, 38), ('Arthur', 1.8, 41),\n",
      "           ('Lancelot', 1.8999999999999999, 38)],\n",
      "          dtype=[('name', '|S10'), ('height', '<f8'), ('age', '<i4')])\n",
      "    \n",
      "    Sort by age, then height if ages are equal:\n",
      "    \n",
      "    >>> np.sort(a, order=['age', 'height'])               # doctest: +SKIP\n",
      "    array([('Galahad', 1.7, 38), ('Lancelot', 1.8999999999999999, 38),\n",
      "           ('Arthur', 1.8, 41)],\n",
      "          dtype=[('name', '|S10'), ('height', '<f8'), ('age', '<i4')])\n",
      "\n"
     ]
    }
   ],
   "source": [
    "help(np.sort)"
   ]
  },
  {
   "cell_type": "code",
   "execution_count": null,
   "id": "7557b22e",
   "metadata": {},
   "outputs": [],
   "source": []
  }
 ],
 "metadata": {
  "kernelspec": {
   "display_name": "learning-env",
   "language": "python",
   "name": "learning-env"
  },
  "language_info": {
   "codemirror_mode": {
    "name": "ipython",
    "version": 3
   },
   "file_extension": ".py",
   "mimetype": "text/x-python",
   "name": "python",
   "nbconvert_exporter": "python",
   "pygments_lexer": "ipython3",
   "version": "3.9.6"
  }
 },
 "nbformat": 4,
 "nbformat_minor": 5
}
