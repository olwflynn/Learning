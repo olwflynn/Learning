{
 "cells": [
  {
   "cell_type": "code",
   "execution_count": null,
   "metadata": {},
   "outputs": [],
   "source": [
    "# sample from exponential distribution and try to find the likelihood and \n",
    "# posterior plots in the hyp and data spaces. Try plotting 3d plots to find two parameters"
   ]
  },
  {
   "cell_type": "code",
   "execution_count": 2,
   "metadata": {},
   "outputs": [],
   "source": [
    "# Use bayes rule to compare two model hypotheses."
   ]
  },
  {
   "cell_type": "code",
   "execution_count": 3,
   "metadata": {},
   "outputs": [],
   "source": [
    "class Bayesian:\n",
    "    \n",
    "    def __init__(pdf):\n",
    "        self.hyp_pdf = pdf\n",
    "        self.hyp_params = None\n",
    "        self.theta = None\n",
    "    \n",
    "    \n",
    "    def likelihood(self, X, min_w_lim=-1000, max_w_lim=1000, nb_of_ws=1000):\n",
    "        \n",
    "        # prob(data | params) i.e. prob in hypothesis space\n",
    "        # assume single param w for now\n",
    "        \n",
    "        w_range = np.linspace(min_w_lim, max_w_lim, num=nb_of_ws)\n",
    "        arr = np.zeros(nb_of_ws)\n",
    "\n",
    "        for i in range(len(w_range)):\n",
    "            theta_ = ws1_range[i]\n",
    "            likelihood = self.pdf(X, theta=theta_)\n",
    "            arr[i] = likelihood\n",
    "        likelihood_fn = arr\n",
    "        return likelihood_fn\n",
    "    \n"
   ]
  },
  {
   "cell_type": "code",
   "execution_count": null,
   "metadata": {},
   "outputs": [],
   "source": [
    "exp_pdf = \n",
    "bayes = Bayesian()"
   ]
  }
 ],
 "metadata": {
  "kernelspec": {
   "display_name": "Python 3",
   "language": "python",
   "name": "python3"
  },
  "language_info": {
   "codemirror_mode": {
    "name": "ipython",
    "version": 3
   },
   "file_extension": ".py",
   "mimetype": "text/x-python",
   "name": "python",
   "nbconvert_exporter": "python",
   "pygments_lexer": "ipython3",
   "version": "3.6.4"
  }
 },
 "nbformat": 4,
 "nbformat_minor": 2
}
