{
 "cells": [
  {
   "cell_type": "code",
   "execution_count": 315,
   "id": "ee6baef2",
   "metadata": {},
   "outputs": [],
   "source": [
    "import numpy as np\n",
    "\n",
    "p_dist = [0.1, 0.2, 0.3, 0.4]\n",
    "alphabet = ['a', 'b', 'c', 'd']\n",
    "\n",
    "info_content = lambda p: np.log2(1/p)\n",
    "entropy = lambda p_dist: np.sum([p*np.log2(1/p) for p in p_dist])\n"
   ]
  },
  {
   "cell_type": "code",
   "execution_count": 327,
   "id": "0f1632d1",
   "metadata": {},
   "outputs": [
    {
     "name": "stdout",
     "output_type": "stream",
     "text": [
      "Info content of receiving the letter \"b\" is: 2.3219 bits\n"
     ]
    }
   ],
   "source": [
    "print('Info content of receiving the letter \"b\" is:',round(info_content(p_dist[1]),4), 'bits')"
   ]
  },
  {
   "cell_type": "code",
   "execution_count": 326,
   "id": "6d855246",
   "metadata": {},
   "outputs": [
    {
     "name": "stdout",
     "output_type": "stream",
     "text": [
      "The entropy of the system with probability distribution p_dist is: 1.8464 bits\n"
     ]
    }
   ],
   "source": [
    "print('The entropy of the system with probability distribution p_dist is:' ,round(entropy(p_dist),4), 'bits')"
   ]
  },
  {
   "cell_type": "code",
   "execution_count": 93,
   "id": "997ed241",
   "metadata": {},
   "outputs": [],
   "source": [
    "class TreeNode:\n",
    "    def __init__(self, data, prob, letter=None):\n",
    "        self.data = data\n",
    "        self.prob = prob\n",
    "        self.letter = letter\n",
    "        self.leftChild = None\n",
    "        self.rightChild = None\n",
    "        self.depth = 0\n",
    "        self.leaf = True"
   ]
  },
  {
   "cell_type": "code",
   "execution_count": 312,
   "id": "22e3ac83",
   "metadata": {},
   "outputs": [],
   "source": [
    "# TODO: build a class with encode and decode methods for the huffman tree\n",
    "# TODO: try out the ipython UI plugins to make the tree interactive and visualise it\n",
    "\n",
    "# Implement Huffmans algorithm to find optimal symbol code given an ensemble X w.p P\n",
    "\n",
    "class HuffmanAlgo:\n",
    "    \n",
    "    def __init__(self, alphabet, P):\n",
    "        self.alphabet = alphabet\n",
    "        self.P = P\n",
    "        self.root = None\n",
    "        self.tree_depth = 0\n",
    "        self.encoder = {}\n",
    "        self.treeString = ''\n",
    "\n",
    "        \n",
    "    def create_tree(self):\n",
    "        # create tree from the leaves, starting with the lowest prob combo\n",
    "        P_alphabet_join = np.concatenate((np.array(self.P).reshape(len(self.P), 1), \\\n",
    "                                          np.array(self.alphabet).reshape(len(self.alphabet), 1)), axis=1)\n",
    "        P_sorted = np.sort(P_alphabet_join, axis=0)\n",
    "#         P_sorted = np.sort(self.P)\n",
    "        P_sorted = [TreeNode(0, prob, letter) for (prob, letter) in P_alphabet_join]\n",
    "\n",
    "#         P_sorted = [TreeNode(0, prob) for prob in P_sorted]\n",
    "        leaf_node = P_sorted[0]\n",
    "        while len(P_sorted) > 1:\n",
    "            p_0, p_1 = P_sorted[0].prob, P_sorted[1].prob\n",
    "            p_0_1 = round((float(p_0) + float(p_1)),5)\n",
    "            p_0_1_node = TreeNode(0, p_0_1)\n",
    "            p_0_1_node.leftChild = P_sorted[0]\n",
    "            p_0_1_node.rightChild = P_sorted[1]\n",
    "            p_0_1_node.rightChild.data = 1\n",
    "            p_0_1_node.leaf = False\n",
    "#             latest_treeString = p_0_1_node.print_leaves()\n",
    "#             print(latest_treeString, 'with root prob', p_0_1)\n",
    "\n",
    "            P_sorted = P_sorted[2:]\n",
    "            # need to get sorted list of nodes by prob\n",
    "            P_sorted_plus_new_node = np.concatenate((P_sorted, [p_0_1_node]), axis=0)\n",
    "            P_sorted = self._sort_nodes_by_prob(P_sorted_plus_new_node)\n",
    "\n",
    "        self.root = p_0_1_node\n",
    "        self.root.data = None\n",
    "        print(self._print_tree(self.root))\n",
    "                    \n",
    "        \n",
    "        return 'Tree Created Of Depth: {}'.format(self.tree_depth)\n",
    "    \n",
    "    def _print_tree(self, node, level=0):\n",
    "        node.depth = level\n",
    "        if node.depth > self.tree_depth: self.tree_depth = node.depth\n",
    "\n",
    "        self.treeString = 'letter: '+str(node.letter)+'--- prob:' +str(node.prob) + '--- data:' +str(node.data) +'--- depth:' + str(node.depth) + \\\n",
    "        '--- leaf: '+str(node.leaf) +'--->\\n'\n",
    "        if node.rightChild:\n",
    "            self.treeString += self._print_tree(node.rightChild, level+1)\n",
    "        if node.leftChild:\n",
    "            self.treeString += self._print_tree(node.leftChild, level+1)\n",
    "        return self.treeString\n",
    "    \n",
    "    def _sort_nodes_by_prob(self, node_arr):\n",
    "        prob_arr = np.array([node.prob for node in node_arr])\n",
    "        nodes_plus_probs = np.concatenate((prob_arr.reshape(len(prob_arr),1), node_arr.reshape(len(node_arr), 1)), axis=1 )\n",
    "        nodes_plus_probs_sorted = nodes_plus_probs[nodes_plus_probs[:, 0].argsort()]\n",
    "        sorted_nodes = nodes_plus_probs_sorted[:,1]\n",
    "        return sorted_nodes \n",
    "\n",
    "    \n",
    "    def print_tree(self):      \n",
    "        latest_treeString = self.root.print_leaves()\n",
    "        return latest_treeString\n",
    "    \n",
    "        \n",
    "    def _get_path_encodings(self, start_node, path_encoding):\n",
    "        node = start_node\n",
    "        if node.leaf is True:\n",
    "            path_encoding+=str(node.data)\n",
    "            self.encoder[node.letter] = path_encoding\n",
    "        else:\n",
    "            if node is not self.root:\n",
    "                path_encoding+=str(node.data)\n",
    "            if node.rightChild:\n",
    "                self._get_path_encodings(node.rightChild, path_encoding)\n",
    "            if node.leftChild:\n",
    "                self._get_path_encodings(node.leftChild, path_encoding)\n",
    "                \n",
    "    def create_encoder(self):\n",
    "        \n",
    "        self._get_path_encodings(self.root, '')\n",
    "        print(self.encoder)\n",
    "        # get all paths to target leaves of tree and append data to encoded_X_dict\n",
    "        return 'Completed encoder'\n",
    "    \n",
    "    def encode_string(self, string_to_encode):\n",
    "        \n",
    "        string_to_list = list(string_to_encode)\n",
    "        enc_string = ''\n",
    "        for elem in string_to_list:\n",
    "            try:\n",
    "                enc_string+=self.encoder[elem]\n",
    "            except KeyError as err:\n",
    "                print('Letter not in alphabet. Check encoder is created and please try again.')\n",
    "                raise\n",
    "        return enc_string\n",
    "\n",
    "    \n",
    "        \n",
    "            "
   ]
  },
  {
   "cell_type": "code",
   "execution_count": 328,
   "id": "b7a3ddce",
   "metadata": {
    "scrolled": true
   },
   "outputs": [
    {
     "name": "stdout",
     "output_type": "stream",
     "text": [
      "letter: None--- prob:1.0--- data:None--- depth:0--- leaf: False--->\n",
      "letter: None--- prob:0.6--- data:1--- depth:1--- leaf: False--->\n",
      "letter: None--- prob:0.3--- data:1--- depth:2--- leaf: False--->\n",
      "letter: b--- prob:0.2--- data:1--- depth:3--- leaf: True--->\n",
      "letter: a--- prob:0.1--- data:0--- depth:3--- leaf: True--->\n",
      "letter: c--- prob:0.3--- data:0--- depth:2--- leaf: True--->\n",
      "letter: d--- prob:0.4--- data:0--- depth:1--- leaf: True--->\n",
      "\n",
      "Tree Created Of Depth: 3\n"
     ]
    }
   ],
   "source": [
    "algoInst = HuffmanAlgo(P=p_dist, alphabet=alphabet)\n",
    "print(algoInst.create_tree())"
   ]
  },
  {
   "cell_type": "markdown",
   "id": "0a3c78f1",
   "metadata": {},
   "source": [
    "Pseudocode for encoder:\n",
    "\n",
    "Input --> tree with nodes and data on each node with leaves corresponding to letter in the alphabet\n",
    "\n",
    "ALGO -> for all paths in the tree; get letter from the leaf node of the path, concat all data from nodes in path\n",
    "\n",
    "Output --> function/mapper that takes a letter from the alphabet and converts to binary"
   ]
  },
  {
   "cell_type": "code",
   "execution_count": 329,
   "id": "d30c29f7",
   "metadata": {},
   "outputs": [
    {
     "name": "stdout",
     "output_type": "stream",
     "text": [
      "{'b': '111', 'a': '110', 'c': '10', 'd': '0'}\n"
     ]
    },
    {
     "data": {
      "text/plain": [
       "'Completed encoder'"
      ]
     },
     "execution_count": 329,
     "metadata": {},
     "output_type": "execute_result"
    }
   ],
   "source": [
    "algoInst.create_encoder()"
   ]
  },
  {
   "cell_type": "code",
   "execution_count": 330,
   "id": "b388377e",
   "metadata": {},
   "outputs": [
    {
     "data": {
      "text/plain": [
       "'11011011110000'"
      ]
     },
     "execution_count": 330,
     "metadata": {},
     "output_type": "execute_result"
    }
   ],
   "source": [
    "# Assume alphabet is a, b, c, d and prob dist = p_dist defined above\n",
    "test_X = 'aabcddd'\n",
    "\n",
    "algoInst.encode_string(test_X)"
   ]
  },
  {
   "cell_type": "code",
   "execution_count": 12,
   "id": "209ce3fa",
   "metadata": {},
   "outputs": [
    {
     "data": {
      "application/vnd.jupyter.widget-view+json": {
       "model_id": "c920fe7c695f4d82a57b641cdfe48ce0",
       "version_major": 2,
       "version_minor": 0
      },
      "text/plain": [
       "IntSlider(value=3, description='Slider:', max=10)"
      ]
     },
     "metadata": {},
     "output_type": "display_data"
    }
   ],
   "source": [
    "import ipywidgets as widgets\n",
    "from IPython.display import display, clear_output\n",
    "\n",
    "\n",
    "slider = widgets.IntSlider(\n",
    "    min=0,\n",
    "    max=10,\n",
    "    step=1,\n",
    "    description='Slider:',\n",
    "    value=3\n",
    ")\n",
    "\n",
    "display(slider)"
   ]
  },
  {
   "cell_type": "code",
   "execution_count": 13,
   "id": "bfaf005b",
   "metadata": {},
   "outputs": [
    {
     "data": {
      "text/plain": [
       "3"
      ]
     },
     "execution_count": 13,
     "metadata": {},
     "output_type": "execute_result"
    }
   ],
   "source": [
    "slider.value"
   ]
  },
  {
   "cell_type": "code",
   "execution_count": 14,
   "id": "ff746d66",
   "metadata": {},
   "outputs": [
    {
     "name": "stdout",
     "output_type": "stream",
     "text": [
      "['Accordion', 'BoundedFloatText', 'BoundedIntText', 'Box', 'Button', 'ButtonStyle', 'CallbackDispatcher', 'Checkbox', 'Color', 'ColorPicker', 'Controller', 'CoreWidget', 'DOMWidget', 'DatePicker', 'Datetime', 'Dropdown', 'FloatLogSlider', 'FloatProgress', 'FloatRangeSlider', 'FloatSlider', 'FloatText', 'HBox', 'HTML', 'HTMLMath', 'Image', 'IntProgress', 'IntRangeSlider', 'IntSlider', 'IntText', 'Label', 'Layout', 'NumberFormat', 'Output', 'Password', 'Play', 'RadioButtons', 'Select', 'SelectMultiple', 'SelectionRangeSlider', 'SelectionSlider', 'SliderStyle', 'Style', 'Tab', 'Text', 'Textarea', 'ToggleButton', 'ToggleButtons', 'ToggleButtonsStyle', 'VBox', 'Valid', 'ValueWidget', 'Widget', '__builtins__', '__cached__', '__doc__', '__file__', '__jupyter_widgets_base_version__', '__jupyter_widgets_controls_version__', '__loader__', '__name__', '__package__', '__path__', '__protocol_version__', '__spec__', '__version__', '_handle_ipython', '_version', 'dlink', 'docutils', 'domwidget', 'fixed', 'get_ipython', 'handle_kernel', 'interact', 'interact_manual', 'interaction', 'interactive', 'interactive_output', 'jsdlink', 'jslink', 'link', 'load_ipython_extension', 'os', 'register', 'register_comm_target', 'trait_types', 'valuewidget', 'version_info', 'widget', 'widget_bool', 'widget_box', 'widget_button', 'widget_color', 'widget_controller', 'widget_core', 'widget_date', 'widget_description', 'widget_float', 'widget_image', 'widget_int', 'widget_layout', 'widget_link', 'widget_output', 'widget_selection', 'widget_selectioncontainer', 'widget_serialization', 'widget_string', 'widget_style', 'widgets']\n"
     ]
    }
   ],
   "source": [
    "print(dir(widgets))"
   ]
  },
  {
   "cell_type": "code",
   "execution_count": 19,
   "id": "fc32b8e2",
   "metadata": {},
   "outputs": [
    {
     "name": "stdout",
     "output_type": "stream",
     "text": [
      "Size of alphabet to be coded:\n"
     ]
    },
    {
     "data": {
      "application/vnd.jupyter.widget-view+json": {
       "model_id": "90c9afbbf77243edb92515d369c52ab9",
       "version_major": 2,
       "version_minor": 0
      },
      "text/plain": [
       "IntText(value=0)"
      ]
     },
     "metadata": {},
     "output_type": "display_data"
    },
    {
     "data": {
      "application/vnd.jupyter.widget-view+json": {
       "model_id": "f2b1675aef6e4a82a5135074bd5c66be",
       "version_major": 2,
       "version_minor": 0
      },
      "text/plain": [
       "Output()"
      ]
     },
     "metadata": {},
     "output_type": "display_data"
    }
   ],
   "source": [
    "# change p_dist and number of variables and create a tree \n",
    "# encode and decode any string with a given encoder\n",
    "\n",
    "\n",
    "create_float_widget = lambda x: widgets.FloatSlider(\n",
    "    value=1,\n",
    "    min=0,\n",
    "    max=1.0,\n",
    "    step=0.1,\n",
    "    description='{}:'.format(x),\n",
    "    disabled=False\n",
    ")\n",
    "\n",
    "dimensions_widget = widgets.IntText()\n",
    "print('Size of alphabet to be coded:')\n",
    "display(dimensions_widget)\n",
    "\n",
    "out = widgets.Output()\n",
    "display(out)\n",
    "widget_list = []\n",
    "\n",
    "# Handle changes to the dimension size to prob distribution inputs\n",
    "\n",
    "def prob_eventhandler(obj):\n",
    "    global widget_list\n",
    "    widget_list = [create_float_widget('p{}'.format(i)) for i in range(dimensions_widget.value)]\n",
    "    with out:\n",
    "        clear_output()\n",
    "        print('Probability distribution of alphabet:')\n",
    "        display(*widget_list)\n",
    "\n",
    "\n",
    "dimensions_widget.observe(prob_eventhandler, names='value')\n",
    "\n"
   ]
  },
  {
   "cell_type": "code",
   "execution_count": 332,
   "id": "ab206769",
   "metadata": {},
   "outputs": [
    {
     "data": {
      "application/vnd.jupyter.widget-view+json": {
       "model_id": "82e8d19968b6480c82917554a72d8b80",
       "version_major": 2,
       "version_minor": 0
      },
      "text/plain": [
       "Button(description='Create Tree', style=ButtonStyle())"
      ]
     },
     "metadata": {},
     "output_type": "display_data"
    },
    {
     "data": {
      "application/vnd.jupyter.widget-view+json": {
       "model_id": "24596878ec384c67b5a27d0190bea532",
       "version_major": 2,
       "version_minor": 0
      },
      "text/plain": [
       "Output()"
      ]
     },
     "metadata": {},
     "output_type": "display_data"
    }
   ],
   "source": [
    "import string\n",
    "\n",
    "btn = widgets.Button(description='Create Tree')\n",
    "display(btn)\n",
    "\n",
    "out_tree = widgets.Output()\n",
    "display(out_tree)\n",
    "\n",
    "def btn_eventhandler(obj):\n",
    "    p_dist_var = [w.value for w in widget_list]\n",
    "    alphabet_var = list(string.ascii_lowercase[:len(p_dist_var)])\n",
    "    global widgetInst\n",
    "    widgetInst = HuffmanAlgo(P=p_dist_var,alphabet=alphabet_var)\n",
    "    with out_tree:\n",
    "        clear_output()\n",
    "        print('Prob dist: \\n',widgetInst.P)\n",
    "        print('Alphabet: \\n', widgetInst.alphabet)\n",
    "        print(widgetInst.create_tree())\n",
    "        widgetInst.create_encoder()\n",
    "\n",
    "btn.on_click(btn_eventhandler)"
   ]
  },
  {
   "cell_type": "code",
   "execution_count": 331,
   "id": "c3a5b113",
   "metadata": {},
   "outputs": [
    {
     "name": "stdout",
     "output_type": "stream",
     "text": [
      "Text to be coded:\n"
     ]
    },
    {
     "data": {
      "application/vnd.jupyter.widget-view+json": {
       "model_id": "a05e61f5642442118bf8b8e67b108ef0",
       "version_major": 2,
       "version_minor": 0
      },
      "text/plain": [
       "Text(value='')"
      ]
     },
     "metadata": {},
     "output_type": "display_data"
    },
    {
     "data": {
      "application/vnd.jupyter.widget-view+json": {
       "model_id": "206359d112c64de69cc369bbaee52468",
       "version_major": 2,
       "version_minor": 0
      },
      "text/plain": [
       "Button(description='Encode Text', style=ButtonStyle())"
      ]
     },
     "metadata": {},
     "output_type": "display_data"
    },
    {
     "data": {
      "application/vnd.jupyter.widget-view+json": {
       "model_id": "496fcbac946b4a66902ef88de335a910",
       "version_major": 2,
       "version_minor": 0
      },
      "text/plain": [
       "Output()"
      ]
     },
     "metadata": {},
     "output_type": "display_data"
    }
   ],
   "source": [
    "# text box that can write into and return encoded string\n",
    "\n",
    "enc_text_widget = widgets.Text()\n",
    "print('Text to be coded:')\n",
    "display(enc_text_widget)\n",
    "\n",
    "enc_btn = widgets.Button(description='Encode Text')\n",
    "display(enc_btn)\n",
    "\n",
    "out_enc = widgets.Output()\n",
    "display(out_enc)\n",
    "\n",
    "def enc_btn_eventhandler(obj):\n",
    "    with out_enc:\n",
    "        clear_output()\n",
    "        enc_string = widgetInst.encode_string(enc_text_widget.value)\n",
    "        if type(enc_text_widget.value) is str:\n",
    "            print('Encoding for {} is {}'.format(enc_text_widget.value, enc_string))\n",
    "enc_btn.on_click(enc_btn_eventhandler)"
   ]
  },
  {
   "cell_type": "code",
   "execution_count": null,
   "id": "75c46ab2",
   "metadata": {},
   "outputs": [],
   "source": []
  }
 ],
 "metadata": {
  "kernelspec": {
   "display_name": "Python 3",
   "language": "python",
   "name": "python3"
  },
  "language_info": {
   "codemirror_mode": {
    "name": "ipython",
    "version": 3
   },
   "file_extension": ".py",
   "mimetype": "text/x-python",
   "name": "python",
   "nbconvert_exporter": "python",
   "pygments_lexer": "ipython3",
   "version": "3.6.4"
  }
 },
 "nbformat": 4,
 "nbformat_minor": 5
}
