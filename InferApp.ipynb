{
 "cells": [
  {
   "cell_type": "markdown",
   "id": "fc250072-a06f-4159-83f9-b56b3b6e449a",
   "metadata": {},
   "source": [
    "Interesting resources:\n",
    "- https://ipyvolume.readthedocs.io/en/latest/\n",
    "-https://github.com/bqplot/bqplot/blob/ce27e39b60f390e89f8c0b64dd562a827fa3a391/examples/Introduction.ipynb\n",
    "- Grid of plots - https://ipywidgets.readthedocs.io/en/7.6.3/examples/Layout%20Templates.html#Creating-scatter-plots-using-GridspecLayout"
   ]
  },
  {
   "cell_type": "code",
   "execution_count": 19,
   "id": "73ba6ce4-bd4d-43f5-b61e-3a69de0821b9",
   "metadata": {},
   "outputs": [],
   "source": [
    "import ipywidgets as widgets\n",
    "from IPython.display import display, clear_output"
   ]
  },
  {
   "cell_type": "code",
   "execution_count": 20,
   "id": "9a728d85-bc59-4c6f-8c06-406a9ef7040e",
   "metadata": {},
   "outputs": [
    {
     "name": "stdout",
     "output_type": "stream",
     "text": [
      "Size of alphabet to be coded:\n"
     ]
    },
    {
     "data": {
      "application/vnd.jupyter.widget-view+json": {
       "model_id": "e7ceb8d332f14f5f9dd773a5d205f2b5",
       "version_major": 2,
       "version_minor": 0
      },
      "text/plain": [
       "IntText(value=0)"
      ]
     },
     "metadata": {},
     "output_type": "display_data"
    },
    {
     "data": {
      "application/vnd.jupyter.widget-view+json": {
       "model_id": "06448674ca2d4687a1baa1ef426eaab7",
       "version_major": 2,
       "version_minor": 0
      },
      "text/plain": [
       "Output()"
      ]
     },
     "metadata": {},
     "output_type": "display_data"
    }
   ],
   "source": [
    "create_float_widget = lambda x: widgets.FloatSlider(\n",
    "    value=1,\n",
    "    min=0,\n",
    "    max=1.0,\n",
    "    step=0.1,\n",
    "    description='{}:'.format(x),\n",
    "    disabled=False\n",
    ")\n",
    "\n",
    "dimensions_widget = widgets.IntText()\n",
    "print('Size of alphabet to be coded:')\n",
    "display(dimensions_widget)\n",
    "\n",
    "out = widgets.Output()\n",
    "display(out)\n",
    "widget_list = []\n",
    "\n",
    "# Handle changes to the dimension size to prob distribution inputs\n",
    "\n",
    "def prob_eventhandler(obj):\n",
    "    global widget_list\n",
    "    widget_list = [create_float_widget('p{}'.format(i)) for i in range(dimensions_widget.value)]\n",
    "    with out:\n",
    "        clear_output()\n",
    "        print('Probability distribution of alphabet:')\n",
    "        display(*widget_list)\n",
    "\n",
    "\n",
    "dimensions_widget.observe(prob_eventhandler, names='value')"
   ]
  },
  {
   "cell_type": "code",
   "execution_count": 21,
   "id": "a8064018-92e0-45a9-ad4b-6ad516dad246",
   "metadata": {},
   "outputs": [
    {
     "data": {
      "application/vnd.jupyter.widget-view+json": {
       "model_id": "fb416f8222c045c78e946a562a9b9113",
       "version_major": 2,
       "version_minor": 0
      },
      "text/plain": [
       "HBox(children=(VBox(children=(Button(description='correct', style=ButtonStyle()), Button(description='horse', …"
      ]
     },
     "metadata": {},
     "output_type": "display_data"
    }
   ],
   "source": [
    "words = ['correct', 'horse', 'battery', 'staple']\n",
    "items = [widgets.Button(description=w) for w in words]\n",
    "left_box = widgets.VBox([items[0], items[1]])\n",
    "right_box = widgets.VBox([items[2], items[3]])\n",
    "widgets.HBox([left_box, right_box])"
   ]
  },
  {
   "cell_type": "code",
   "execution_count": 22,
   "id": "0037df1a-ec54-4bd5-9675-0c3926ee88c5",
   "metadata": {},
   "outputs": [
    {
     "data": {
      "application/vnd.jupyter.widget-view+json": {
       "model_id": "afa95e5942fc4a5c96198cb8baadf912",
       "version_major": 2,
       "version_minor": 0
      },
      "text/plain": [
       "HBox(children=(VBox(children=(IntSlider(value=0, description='a'), IntSlider(value=0, description='b'), IntSli…"
      ]
     },
     "metadata": {},
     "output_type": "display_data"
    }
   ],
   "source": [
    "a = widgets.IntSlider(description='a')\n",
    "b = widgets.IntSlider(description='b')\n",
    "c = widgets.IntSlider(description='c')\n",
    "def f(a, b, c):\n",
    "    print('{}*{}*{}={}'.format(a, b, c, a*b*c))\n",
    "\n",
    "out = widgets.interactive_output(f, {'a': a, 'b': b, 'c': c})\n",
    "\n",
    "widgets.HBox([widgets.VBox([a, b, c]), out])"
   ]
  },
  {
   "cell_type": "code",
   "execution_count": 31,
   "id": "3f412d8a-a448-4ea4-8d83-bade6751b579",
   "metadata": {},
   "outputs": [],
   "source": [
    "def create_expanded_button(description, button_style):\n",
    "    return widgets.Button(description=description, button_style=button_style, layout=widgets.Layout(height='auto', width='auto'))\n",
    "\n",
    "header = widgets.HTML(\"<h1>Infer App</h1>\", layout=widgets.Layout(height='auto'))\n",
    "header.style.text_align='center'\n",
    "\n",
    "heatmap_selector = widgets.Dropdown(options=('Temperature', 'Precipitation'),\n",
    "                            layout=widgets.Layout(width='auto'))\n",
    "\n",
    "left_button = create_expanded_button('Left', 'info')\n",
    "center_button = create_expanded_button('Center', 'warning')\n",
    "right_button = create_expanded_button('Right', 'info')\n",
    "footer_button = create_expanded_button('Footer', 'success')"
   ]
  },
  {
   "cell_type": "code",
   "execution_count": 32,
   "id": "8a1d7e25-236b-416d-be31-29e2f80f0dc4",
   "metadata": {},
   "outputs": [
    {
     "data": {
      "application/vnd.jupyter.widget-view+json": {
       "model_id": "537aa69c478c41809a2debda5301dedd",
       "version_major": 2,
       "version_minor": 0
      },
      "text/plain": [
       "AppLayout(children=(HTML(value='<h1>Infer App</h1>', layout=Layout(grid_area='header', height='auto')), Button…"
      ]
     },
     "metadata": {},
     "output_type": "display_data"
    }
   ],
   "source": [
    "widgets.AppLayout(header=header,\n",
    "          left_sidebar=widgets.VBox([heatmap_selector]),\n",
    "          center=center_button,\n",
    "          right_sidebar=right_button,\n",
    "          footer=footer_button)"
   ]
  },
  {
   "cell_type": "code",
   "execution_count": 25,
   "id": "667cfeb1-e08d-4b42-b563-54b671208ff2",
   "metadata": {},
   "outputs": [
    {
     "data": {
      "application/vnd.jupyter.widget-view+json": {
       "model_id": "ad63c9b49e00498ebb77acd922f31735",
       "version_major": 2,
       "version_minor": 0
      },
      "text/plain": [
       "VBox(children=(Figure(axes=[Axis(scale=LinearScale()), Axis(orientation='vertical', scale=LinearScale())], fig…"
      ]
     },
     "metadata": {},
     "output_type": "display_data"
    }
   ],
   "source": [
    "# Let's begin by importing some libraries we'll need\n",
    "import numpy as np\n",
    "from bqplot import pyplot as plt\n",
    "\n",
    "\n",
    "# And creating some random data\n",
    "size = 100\n",
    "np.random.seed(0)\n",
    "x_data = np.arange(size)\n",
    "y_data = np.cumsum(np.random.randn(size) * 100.0)\n",
    "\n",
    "plt.figure(title=\"My First Plot\")\n",
    "plt.plot(x_data, y_data)\n",
    "plt.show()\n"
   ]
  },
  {
   "cell_type": "code",
   "execution_count": 48,
   "id": "991e03e7-5b7a-44e9-83ba-3fc37b2f7af2",
   "metadata": {},
   "outputs": [
    {
     "data": {
      "application/vnd.jupyter.widget-view+json": {
       "model_id": "4e0b4ad50f2849f1abef586e4debf495",
       "version_major": 2,
       "version_minor": 0
      },
      "text/plain": [
       "Tab(children=(Text(value='', description='P0'), Text(value='', description='P1')))"
      ]
     },
     "metadata": {},
     "output_type": "display_data"
    }
   ],
   "source": [
    "tab_contents = ['P0', 'P1']\n",
    "children = [widgets.Text(description=name) for name in tab_contents]\n",
    "tab = widgets.Tab()\n",
    "tab.children = children\n",
    "tab.titles = ('An accordion', 'Copy of the accordion')\n",
    "display(tab)\n",
    "\n"
   ]
  },
  {
   "cell_type": "code",
   "execution_count": 169,
   "id": "376344c0-ca40-4566-a909-0c0f83bd0019",
   "metadata": {},
   "outputs": [
    {
     "data": {
      "application/vnd.jupyter.widget-view+json": {
       "model_id": "fcfa4bb1e7ee43dabb5e623078a09745",
       "version_major": 2,
       "version_minor": 0
      },
      "text/plain": [
       "HTML(value='<h1>Connect source dataframe or stream</h1>')"
      ]
     },
     "metadata": {},
     "output_type": "display_data"
    },
    {
     "data": {
      "application/vnd.jupyter.widget-view+json": {
       "model_id": "cb70002a31b8458781ca1de7e97a9c61",
       "version_major": 2,
       "version_minor": 0
      },
      "text/plain": [
       "FileUpload(value={}, accept='.csv', description='Upload')"
      ]
     },
     "metadata": {},
     "output_type": "display_data"
    },
    {
     "data": {
      "application/vnd.jupyter.widget-view+json": {
       "model_id": "a4bc64ac3a02497e8f41b29425287701",
       "version_major": 2,
       "version_minor": 0
      },
      "text/plain": [
       "Output()"
      ]
     },
     "metadata": {},
     "output_type": "display_data"
    },
    {
     "data": {
      "application/vnd.jupyter.widget-view+json": {
       "model_id": "e424ddc4fd3e40209b33b80a723f0ab0",
       "version_major": 2,
       "version_minor": 0
      },
      "text/plain": [
       "Output()"
      ]
     },
     "metadata": {},
     "output_type": "display_data"
    },
    {
     "data": {
      "application/vnd.jupyter.widget-view+json": {
       "model_id": "61e069689f8d4987838ac0aac1d52a33",
       "version_major": 2,
       "version_minor": 0
      },
      "text/plain": [
       "Output()"
      ]
     },
     "metadata": {},
     "output_type": "display_data"
    }
   ],
   "source": [
    "import io\n",
    "import pandas as pd\n",
    "from IPython.display import display, clear_output\n",
    "\n",
    "uploader = widgets.FileUpload(\n",
    "    accept='.csv',  # Accepted file extension e.g. '.txt', '.pdf', 'image/*', 'image/*,.pdf'\n",
    "    multiple=False  # True to accept multiple files upload else False\n",
    ")\n",
    "display(widgets.HTML(\"<h1>Connect source dataframe or stream</h1>\"))\n",
    "display(uploader)\n",
    "main_display = widgets.Output()\n",
    "display(main_display)\n",
    "summary_display = widgets.Output()\n",
    "display(summary_display)\n",
    "feature_hypos_display = widgets.Output()\n",
    "display(feature_hypos_display)\n",
    "\n",
    "\n",
    "connect_btn = widgets.Button(description='Connect source data', button_style='success')\n",
    "view_data_btn = widgets.Button(description='View Data Viz')\n",
    "next_btn = widgets.Button(description='Next', \\\n",
    "                                               button_style='success')\n",
    "create_hyp_dropdown = lambda x: widgets.Dropdown(\n",
    "    options=['Normal', 'Bernoulli', 'Poisson'],\n",
    "    value='Normal',\n",
    "    description='<b>Feature hypothesis:</b>',\n",
    "    style= {'description_width': 'initial'}\n",
    ")\n",
    "\n",
    "\n",
    "global df\n",
    "\n",
    "def show_it(inputs):\n",
    "    with main_display:\n",
    "        main_display.clear_output()\n",
    "        file_name = list(inputs['new'].keys())[-1]\n",
    "        display(widgets.HBox([widgets.HTML(\"<body>{}</body>\".format(file_name)),connect_btn]))\n",
    "\n",
    "\n",
    "        \n",
    "uploader.observe(show_it, names='value')\n",
    "\n",
    "def connect_btn_eventhandler(obj):    \n",
    "    uploaded_file = uploader.value\n",
    "    df = pd.read_csv(io.BytesIO(uploaded_file[file_name]['content']))\n",
    "    with summary_display:\n",
    "        summary_display.clear_output()\n",
    "        display(widgets.HTML('<body>Connected to data source... \\n</body>'))\n",
    "        display(widgets.HTML(df.describe().to_html()))\n",
    "        header = widgets.HTML(\"<h1>Source dataframe summary</h1>\")\n",
    "        box_layout = widgets.Layout(display='flex',\n",
    "                                    flex_flow='row',\n",
    "                                    # align_items='stretch', \n",
    "                                    width='50%')\n",
    "\n",
    "        center = widgets.VBox((widgets.HTML(df.describe().to_html()),\\\n",
    "                               widgets.HBox((view_data_btn,\\\n",
    "                                           next_btn), layout=box_layout)))\n",
    "\n",
    "        display(widgets.AppLayout(header=header,\n",
    "                  # left_sidebar=widgets.VBox([heatmap_selector]),\n",
    "                  center=center))\n",
    "\n",
    "def next_btn_eventhandler(obj):\n",
    "    columns = np.array(df.dtypes.index).reshape(len(df.columns),1)\n",
    "    types = df.dtypes.values.reshape(len(df.columns),1)\n",
    "    cols_and_types = np.concatenate((columns, types), axis=1)\n",
    "    print(cols_and_types)\n",
    "    with feature_hypos_display:\n",
    "        feature_hypos_display.clear_output()\n",
    "        output = widgets.VBox([widgets.HBox([widgets.HTML('<body><b>Column:</b> {}</body>'.format(col_ty[0])), \\\n",
    "                                             widgets.HTML('<body><b>Type:</b> {}</body>'.format(col_ty[1])), \\\n",
    "                                               create_hyp_dropdown('')]) for col_ty in cols_and_types])\n",
    "        display(widgets.HTML(\"<h1>Choose feature hypotheses</h1>\"))\n",
    "        display(output)\n",
    "\n",
    "\n",
    "\n",
    "def on_change(change):\n",
    "    if change['type'] == 'change' and change['name'] == 'value':\n",
    "        print(\"changed to %s\" % change['new'])\n",
    "\n",
    "# w.observe(on_change)\n",
    "\n",
    "# display(w)\n",
    "        \n",
    "connect_btn.on_click(connect_btn_eventhandler)\n",
    "next_btn.on_click(next_btn_eventhandler)\n",
    "\n",
    "\n"
   ]
  },
  {
   "cell_type": "code",
   "execution_count": null,
   "id": "37b77cd2-9727-42c1-90e8-bca9ac1a0dfb",
   "metadata": {},
   "outputs": [],
   "source": []
  }
 ],
 "metadata": {
  "kernelspec": {
   "display_name": "Python 3",
   "language": "python",
   "name": "python3"
  },
  "language_info": {
   "codemirror_mode": {
    "name": "ipython",
    "version": 3
   },
   "file_extension": ".py",
   "mimetype": "text/x-python",
   "name": "python",
   "nbconvert_exporter": "python",
   "pygments_lexer": "ipython3",
   "version": "3.6.4"
  }
 },
 "nbformat": 4,
 "nbformat_minor": 5
}
