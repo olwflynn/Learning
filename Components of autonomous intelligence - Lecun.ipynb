{
 "cells": [
  {
   "cell_type": "markdown",
   "id": "6db721bb",
   "metadata": {},
   "source": [
    "Components of autonomous intelligence:\n",
    "- configurator\n",
    "- short-term memory\n",
    "- cost\n",
    "- world model\n",
    "- perceptor\n",
    "- actor\n",
    "\n",
    "Let us implement a simple toy version of this architecture. \n",
    "\n",
    "The inputs is the data that the perceptor receives from the world and translates to an estimate of the current state of the world. \n",
    "\n",
    "The outputs are the updated world model, cost and action set.\n",
    "\n",
    "Cost is measured by a scalar \"energy\" broken down into intrinsic i.e. purely on the current state and/or future states predicted by the world model e.g. hunger. We can also train a critic for task-specific things, it can predict future values of intrinsic costs. The ultimate goal of the agent is to minimise this cost over the long-run.\n",
    "\n",
    "Short-term memory is used by the actor to access previous states of the world when deciding which actions to take.\n",
    "\n",
    "Configurator is used to configure each component to a specific task."
   ]
  },
  {
   "cell_type": "markdown",
   "id": "c14dd8ba",
   "metadata": {},
   "source": [
    "Mode-1 perception-action episode. The perception module estimates the state of the\n",
    "world s[0] = Enc(x). The actor directly computes an action, or a short sequence of actions, through\n",
    "a policy module a[0] = A(s[0]).\n",
    "\n"
   ]
  },
  {
   "cell_type": "markdown",
   "id": "f7cd368c",
   "metadata": {},
   "source": [
    "Design:\n",
    "- Ignore configurator for now\n",
    "- "
   ]
  }
 ],
 "metadata": {
  "kernelspec": {
   "display_name": "Python 3 (ipykernel)",
   "language": "python",
   "name": "python3"
  },
  "language_info": {
   "codemirror_mode": {
    "name": "ipython",
    "version": 3
   },
   "file_extension": ".py",
   "mimetype": "text/x-python",
   "name": "python",
   "nbconvert_exporter": "python",
   "pygments_lexer": "ipython3",
   "version": "3.9.6"
  }
 },
 "nbformat": 4,
 "nbformat_minor": 5
}
