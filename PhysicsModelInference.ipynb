{
  "cells": [
    {
      "cell_type": "markdown",
      "metadata": {
        "id": "view-in-github",
        "colab_type": "text"
      },
      "source": [
        "<a href=\"https://colab.research.google.com/github/olwflynn/Learning/blob/master/PhysicsModelInference.ipynb\" target=\"_parent\"><img src=\"https://colab.research.google.com/assets/colab-badge.svg\" alt=\"Open In Colab\"/></a>"
      ]
    },
    {
      "cell_type": "code",
      "execution_count": null,
      "id": "b21d14ba-920f-48e5-808e-20045d62ef90",
      "metadata": {
        "tags": [],
        "id": "b21d14ba-920f-48e5-808e-20045d62ef90",
        "outputId": "efbac216-c86a-4c0e-f32c-a2469b02bbdc"
      },
      "outputs": [
        {
          "ename": "ModuleNotFoundError",
          "evalue": "No module named 'gym'",
          "output_type": "error",
          "traceback": [
            "\u001b[0;31m---------------------------------------------------------------------------\u001b[0m",
            "\u001b[0;31mModuleNotFoundError\u001b[0m                       Traceback (most recent call last)",
            "\u001b[0;32m<ipython-input-2-6a16676db0ad>\u001b[0m in \u001b[0;36m<module>\u001b[0;34m\u001b[0m\n\u001b[0;32m----> 1\u001b[0;31m \u001b[0;32mimport\u001b[0m \u001b[0mgym\u001b[0m\u001b[0;34m\u001b[0m\u001b[0m\n\u001b[0m\u001b[1;32m      2\u001b[0m \u001b[0mprint\u001b[0m\u001b[0;34m(\u001b[0m\u001b[0mgym\u001b[0m\u001b[0;34m.\u001b[0m\u001b[0m__version__\u001b[0m\u001b[0;34m)\u001b[0m\u001b[0;34m\u001b[0m\u001b[0m\n",
            "\u001b[0;31mModuleNotFoundError\u001b[0m: No module named 'gym'"
          ]
        }
      ],
      "source": [
        "import gym\n",
        "print(gym.__version__)"
      ]
    },
    {
      "cell_type": "markdown",
      "id": "d833d566-1203-4b92-8faf-d995e5427a17",
      "metadata": {
        "id": "d833d566-1203-4b92-8faf-d995e5427a17"
      },
      "source": [
        "TODO (each task should be able to be completed in an hour):\n",
        "- create a plot with a constant prediction - DONE\n",
        "- create a naive deterministic predictor - DONE\n",
        "- create trained predictor (pytorch logistic regression, nn and pyro)\n",
        "- create dashboard to output error rates"
      ]
    },
    {
      "cell_type": "code",
      "execution_count": null,
      "id": "3798dd16",
      "metadata": {
        "id": "3798dd16"
      },
      "outputs": [],
      "source": [
        "env = gym.make(\"InvertedDoublePendulum-v4\", render_mode=\"human\")\n",
        "env.action_space.seed(42)\n"
      ]
    },
    {
      "cell_type": "code",
      "execution_count": null,
      "id": "8963723f-d1d8-46e8-a062-277326a5efaf",
      "metadata": {
        "id": "8963723f-d1d8-46e8-a062-277326a5efaf"
      },
      "outputs": [],
      "source": [
        "# get forecast error given a predicted trajectory and observations\n",
        "\n",
        "def forecast_error(X_obs, preds):\n",
        "    \n",
        "    mse = sum(np.square(X_obs - preds))\n",
        "    \n",
        "    return mse"
      ]
    },
    {
      "cell_type": "code",
      "execution_count": null,
      "id": "ad741ec6-c60b-4124-a3ef-80944f5d6f75",
      "metadata": {
        "id": "ad741ec6-c60b-4124-a3ef-80944f5d6f75"
      },
      "outputs": [],
      "source": [
        "import numpy as np\n",
        "\n",
        "# def plt_update(ax, colors=['b']):\n",
        "#     x = np.linspace(0,1,100)\n",
        "#     if ax.lines:\n",
        "#         for line in ax.lines:\n",
        "#             line.set_xdata(x)\n",
        "#             y = np.random.random(size=(100,1))\n",
        "#             line.set_ydata(y)\n",
        "#     else:\n",
        "#         for color in colors:\n",
        "#             y = np.random.random(size=(100,1))\n",
        "#             ax.plot(x, y, color)\n",
        "#     fig.canvas.draw()\n",
        "\n",
        "\n",
        "def live_plot(data_dict, figsize=(7,5), title=''):\n",
        "    clear_output(wait=True)\n",
        "    plt.figure(figsize=figsize)\n",
        "    # for label,data in data_dict.items():\n",
        "    obs = data_dict[\"obs\"]\n",
        "    preds = data_dict[\"preds\"]\n",
        "    print(\"obs: \", obs, \"\\n preds: \",preds)\n",
        "\n",
        "    plt.plot(obs, label=\"obs\")\n",
        "    plt.plot(range(len(obs)-1, len(obs)+len(preds)-1), preds, label=\"preds\")\n",
        "    \n",
        "    plt.title(title)\n",
        "    plt.grid(True)\n",
        "    plt.xlabel('epoch')\n",
        "    plt.legend(loc='center left') # the plot evolves to the right\n",
        "    plt.show();"
      ]
    },
    {
      "cell_type": "code",
      "execution_count": null,
      "id": "cf4b649a",
      "metadata": {
        "tags": [],
        "id": "cf4b649a"
      },
      "outputs": [],
      "source": [
        "from IPython.display import clear_output\n",
        "import time\n",
        "import matplotlib.pyplot as plt\n",
        "\n",
        "observation, info = env.reset(seed=42)\n",
        "obs_history = []\n",
        "\n",
        "# fig,ax = plt.subplots(1,1)\n",
        "# ax.set_xlabel('t')\n",
        "# ax.set_ylabel('obs_idx_1')\n",
        "# ax.set_xlim(0,20)\n",
        "# ax.set_ylim(-5,5)\n",
        "\n",
        "while True:\n",
        "    observation, reward, terminated, truncated, info = env.step(env.action_space.sample())\n",
        "    obs_history.append(observation[1])\n",
        "    # plt.plot(obs_history[0][0])\n",
        "    # plt.show()\n",
        "    preds = obs_history[-1]+[0, 0.2,0.2,0.2]\n",
        "    # obs_concat_preds = obs_history\n",
        "    # for pred in preds:\n",
        "    #     obs_concat_preds.append(pred)\n",
        "    live_plot({\"obs\": obs_history, \"preds\": preds}, title=\"Radians by epoch\")\n",
        "    time.sleep(0.5)\n",
        "    if terminated or truncated:\n",
        "        print(obs_history)\n",
        "        print(\"Prediction error in last 3 steps: \", forecast_error(obs_history[-3:], preds[-3:]))\n",
        "        break\n",
        "        # obs_history = []\n",
        "        # observation, info = env.reset()\n",
        "\n",
        "env.close()"
      ]
    },
    {
      "cell_type": "code",
      "execution_count": null,
      "id": "299027e1-5125-4f2e-9cbb-6f4c09e8625f",
      "metadata": {
        "id": "299027e1-5125-4f2e-9cbb-6f4c09e8625f"
      },
      "outputs": [],
      "source": [
        "def run_program(predictor):\n",
        "    observation, info = env.reset(seed=42)\n",
        "    obs_history = []\n",
        "\n",
        "    while True:\n",
        "        observation, reward, terminated, truncated, info = env.step(env.action_space.sample())\n",
        "        obs_history.append(observation[1])\n",
        "        # plt.plot(obs_history[0][0])\n",
        "        # plt.show()\n",
        "        preds = predictor(np.array(obs_history))\n",
        "        # obs_concat_preds = obs_history\n",
        "        # for pred in preds:\n",
        "        #     obs_concat_preds.append(pred)\n",
        "        live_plot({\"obs\": obs_history, \"preds\": preds}, title=\"Radians by epoch\")\n",
        "        time.sleep(0.5)\n",
        "        if terminated or truncated:\n",
        "            print(obs_history)\n",
        "            print(\"Prediction error in last 3 steps: \", forecast_error(obs_history[-3:], preds[-3:]))\n",
        "            break\n",
        "            # obs_history = []\n",
        "            # observation, info = env.reset()\n",
        "\n",
        "    env.close()\n",
        "    "
      ]
    },
    {
      "cell_type": "markdown",
      "id": "0dac7f61-e9f7-40a1-9bee-b6fdd9b0668e",
      "metadata": {
        "id": "0dac7f61-e9f7-40a1-9bee-b6fdd9b0668e"
      },
      "source": [
        "The episode ends when any of the following happens:\n",
        "\n",
        "Truncation: The episode duration reaches 1000 timesteps.\n",
        "\n",
        "Termination: Any of the state space values is no longer finite.\n",
        "\n",
        "Termination: The absolutely value of the vertical angle between the pole and the cart is greater than 0.2 radian. i.e. 11.4592 degrees\n",
        "\n",
        "1; vertical angle of the pole on the cart; -Inf; Inf; angle (rad)"
      ]
    },
    {
      "cell_type": "markdown",
      "id": "30806ff9-8c40-4528-be89-8b210d99c109",
      "metadata": {
        "id": "30806ff9-8c40-4528-be89-8b210d99c109"
      },
      "source": [
        "*JTBD*\n",
        "\n",
        "- Run thousands of episodes to generate training data with features (current and prev angles and other data) and labels (next few angles)\n",
        "- Train forecast model to predict trajectory of angle\n",
        "- Start episode with control over speed i.e. time lag between steps\n",
        "- Predict expected time to end of episode at step t with measure of uncertainty\n",
        "- Predict trajectory of angle in next few time steps at step t\n",
        "- At end of episode output prediction errors at a few time steps\n"
      ]
    },
    {
      "cell_type": "code",
      "execution_count": null,
      "id": "665867d5-71f6-4b62-a604-a29c8f74f4bf",
      "metadata": {
        "id": "665867d5-71f6-4b62-a604-a29c8f74f4bf"
      },
      "outputs": [],
      "source": [
        "# naive forecaster where we predict the angle at the next 3 steps is the same as the current angle\n",
        "\n",
        "def naive_forecaster(X):\n",
        "    # X is the all data known to the forecaster at the time. X is only the current and previous angles for now.\n",
        "    \n",
        "    current_angle = X[-1]\n",
        "    angle_t_plus_1 = current_angle\n",
        "    angle_t_plus_2 = current_angle\n",
        "    angle_t_plus_3 = current_angle\n",
        "    \n",
        "    return np.array([current_angle, angle_t_plus_1, angle_t_plus_2, angle_t_plus_3])\n"
      ]
    },
    {
      "cell_type": "code",
      "execution_count": null,
      "id": "a3b5761a-f0c6-499c-8a14-dcdba2512d65",
      "metadata": {
        "id": "a3b5761a-f0c6-499c-8a14-dcdba2512d65"
      },
      "outputs": [],
      "source": [
        "# naive forecaster where we predict the angle at the next 3 steps is the same as the current angle\n",
        "\n",
        "def const_inc_forecaster(X):\n",
        "    # X is the all data known to the forecaster at the time. X is only the current and previous angles for now.\n",
        "    \n",
        "    current_angle = X[-1]\n",
        "    angle_t_plus_1 = current_angle + 0.1\n",
        "    angle_t_plus_2 = current_angle + 0.2\n",
        "    angle_t_plus_3 = current_angle + 0.3\n",
        "    \n",
        "    return np.array([current_angle, angle_t_plus_1, angle_t_plus_2, angle_t_plus_3])\n"
      ]
    },
    {
      "cell_type": "code",
      "execution_count": null,
      "id": "48c385c7-0a1b-417d-b42f-561efaf3e54a",
      "metadata": {
        "id": "48c385c7-0a1b-417d-b42f-561efaf3e54a"
      },
      "outputs": [],
      "source": [
        "print(obs_history)\n",
        "naive_preds = naive_forecaster(np.array(obs_history[:5]))\n",
        "print(naive_preds)"
      ]
    },
    {
      "cell_type": "code",
      "execution_count": null,
      "id": "eefda0be-faaa-436a-8b4b-62109c13f57d",
      "metadata": {
        "id": "eefda0be-faaa-436a-8b4b-62109c13f57d",
        "outputId": "b1a2964b-5e4b-42ca-decb-57565c121dc1"
      },
      "outputs": [
        {
          "ename": "NameError",
          "evalue": "name 'run_program' is not defined",
          "output_type": "error",
          "traceback": [
            "\u001b[0;31m---------------------------------------------------------------------------\u001b[0m",
            "\u001b[0;31mNameError\u001b[0m                                 Traceback (most recent call last)",
            "\u001b[0;32m<ipython-input-3-9bcc4dbca416>\u001b[0m in \u001b[0;36m<module>\u001b[0;34m\u001b[0m\n\u001b[0;32m----> 1\u001b[0;31m \u001b[0mrun_program\u001b[0m\u001b[0;34m(\u001b[0m\u001b[0mnaive_forecaster\u001b[0m\u001b[0;34m)\u001b[0m\u001b[0;34m\u001b[0m\u001b[0m\n\u001b[0m",
            "\u001b[0;31mNameError\u001b[0m: name 'run_program' is not defined"
          ]
        }
      ],
      "source": [
        "run_program(naive_forecaster)"
      ]
    },
    {
      "cell_type": "code",
      "execution_count": null,
      "id": "34a7adb9-19a5-40a3-bd79-0e995b03dacd",
      "metadata": {
        "id": "34a7adb9-19a5-40a3-bd79-0e995b03dacd"
      },
      "outputs": [],
      "source": [
        "run_program(const_inc_forecaster)"
      ]
    },
    {
      "cell_type": "code",
      "execution_count": null,
      "id": "3cc59107-4010-497d-bfe3-6e7da4d5a441",
      "metadata": {
        "id": "3cc59107-4010-497d-bfe3-6e7da4d5a441"
      },
      "outputs": [],
      "source": [
        "# \"Learn\" from single episode. NN which outputs last 3 time steps\n",
        "import pandas as pd\n",
        "\n",
        "def get_data_for_ep():\n",
        "    observation, info = env.reset(seed=42)\n",
        "    obs_history = []\n",
        "    time_step = 0\n",
        "    while True:\n",
        "        observation, reward, terminated, truncated, info = env.step(env.action_space.sample())\n",
        "        obs_history.append(np.append(observation,[time_step]))\n",
        "        time_step+=1\n",
        "        if terminated or truncated:\n",
        "                break\n",
        "    env.close()\n",
        "    obs_history_df = pd.DataFrame(obs_history, columns=[\"feature_{}\".format(i) for i in range(len(obs_history[0]))])\n",
        "    \n",
        "    return obs_history_df\n",
        "\n"
      ]
    },
    {
      "cell_type": "code",
      "execution_count": null,
      "id": "208e1acd-edfa-4931-95c9-6dd12d406a11",
      "metadata": {
        "id": "208e1acd-edfa-4931-95c9-6dd12d406a11"
      },
      "outputs": [],
      "source": [
        "print(get_data_for_ep())"
      ]
    },
    {
      "cell_type": "code",
      "execution_count": null,
      "id": "f396c4bf-22e9-485e-8470-43fc0af9e0dd",
      "metadata": {
        "id": "f396c4bf-22e9-485e-8470-43fc0af9e0dd"
      },
      "outputs": [],
      "source": [
        "def create_rows_for_episode(ep_num, time_delay=0):\n",
        "  env.reset(seed=42)\n",
        "  for _ in range(100):\n",
        "    observation, reward, terminated, truncated, info = env.step(env.action_space.sample())\n",
        "    time.sleep(time_delay)\n",
        "    features = np.array(observation[:8]).reshape(1, 8)\n",
        "    if _ == 0:\n",
        "      rows_for_ep = features\n",
        "    else:\n",
        "      rows_for_ep = np.concatenate((rows_for_ep, features), axis=0)\n",
        "    if terminated or truncated:\n",
        "      labels = np.array(range(_, -1,-1)).reshape(_+1, 1)\n",
        "      ep_num_arr = np.array([ep_num for i in range(len(labels))]).reshape(_+1, 1)\n",
        "      assert len(labels) == len(rows_for_ep)\n",
        "      rows_for_ep = np.concatenate((rows_for_ep, labels), axis=1)\n",
        "      rows_for_ep = np.concatenate((rows_for_ep, ep_num_arr), axis=1)\n",
        "      # print(len(rows_for_ep), type(rows_for_ep))\n",
        "      return rows_for_ep"
      ]
    },
    {
      "cell_type": "code",
      "execution_count": null,
      "id": "1b2ece3d-28a7-45dd-9ba2-fb2ec47bb813",
      "metadata": {
        "id": "1b2ece3d-28a7-45dd-9ba2-fb2ec47bb813"
      },
      "outputs": [],
      "source": [
        "# create a dataset with positions of the pendulum as features and time to terminate as label\n",
        "\n",
        "import pandas as pd\n",
        "\n",
        "def run_episodes(num_eps, time_delay):\n",
        "\n",
        "    columns = []\n",
        "    for i in range(8):\n",
        "      columns.append(f'feature_{i}')\n",
        "    columns.append('time_to_terminate')\n",
        "    columns.append('ep_num')\n",
        "\n",
        "    #create array\n",
        "    num_episodes = num_eps\n",
        "    for j in range(num_episodes):\n",
        "      episode_rows = create_rows_for_episode(j, time_delay=time_delay)\n",
        "      if j == 0:\n",
        "        arr = episode_rows\n",
        "      else:\n",
        "        arr = np.concatenate([arr, episode_rows], axis=0)\n",
        "    env.close()\n",
        "\n",
        "    df = pd.DataFrame(arr, columns=columns)\n",
        "    # print(df.head())\n",
        "    # print(df.describe())\n",
        "    # print(df.info())\n",
        "\n",
        "    ep_split_df = [df[df['ep_num']==i] for i in range(1)]\n",
        "    print(ep_split_df[0])\n",
        "    num_features = 8\n",
        "    fig, axs = plt.subplots(num_features+1, figsize=(12, 8))\n",
        "    plt.suptitle('Episode plots')\n",
        "    for i in range(num_features):\n",
        "      for el in ep_split_df:\n",
        "        ep = el['ep_num'].values[0]\n",
        "        axs[i].plot(el[f'feature_{i}'], label=f'episode_{int(ep)}')\n",
        "        axs[i].set_title(f'feature_{i}', fontsize='small')\n",
        "    axs[8].plot(ep_split_df[0]['time_to_terminate'], label='time_to_terminate')\n",
        "    axs[8].set_title('time_to_terminate', fontsize='small')\n",
        "    # plt.legend(loc='right')\n",
        "    plt.show()"
      ]
    },
    {
      "cell_type": "code",
      "execution_count": null,
      "id": "4d6a844f-d24a-4ab3-ade5-f41469ce4b72",
      "metadata": {
        "id": "4d6a844f-d24a-4ab3-ade5-f41469ce4b72"
      },
      "outputs": [],
      "source": [
        "run_episodes(1, 0.5)"
      ]
    },
    {
      "cell_type": "code",
      "execution_count": null,
      "id": "0cf91c7f-b380-4d32-bdcc-8def87085fe8",
      "metadata": {
        "id": "0cf91c7f-b380-4d32-bdcc-8def87085fe8"
      },
      "outputs": [],
      "source": [
        "# create model class and load models params from /models dir\n",
        "from torch import nn\n",
        "\n",
        "class DenseNet(nn.Module):\n",
        "  def __init__(self):\n",
        "    super(DenseNet, self).__init__()\n",
        "    self.layer1 = nn.Linear(8,20)\n",
        "    self.layer2 = nn.Linear(20,1)\n",
        "    self.softplus = nn.Softplus()\n",
        "  \n",
        "  def forward(self, X):\n",
        "    hidden1 = self.layer1(X)\n",
        "    hidden2 = self.layer2(hidden1)\n",
        "\n",
        "    output = self.softplus(hidden2)\n",
        "    return output\n",
        "\n",
        "PATH = 'models/10000eps_DenseNet_10000epochs.pt'\n",
        "\n",
        "loaded_dense_net = DenseNet()\n",
        "loaded_dense_net.load_state_dict(torch.load(PATH))"
      ]
    },
    {
      "cell_type": "code",
      "execution_count": null,
      "id": "e696cac2-b254-430c-8988-aaa81b9f4687",
      "metadata": {
        "id": "e696cac2-b254-430c-8988-aaa81b9f4687"
      },
      "outputs": [],
      "source": []
    }
  ],
  "metadata": {
    "kernelspec": {
      "display_name": "Python 3",
      "language": "python",
      "name": "python3"
    },
    "language_info": {
      "codemirror_mode": {
        "name": "ipython",
        "version": 3
      },
      "file_extension": ".py",
      "mimetype": "text/x-python",
      "name": "python",
      "nbconvert_exporter": "python",
      "pygments_lexer": "ipython3",
      "version": "3.6.4"
    },
    "colab": {
      "provenance": [],
      "include_colab_link": true
    }
  },
  "nbformat": 4,
  "nbformat_minor": 5
}