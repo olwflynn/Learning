{
  "cells": [
    {
      "cell_type": "code",
      "execution_count": 2,
      "metadata": {
        "id": "s7PPg0VZG5cK",
        "colab": {
          "base_uri": "https://localhost:8080/"
        },
        "outputId": "ce913944-cd38-4d3f-d91f-fb9c904b385b"
      },
      "outputs": [
        {
          "output_type": "stream",
          "name": "stdout",
          "text": [
            "Reading package lists... Done\n",
            "Building dependency tree       \n",
            "Reading state information... Done\n",
            "libgl1-mesa-dev is already the newest version (20.0.8-0ubuntu1~18.04.1).\n",
            "libgl1-mesa-dev set to manually installed.\n",
            "software-properties-common is already the newest version (0.96.24.32.18).\n",
            "The following package was automatically installed and is no longer required:\n",
            "  libnvidia-common-460\n",
            "Use 'apt autoremove' to remove it.\n",
            "Suggested packages:\n",
            "  glew-utils\n",
            "The following NEW packages will be installed:\n",
            "  libgl1-mesa-glx libglew-dev libglew2.0 libosmesa6 libosmesa6-dev\n",
            "0 upgraded, 5 newly installed, 0 to remove and 20 not upgraded.\n",
            "Need to get 2,916 kB of archives.\n",
            "After this operation, 12.6 MB of additional disk space will be used.\n",
            "Get:1 http://archive.ubuntu.com/ubuntu bionic-updates/main amd64 libgl1-mesa-glx amd64 20.0.8-0ubuntu1~18.04.1 [5,532 B]\n",
            "Get:2 http://archive.ubuntu.com/ubuntu bionic/universe amd64 libglew2.0 amd64 2.0.0-5 [140 kB]\n",
            "Get:3 http://archive.ubuntu.com/ubuntu bionic/universe amd64 libglew-dev amd64 2.0.0-5 [120 kB]\n",
            "Get:4 http://archive.ubuntu.com/ubuntu bionic-updates/main amd64 libosmesa6 amd64 20.0.8-0ubuntu1~18.04.1 [2,641 kB]\n",
            "Get:5 http://archive.ubuntu.com/ubuntu bionic-updates/main amd64 libosmesa6-dev amd64 20.0.8-0ubuntu1~18.04.1 [8,828 B]\n",
            "Fetched 2,916 kB in 1s (2,051 kB/s)\n",
            "Selecting previously unselected package libgl1-mesa-glx:amd64.\n",
            "(Reading database ... 124016 files and directories currently installed.)\n",
            "Preparing to unpack .../libgl1-mesa-glx_20.0.8-0ubuntu1~18.04.1_amd64.deb ...\n",
            "Unpacking libgl1-mesa-glx:amd64 (20.0.8-0ubuntu1~18.04.1) ...\n",
            "Selecting previously unselected package libglew2.0:amd64.\n",
            "Preparing to unpack .../libglew2.0_2.0.0-5_amd64.deb ...\n",
            "Unpacking libglew2.0:amd64 (2.0.0-5) ...\n",
            "Selecting previously unselected package libglew-dev:amd64.\n",
            "Preparing to unpack .../libglew-dev_2.0.0-5_amd64.deb ...\n",
            "Unpacking libglew-dev:amd64 (2.0.0-5) ...\n",
            "Selecting previously unselected package libosmesa6:amd64.\n",
            "Preparing to unpack .../libosmesa6_20.0.8-0ubuntu1~18.04.1_amd64.deb ...\n",
            "Unpacking libosmesa6:amd64 (20.0.8-0ubuntu1~18.04.1) ...\n",
            "Selecting previously unselected package libosmesa6-dev:amd64.\n",
            "Preparing to unpack .../libosmesa6-dev_20.0.8-0ubuntu1~18.04.1_amd64.deb ...\n",
            "Unpacking libosmesa6-dev:amd64 (20.0.8-0ubuntu1~18.04.1) ...\n",
            "Setting up libosmesa6:amd64 (20.0.8-0ubuntu1~18.04.1) ...\n",
            "Setting up libgl1-mesa-glx:amd64 (20.0.8-0ubuntu1~18.04.1) ...\n",
            "Setting up libglew2.0:amd64 (2.0.0-5) ...\n",
            "Setting up libglew-dev:amd64 (2.0.0-5) ...\n",
            "Setting up libosmesa6-dev:amd64 (20.0.8-0ubuntu1~18.04.1) ...\n",
            "Processing triggers for libc-bin (2.27-3ubuntu1.6) ...\n",
            "Reading package lists... Done\n",
            "Building dependency tree       \n",
            "Reading state information... Done\n",
            "The following package was automatically installed and is no longer required:\n",
            "  libnvidia-common-460\n",
            "Use 'apt autoremove' to remove it.\n",
            "The following NEW packages will be installed:\n",
            "  patchelf\n",
            "0 upgraded, 1 newly installed, 0 to remove and 20 not upgraded.\n",
            "Need to get 46.5 kB of archives.\n",
            "After this operation, 130 kB of additional disk space will be used.\n",
            "Get:1 http://archive.ubuntu.com/ubuntu bionic/universe amd64 patchelf amd64 0.9-1 [46.5 kB]\n",
            "Fetched 46.5 kB in 1s (83.8 kB/s)\n",
            "Selecting previously unselected package patchelf.\n",
            "(Reading database ... 124054 files and directories currently installed.)\n",
            "Preparing to unpack .../patchelf_0.9-1_amd64.deb ...\n",
            "Unpacking patchelf (0.9-1) ...\n",
            "Setting up patchelf (0.9-1) ...\n",
            "Processing triggers for man-db (2.8.3-2ubuntu0.1) ...\n"
          ]
        }
      ],
      "source": [
        "!apt-get install -y \\\n",
        "    libgl1-mesa-dev \\\n",
        "    libgl1-mesa-glx \\\n",
        "    libglew-dev \\\n",
        "    libosmesa6-dev \\\n",
        "    software-properties-common\n",
        "\n",
        "!apt-get install -y patchelf"
      ],
      "id": "s7PPg0VZG5cK"
    },
    {
      "cell_type": "code",
      "execution_count": 3,
      "metadata": {
        "id": "5w7tslZCHl0T",
        "colab": {
          "base_uri": "https://localhost:8080/"
        },
        "outputId": "ed04c99f-2202-4a4e-baff-7c461f392134"
      },
      "outputs": [
        {
          "output_type": "stream",
          "name": "stdout",
          "text": [
            "Looking in indexes: https://pypi.org/simple, https://us-python.pkg.dev/colab-wheels/public/simple/\n",
            "Requirement already satisfied: gym in /usr/local/lib/python3.8/dist-packages (0.25.2)\n",
            "Requirement already satisfied: numpy>=1.18.0 in /usr/local/lib/python3.8/dist-packages (from gym) (1.21.6)\n",
            "Requirement already satisfied: cloudpickle>=1.2.0 in /usr/local/lib/python3.8/dist-packages (from gym) (1.5.0)\n",
            "Requirement already satisfied: gym-notices>=0.0.4 in /usr/local/lib/python3.8/dist-packages (from gym) (0.0.8)\n",
            "Requirement already satisfied: importlib-metadata>=4.8.0 in /usr/local/lib/python3.8/dist-packages (from gym) (5.2.0)\n",
            "Requirement already satisfied: zipp>=0.5 in /usr/local/lib/python3.8/dist-packages (from importlib-metadata>=4.8.0->gym) (3.11.0)\n"
          ]
        }
      ],
      "source": [
        "!pip install gym"
      ],
      "id": "5w7tslZCHl0T"
    },
    {
      "cell_type": "code",
      "execution_count": 4,
      "metadata": {
        "id": "3qeAEFtTG8dV",
        "colab": {
          "base_uri": "https://localhost:8080/"
        },
        "outputId": "3a23e4af-1bb1-4727-a1f8-ac2a7cfab84d"
      },
      "outputs": [
        {
          "output_type": "stream",
          "name": "stdout",
          "text": [
            "Looking in indexes: https://pypi.org/simple, https://us-python.pkg.dev/colab-wheels/public/simple/\n",
            "Collecting free-mujoco-py\n",
            "  Downloading free_mujoco_py-2.1.6-py3-none-any.whl (14.1 MB)\n",
            "\u001b[2K     \u001b[90m━━━━━━━━━━━━━━━━━━━━━━━━━━━━━━━━━━━━━━━━\u001b[0m \u001b[32m14.1/14.1 MB\u001b[0m \u001b[31m27.4 MB/s\u001b[0m eta \u001b[36m0:00:00\u001b[0m\n",
            "\u001b[?25hCollecting mujoco\n",
            "  Downloading mujoco-2.3.1.post1-cp38-cp38-manylinux_2_17_x86_64.manylinux2014_x86_64.whl (4.2 MB)\n",
            "\u001b[2K     \u001b[90m━━━━━━━━━━━━━━━━━━━━━━━━━━━━━━━━━━━━━━━━\u001b[0m \u001b[32m4.2/4.2 MB\u001b[0m \u001b[31m62.8 MB/s\u001b[0m eta \u001b[36m0:00:00\u001b[0m\n",
            "\u001b[?25hRequirement already satisfied: imageio<3.0.0,>=2.9.0 in /usr/local/lib/python3.8/dist-packages (from free-mujoco-py) (2.9.0)\n",
            "Requirement already satisfied: cffi<2.0.0,>=1.15.0 in /usr/local/lib/python3.8/dist-packages (from free-mujoco-py) (1.15.1)\n",
            "Requirement already satisfied: numpy<2.0.0,>=1.21.3 in /usr/local/lib/python3.8/dist-packages (from free-mujoco-py) (1.21.6)\n",
            "Collecting fasteners==0.15\n",
            "  Downloading fasteners-0.15-py2.py3-none-any.whl (23 kB)\n",
            "Requirement already satisfied: Cython<0.30.0,>=0.29.24 in /usr/local/lib/python3.8/dist-packages (from free-mujoco-py) (0.29.32)\n",
            "Collecting glfw<2.0.0,>=1.4.0\n",
            "  Downloading glfw-1.12.0-py2.py27.py3.py30.py31.py32.py33.py34.py35.py36.py37.py38-none-manylinux2014_x86_64.whl (203 kB)\n",
            "\u001b[2K     \u001b[90m━━━━━━━━━━━━━━━━━━━━━━━━━━━━━━━━━━━━━━\u001b[0m \u001b[32m203.7/203.7 KB\u001b[0m \u001b[31m23.8 MB/s\u001b[0m eta \u001b[36m0:00:00\u001b[0m\n",
            "\u001b[?25hCollecting monotonic>=0.1\n",
            "  Downloading monotonic-1.6-py2.py3-none-any.whl (8.2 kB)\n",
            "Requirement already satisfied: six in /usr/local/lib/python3.8/dist-packages (from fasteners==0.15->free-mujoco-py) (1.15.0)\n",
            "Requirement already satisfied: pyopengl in /usr/local/lib/python3.8/dist-packages (from mujoco) (3.1.6)\n",
            "Requirement already satisfied: absl-py in /usr/local/lib/python3.8/dist-packages (from mujoco) (1.3.0)\n",
            "Requirement already satisfied: pycparser in /usr/local/lib/python3.8/dist-packages (from cffi<2.0.0,>=1.15.0->free-mujoco-py) (2.21)\n",
            "Requirement already satisfied: pillow in /usr/local/lib/python3.8/dist-packages (from imageio<3.0.0,>=2.9.0->free-mujoco-py) (7.1.2)\n",
            "Installing collected packages: monotonic, glfw, mujoco, fasteners, free-mujoco-py\n",
            "Successfully installed fasteners-0.15 free-mujoco-py-2.1.6 glfw-1.12.0 monotonic-1.6 mujoco-2.3.1.post1\n"
          ]
        }
      ],
      "source": [
        "!pip install free-mujoco-py mujoco"
      ],
      "id": "3qeAEFtTG8dV"
    },
    {
      "cell_type": "markdown",
      "metadata": {
        "id": "MHtnurnyIwaZ"
      },
      "source": [
        "**Now you need to restart the runtime as numpy is apparently automatically imported...**"
      ],
      "id": "MHtnurnyIwaZ"
    },
    {
      "cell_type": "code",
      "execution_count": 5,
      "metadata": {
        "id": "TtWrmOCKHD6I",
        "colab": {
          "base_uri": "https://localhost:8080/"
        },
        "outputId": "249a3db4-3317-4426-900c-4f0bdd0ede7e"
      },
      "outputs": [
        {
          "output_type": "stream",
          "name": "stdout",
          "text": [
            "Compiling /usr/local/lib/python3.8/dist-packages/mujoco_py/cymj.pyx because it changed.\n",
            "[1/1] Cythonizing /usr/local/lib/python3.8/dist-packages/mujoco_py/cymj.pyx\n",
            "running build_ext\n",
            "building 'mujoco_py.cymj' extension\n",
            "creating /usr/local/lib/python3.8/dist-packages/mujoco_py/generated/_pyxbld_2.0.2.13_38_linuxcpuextensionbuilder\n",
            "creating /usr/local/lib/python3.8/dist-packages/mujoco_py/generated/_pyxbld_2.0.2.13_38_linuxcpuextensionbuilder/temp.linux-x86_64-3.8\n",
            "creating /usr/local/lib/python3.8/dist-packages/mujoco_py/generated/_pyxbld_2.0.2.13_38_linuxcpuextensionbuilder/temp.linux-x86_64-3.8/usr\n",
            "creating /usr/local/lib/python3.8/dist-packages/mujoco_py/generated/_pyxbld_2.0.2.13_38_linuxcpuextensionbuilder/temp.linux-x86_64-3.8/usr/local\n",
            "creating /usr/local/lib/python3.8/dist-packages/mujoco_py/generated/_pyxbld_2.0.2.13_38_linuxcpuextensionbuilder/temp.linux-x86_64-3.8/usr/local/lib\n",
            "creating /usr/local/lib/python3.8/dist-packages/mujoco_py/generated/_pyxbld_2.0.2.13_38_linuxcpuextensionbuilder/temp.linux-x86_64-3.8/usr/local/lib/python3.8\n",
            "creating /usr/local/lib/python3.8/dist-packages/mujoco_py/generated/_pyxbld_2.0.2.13_38_linuxcpuextensionbuilder/temp.linux-x86_64-3.8/usr/local/lib/python3.8/dist-packages\n",
            "creating /usr/local/lib/python3.8/dist-packages/mujoco_py/generated/_pyxbld_2.0.2.13_38_linuxcpuextensionbuilder/temp.linux-x86_64-3.8/usr/local/lib/python3.8/dist-packages/mujoco_py\n",
            "creating /usr/local/lib/python3.8/dist-packages/mujoco_py/generated/_pyxbld_2.0.2.13_38_linuxcpuextensionbuilder/temp.linux-x86_64-3.8/usr/local/lib/python3.8/dist-packages/mujoco_py/gl\n",
            "x86_64-linux-gnu-gcc -pthread -Wno-unused-result -Wsign-compare -DNDEBUG -g -fwrapv -O2 -Wall -g -fstack-protector-strong -Wformat -Werror=format-security -g -fwrapv -O2 -g -fstack-protector-strong -Wformat -Werror=format-security -Wdate-time -D_FORTIFY_SOURCE=2 -fPIC -I/usr/local/lib/python3.8/dist-packages/mujoco_py -I/usr/local/lib/python3.8/dist-packages/mujoco_py/binaries/linux/mujoco210/include -I/usr/local/lib/python3.8/dist-packages/numpy/core/include -I/usr/include/python3.8 -c /usr/local/lib/python3.8/dist-packages/mujoco_py/cymj.c -o /usr/local/lib/python3.8/dist-packages/mujoco_py/generated/_pyxbld_2.0.2.13_38_linuxcpuextensionbuilder/temp.linux-x86_64-3.8/usr/local/lib/python3.8/dist-packages/mujoco_py/cymj.o -fopenmp -w\n",
            "x86_64-linux-gnu-gcc -pthread -Wno-unused-result -Wsign-compare -DNDEBUG -g -fwrapv -O2 -Wall -g -fstack-protector-strong -Wformat -Werror=format-security -g -fwrapv -O2 -g -fstack-protector-strong -Wformat -Werror=format-security -Wdate-time -D_FORTIFY_SOURCE=2 -fPIC -I/usr/local/lib/python3.8/dist-packages/mujoco_py -I/usr/local/lib/python3.8/dist-packages/mujoco_py/binaries/linux/mujoco210/include -I/usr/local/lib/python3.8/dist-packages/numpy/core/include -I/usr/include/python3.8 -c /usr/local/lib/python3.8/dist-packages/mujoco_py/gl/osmesashim.c -o /usr/local/lib/python3.8/dist-packages/mujoco_py/generated/_pyxbld_2.0.2.13_38_linuxcpuextensionbuilder/temp.linux-x86_64-3.8/usr/local/lib/python3.8/dist-packages/mujoco_py/gl/osmesashim.o -fopenmp -w\n",
            "creating /usr/local/lib/python3.8/dist-packages/mujoco_py/generated/_pyxbld_2.0.2.13_38_linuxcpuextensionbuilder/lib.linux-x86_64-3.8\n",
            "creating /usr/local/lib/python3.8/dist-packages/mujoco_py/generated/_pyxbld_2.0.2.13_38_linuxcpuextensionbuilder/lib.linux-x86_64-3.8/mujoco_py\n",
            "x86_64-linux-gnu-gcc -pthread -shared -Wl,-O1 -Wl,-Bsymbolic-functions -Wl,-Bsymbolic-functions -g -fwrapv -O2 -Wl,-Bsymbolic-functions -g -fwrapv -O2 -g -fstack-protector-strong -Wformat -Werror=format-security -Wdate-time -D_FORTIFY_SOURCE=2 /usr/local/lib/python3.8/dist-packages/mujoco_py/generated/_pyxbld_2.0.2.13_38_linuxcpuextensionbuilder/temp.linux-x86_64-3.8/usr/local/lib/python3.8/dist-packages/mujoco_py/cymj.o /usr/local/lib/python3.8/dist-packages/mujoco_py/generated/_pyxbld_2.0.2.13_38_linuxcpuextensionbuilder/temp.linux-x86_64-3.8/usr/local/lib/python3.8/dist-packages/mujoco_py/gl/osmesashim.o -L/usr/local/lib/python3.8/dist-packages/mujoco_py/binaries/linux/mujoco210/bin -Wl,--enable-new-dtags,-R/usr/local/lib/python3.8/dist-packages/mujoco_py/binaries/linux/mujoco210/bin -lmujoco210 -lglewosmesa -lOSMesa -lGL -o /usr/local/lib/python3.8/dist-packages/mujoco_py/generated/_pyxbld_2.0.2.13_38_linuxcpuextensionbuilder/lib.linux-x86_64-3.8/mujoco_py/cymj.cpython-38-x86_64-linux-gnu.so -fopenmp\n"
          ]
        }
      ],
      "source": [
        "import mujoco_py\n",
        "import gym"
      ],
      "id": "TtWrmOCKHD6I"
    },
    {
      "cell_type": "code",
      "execution_count": 6,
      "id": "ad741ec6-c60b-4124-a3ef-80944f5d6f75",
      "metadata": {
        "id": "ad741ec6-c60b-4124-a3ef-80944f5d6f75"
      },
      "outputs": [],
      "source": [
        "import numpy as np\n",
        "\n",
        "# def plt_update(ax, colors=['b']):\n",
        "#     x = np.linspace(0,1,100)\n",
        "#     if ax.lines:\n",
        "#         for line in ax.lines:\n",
        "#             line.set_xdata(x)\n",
        "#             y = np.random.random(size=(100,1))\n",
        "#             line.set_ydata(y)\n",
        "#     else:\n",
        "#         for color in colors:\n",
        "#             y = np.random.random(size=(100,1))\n",
        "#             ax.plot(x, y, color)\n",
        "#     fig.canvas.draw()\n",
        "\n",
        "\n",
        "def live_plot(data_dict, figsize=(7,5), title=''):\n",
        "    # clear_output(wait=True)\n",
        "    plt.figure(figsize=figsize)\n",
        "    # for label,data in data_dict.items():\n",
        "    obs = data_dict[\"obs\"]\n",
        "    preds = data_dict[\"preds\"]\n",
        "    print(\"obs: \", obs, \"\\n preds: \",preds)\n",
        "\n",
        "    plt.plot(obs, label=\"obs\")\n",
        "    plt.plot(range(len(obs)-1, len(obs)+len(preds)-1), preds, label=\"preds\")\n",
        "    \n",
        "    plt.title(title)\n",
        "    plt.grid(True)\n",
        "    plt.xlabel('epoch')\n",
        "    plt.legend(loc='center left') # the plot evolves to the right\n",
        "    plt.show();"
      ]
    },
    {
      "cell_type": "markdown",
      "source": [
        "Need to restart runtime if cant find 'mujuco'"
      ],
      "metadata": {
        "id": "tGiYgjBWd-Ha"
      },
      "id": "tGiYgjBWd-Ha"
    },
    {
      "cell_type": "code",
      "source": [
        "env = gym.make(\"InvertedDoublePendulum-v4\", new_step_api=True)\n",
        "env.reset(seed=42)\n",
        "env.step(env.action_space.sample())"
      ],
      "metadata": {
        "colab": {
          "base_uri": "https://localhost:8080/"
        },
        "id": "7YlxRJWa1mYd",
        "outputId": "c2c1c231-6b5f-458d-c00b-ba4324ad1a70"
      },
      "id": "7YlxRJWa1mYd",
      "execution_count": 7,
      "outputs": [
        {
          "output_type": "execute_result",
          "data": {
            "text/plain": [
              "(array([ 0.07299097, -0.05159012,  0.10620428,  0.99866834,  0.99434433,\n",
              "         0.6352774 , -1.38973826,  1.53155954,  0.        ,  0.        ,\n",
              "         0.        ]), 9.343562031618124, False, False, {})"
            ]
          },
          "metadata": {},
          "execution_count": 7
        }
      ]
    },
    {
      "cell_type": "code",
      "execution_count": 9,
      "id": "665867d5-71f6-4b62-a604-a29c8f74f4bf",
      "metadata": {
        "id": "665867d5-71f6-4b62-a604-a29c8f74f4bf"
      },
      "outputs": [],
      "source": [
        "# naive forecaster where we predict the angle at the next 3 steps is the same as the current angle\n",
        "\n",
        "def naive_forecaster(X):\n",
        "    # X is the all data known to the forecaster at the time. X is only the current and previous angles for now.\n",
        "    \n",
        "    current_angle = X[-1]\n",
        "    angle_t_plus_1 = current_angle\n",
        "    angle_t_plus_2 = current_angle\n",
        "    angle_t_plus_3 = current_angle\n",
        "    \n",
        "    return np.array([angle_t_plus_1, angle_t_plus_2, angle_t_plus_3])\n"
      ]
    },
    {
      "cell_type": "code",
      "execution_count": 10,
      "id": "48c385c7-0a1b-417d-b42f-561efaf3e54a",
      "metadata": {
        "colab": {
          "base_uri": "https://localhost:8080/"
        },
        "id": "48c385c7-0a1b-417d-b42f-561efaf3e54a",
        "outputId": "3a944764-a455-4ae5-863e-8a9db8b6fe71"
      },
      "outputs": [
        {
          "output_type": "stream",
          "name": "stdout",
          "text": [
            "[-0.140234288211304, -0.2096234453190655, -0.24752377132909917, -0.3705673325816683, -0.5864474055902348, -0.7880572166631437]\n",
            "[-0.58644741 -0.58644741 -0.58644741]\n"
          ]
        }
      ],
      "source": [
        "print(obs_history)\n",
        "naive_preds = naive_forecaster(np.array(obs_history[:5]))\n",
        "print(naive_preds)"
      ]
    },
    {
      "cell_type": "code",
      "execution_count": 11,
      "id": "8963723f-d1d8-46e8-a062-277326a5efaf",
      "metadata": {
        "id": "8963723f-d1d8-46e8-a062-277326a5efaf"
      },
      "outputs": [],
      "source": [
        "# get forecast error given a predicted trajectory and observations\n",
        "\n",
        "def forecast_error(X_obs, preds):\n",
        "    \n",
        "    mse = sum(np.square(X_obs - preds))\n",
        "    \n",
        "    return mse"
      ]
    },
    {
      "cell_type": "code",
      "execution_count": 12,
      "id": "0e552719-81ee-4590-a9ec-41d69ffd54e9",
      "metadata": {
        "colab": {
          "base_uri": "https://localhost:8080/"
        },
        "id": "0e552719-81ee-4590-a9ec-41d69ffd54e9",
        "outputId": "86d0447d-b7a2-4866-f7a7-7e74e29c3e50"
      },
      "outputs": [
        {
          "output_type": "execute_result",
          "data": {
            "text/plain": [
              "0.087250721843038"
            ]
          },
          "metadata": {},
          "execution_count": 12
        }
      ],
      "source": [
        "forecast_error(obs_history[-3:], naive_preds)"
      ]
    },
    {
      "cell_type": "code",
      "execution_count": 13,
      "id": "cf4b649a",
      "metadata": {
        "tags": [],
        "colab": {
          "base_uri": "https://localhost:8080/",
          "height": 469
        },
        "id": "cf4b649a",
        "outputId": "54eb8adb-032a-48d4-c1d5-8b55f5a71647"
      },
      "outputs": [
        {
          "output_type": "stream",
          "name": "stdout",
          "text": [
            "epoch # 0\n",
            "[ 0.47128299 -0.92872423  0.98885852  0.37077124  0.14885841  1.4328986\n",
            " -5.74421262  4.63121196  0.          0.          0.        ] 8.435527054291503 True False {}\n",
            "obs:  [-0.9287242257236663] \n",
            " preds:  [-0.92872423 -0.72872423 -0.72872423 -0.72872423]\n"
          ]
        },
        {
          "output_type": "display_data",
          "data": {
            "text/plain": [
              "<Figure size 504x360 with 1 Axes>"
            ],
            "image/png": "[encoded data removed]"
          },
          "metadata": {
            "needs_background": "light"
          }
        },
        {
          "output_type": "stream",
          "name": "stdout",
          "text": [
            "[-0.9287242257236663]\n",
            "Prediction error in last 3 steps:  0.11999999999999994\n"
          ]
        }
      ],
      "source": [
        "from IPython.display import clear_output\n",
        "import time\n",
        "import matplotlib.pyplot as plt\n",
        "\n",
        "# observation, info = env.reset(seed=42)\n",
        "obs_history = []\n",
        "# fig,ax = plt.subplots(1,1)\n",
        "# ax.set_xlabel('t')\n",
        "# ax.set_ylabel('obs_idx_1')\n",
        "# ax.set_xlim(0,20)\n",
        "# ax.set_ylim(-5,5)\n",
        "\n",
        "for _ in range(10):\n",
        "    print(\"epoch #\", _)\n",
        "    observation, reward, terminated, truncated, info = env.step(env.action_space.sample())\n",
        "    print(observation, reward, terminated, truncated, info)\n",
        "    obs_history.append(observation[1])\n",
        "    # plt.plot(obs_history[0][0])\n",
        "    # plt.show()\n",
        "    preds = obs_history[-1]+[0, 0.2,0.2,0.2]\n",
        "    # obs_concat_preds = obs_history\n",
        "    # for pred in preds:\n",
        "    #     obs_concat_preds.append(pred)\n",
        "    live_plot({\"obs\": obs_history, \"preds\": preds}, title=\"Radians by epoch\")\n",
        "    time.sleep(1)\n",
        "    if terminated or truncated:\n",
        "        print(obs_history)\n",
        "        print(\"Prediction error in last 3 steps: \", forecast_error(obs_history[-3:], preds[-3:]))\n",
        "        break\n",
        "        # obs_history = []\n",
        "        # observation, info = env.reset()\n",
        "\n",
        "env.close()"
      ]
    },
    {
      "cell_type": "markdown",
      "id": "0dac7f61-e9f7-40a1-9bee-b6fdd9b0668e",
      "metadata": {
        "id": "0dac7f61-e9f7-40a1-9bee-b6fdd9b0668e"
      },
      "source": [
        "The episode ends when any of the following happens:\n",
        "\n",
        "Truncation: The episode duration reaches 1000 timesteps.\n",
        "\n",
        "Termination: Any of the state space values is no longer finite.\n",
        "\n",
        "Termination: The absolutely value of the vertical angle between the pole and the cart is greater than 0.2 radian. i.e. 11.4592 degrees\n",
        "\n",
        "1; vertical angle of the pole on the cart; -Inf; Inf; angle (rad)"
      ]
    },
    {
      "cell_type": "markdown",
      "id": "30806ff9-8c40-4528-be89-8b210d99c109",
      "metadata": {
        "id": "30806ff9-8c40-4528-be89-8b210d99c109"
      },
      "source": [
        "*JTBD*\n",
        "\n",
        "- Run thousands of episodes to generate training data with features (current and prev angles and other data) and labels (next few angles)\n",
        "- Train forecast model to predict trajectory of angle\n",
        "- Start episode with control over speed i.e. time lag between steps\n",
        "- Predict expected time to end of episode at step t with measure of uncertainty\n",
        "- Predict trajectory of angle in next few time steps at step t\n",
        "- At end of episode output prediction errors at a few time steps\n"
      ]
    },
    {
      "cell_type": "code",
      "source": [
        "!pip install torch"
      ],
      "metadata": {
        "id": "Ski4fdQA-Qu4",
        "outputId": "7f4d6a14-f1dc-498b-eec5-c7cb9cf5c218",
        "colab": {
          "base_uri": "https://localhost:8080/"
        }
      },
      "id": "Ski4fdQA-Qu4",
      "execution_count": 14,
      "outputs": [
        {
          "output_type": "stream",
          "name": "stdout",
          "text": [
            "Looking in indexes: https://pypi.org/simple, https://us-python.pkg.dev/colab-wheels/public/simple/\n",
            "Requirement already satisfied: torch in /usr/local/lib/python3.8/dist-packages (1.13.0+cu116)\n",
            "Requirement already satisfied: typing-extensions in /usr/local/lib/python3.8/dist-packages (from torch) (4.4.0)\n"
          ]
        }
      ]
    },
    {
      "cell_type": "code",
      "execution_count": 15,
      "id": "eefda0be-faaa-436a-8b4b-62109c13f57d",
      "metadata": {
        "colab": {
          "base_uri": "https://localhost:8080/"
        },
        "id": "eefda0be-faaa-436a-8b4b-62109c13f57d",
        "outputId": "4b129137-43d4-4682-8ca9-723075a94567"
      },
      "outputs": [
        {
          "output_type": "stream",
          "name": "stdout",
          "text": [
            "tensor([[ 0.8148,  1.3281, -0.0693,  0.3753,  1.4256, -0.0376,  0.7731, -0.4142,\n",
            "         -2.3547, -0.2342, -1.0792, -0.0691,  0.7373, -0.5942, -0.6265]])\n"
          ]
        }
      ],
      "source": [
        "import torch\n",
        "X = torch.randn(1, 15)\n",
        "print(X)"
      ]
    },
    {
      "cell_type": "code",
      "source": [
        "y = torch.ones(1, 10)\n",
        "print(y)"
      ],
      "metadata": {
        "id": "LkqGCLBT-O9P",
        "outputId": "3ebceffe-0561-4cf6-fddd-6d60b5d13fce",
        "colab": {
          "base_uri": "https://localhost:8080/"
        }
      },
      "id": "LkqGCLBT-O9P",
      "execution_count": 16,
      "outputs": [
        {
          "output_type": "stream",
          "name": "stdout",
          "text": [
            "tensor([[1., 1., 1., 1., 1., 1., 1., 1., 1., 1.]])\n"
          ]
        }
      ]
    },
    {
      "cell_type": "code",
      "source": [
        "# y = softmax(layer2(layer1(X)))\n",
        "\n",
        "from torch import nn\n",
        "\n",
        "class TestNetwork(nn.Module):\n",
        "  def __init__(self):\n",
        "    super(TestNetwork, self).__init__()\n",
        "    self.seqlayers = nn.Sequential(\n",
        "        nn.Linear(15, 20),\n",
        "        nn.ReLU(),\n",
        "        nn.Linear(20, 10),\n",
        "        nn.ReLU(),\n",
        "    )\n",
        "    self.softmax = nn.Softmax(dim=1)\n",
        "\n",
        "  def forward(self, X):\n",
        "    hidden1 = self.seqlayers(X)\n",
        "    output = self.softmax(hidden1)\n",
        "    return output\n",
        "\n"
      ],
      "metadata": {
        "id": "Q-C_ZzYz-xdb"
      },
      "id": "Q-C_ZzYz-xdb",
      "execution_count": 17,
      "outputs": []
    },
    {
      "cell_type": "code",
      "source": [
        "model = TestNetwork()\n",
        "print(model)"
      ],
      "metadata": {
        "id": "smt_eLALBMZK",
        "outputId": "b06c9a98-2c4f-4ba6-c738-f88303f7678e",
        "colab": {
          "base_uri": "https://localhost:8080/"
        }
      },
      "id": "smt_eLALBMZK",
      "execution_count": 18,
      "outputs": [
        {
          "output_type": "stream",
          "name": "stdout",
          "text": [
            "TestNetwork(\n",
            "  (seqlayers): Sequential(\n",
            "    (0): Linear(in_features=15, out_features=20, bias=True)\n",
            "    (1): ReLU()\n",
            "    (2): Linear(in_features=20, out_features=10, bias=True)\n",
            "    (3): ReLU()\n",
            "  )\n",
            "  (softmax): Softmax(dim=1)\n",
            ")\n"
          ]
        }
      ]
    },
    {
      "cell_type": "code",
      "source": [
        "preds = model(X)\n",
        "preds"
      ],
      "metadata": {
        "id": "afx--8_RBT_s",
        "outputId": "4969d61f-e2bc-4262-a812-2b8e2ff63f4a",
        "colab": {
          "base_uri": "https://localhost:8080/"
        }
      },
      "id": "afx--8_RBT_s",
      "execution_count": 19,
      "outputs": [
        {
          "output_type": "execute_result",
          "data": {
            "text/plain": [
              "tensor([[0.0990, 0.0949, 0.1011, 0.0949, 0.0949, 0.1013, 0.1293, 0.0949, 0.0949,\n",
              "         0.0949]], grad_fn=<SoftmaxBackward0>)"
            ]
          },
          "metadata": {},
          "execution_count": 19
        }
      ]
    },
    {
      "cell_type": "code",
      "source": [
        "preds.size()"
      ],
      "metadata": {
        "id": "8iuSXNVTCNan",
        "outputId": "ac68d80f-c3bd-4af0-9a13-e3b5d36728ef",
        "colab": {
          "base_uri": "https://localhost:8080/"
        }
      },
      "id": "8iuSXNVTCNan",
      "execution_count": 20,
      "outputs": [
        {
          "output_type": "execute_result",
          "data": {
            "text/plain": [
              "torch.Size([1, 10])"
            ]
          },
          "metadata": {},
          "execution_count": 20
        }
      ]
    },
    {
      "cell_type": "code",
      "source": [
        "loss_ = torch.nn.functional.binary_cross_entropy(preds, y)\n",
        "loss_"
      ],
      "metadata": {
        "id": "bJ7hcXQbCUck",
        "outputId": "a9ff374c-b057-4040-8479-b05e8dc86093",
        "colab": {
          "base_uri": "https://localhost:8080/"
        }
      },
      "id": "bJ7hcXQbCUck",
      "execution_count": 22,
      "outputs": [
        {
          "output_type": "execute_result",
          "data": {
            "text/plain": [
              "tensor(2.3070, grad_fn=<BinaryCrossEntropyBackward0>)"
            ]
          },
          "metadata": {},
          "execution_count": 22
        }
      ]
    },
    {
      "cell_type": "code",
      "source": [
        "# Backpropagation for one step\n",
        "learning_rate = 0.1\n",
        "optimizer = torch.optim.SGD(model.parameters(), lr=learning_rate)\n",
        "\n",
        "optimizer.zero_grad()\n",
        "loss_.backward()\n",
        "optimizer.step()\n",
        "\n",
        "new_preds = model(X)\n",
        "new_loss = torch.nn.functional.binary_cross_entropy(new_preds, y)\n",
        "\n",
        "print(new_loss)"
      ],
      "metadata": {
        "id": "hhgkljCwDRUG",
        "outputId": "603448c1-de09-4d94-e2b7-5bd1f1de2d6e",
        "colab": {
          "base_uri": "https://localhost:8080/"
        }
      },
      "id": "hhgkljCwDRUG",
      "execution_count": 23,
      "outputs": [
        {
          "output_type": "stream",
          "name": "stdout",
          "text": [
            "tensor(2.3065, grad_fn=<BinaryCrossEntropyBackward0>)\n"
          ]
        }
      ]
    },
    {
      "cell_type": "code",
      "source": [
        "# create a dataset with positions of the pendulum as features and time to terminate as label\n",
        "\n",
        "import pandas as pd\n",
        "\n",
        "columns = []\n",
        "for i in range(8):\n",
        "  columns.append(f'feature_{i}')\n",
        "columns.append('time_to_terminate')\n",
        "\n",
        "#create array\n",
        "num_episodes = 1000\n",
        "for j in range(num_episodes):\n",
        "  episode_rows = create_rows_for_episode()\n",
        "  if j == 0:\n",
        "    arr = episode_rows\n",
        "  else:\n",
        "    arr = np.concatenate([arr, episode_rows], axis=0)\n",
        "env.close()\n",
        "\n",
        "df = pd.DataFrame(arr, columns=columns)\n",
        "print(df.head())\n",
        "print(df.describe())\n",
        "print(df.info())"
      ],
      "metadata": {
        "id": "oiaRdUnNDpsn",
        "outputId": "464e6a8a-da2d-4811-f699-704c5d145814",
        "colab": {
          "base_uri": "https://localhost:8080/"
        }
      },
      "id": "oiaRdUnNDpsn",
      "execution_count": 85,
      "outputs": [
        {
          "output_type": "stream",
          "name": "stdout",
          "text": [
            "   feature_0  feature_1  feature_2  feature_3  feature_4  feature_5  \\\n",
            "0   0.071519  -0.048581   0.102439   0.998819   0.994739   0.576364   \n",
            "1   0.100611  -0.116246   0.181770   0.993220   0.983341   0.590153   \n",
            "2   0.141571  -0.217298   0.313715   0.976105   0.949517   1.047231   \n",
            "3   0.173170  -0.317457   0.463109   0.948273   0.886301   0.225468   \n",
            "4   0.224770  -0.460638   0.650918   0.887588   0.759148   1.812690   \n",
            "\n",
            "   feature_6  feature_7  time_to_terminate  \n",
            "0  -1.268870   1.379942                6.0  \n",
            "1  -1.472330   1.878447                5.0  \n",
            "2  -2.631056   3.557178                4.0  \n",
            "3  -1.598550   3.114915                3.0  \n",
            "4  -4.484055   5.516825                2.0  \n",
            "         feature_0    feature_1    feature_2    feature_3    feature_4  \\\n",
            "count  6345.000000  6345.000000  6345.000000  6345.000000  6345.000000   \n",
            "mean      0.059350    -0.043502     0.074882     0.887404     0.816424   \n",
            "std       0.225101     0.435388     0.533039     0.145228     0.209202   \n",
            "min      -0.761540    -0.940327    -0.997039     0.340271     0.076897   \n",
            "25%      -0.060040    -0.342406    -0.299927     0.825464     0.689023   \n",
            "50%       0.060587    -0.044638     0.099021     0.956435     0.908902   \n",
            "75%       0.185808     0.234564     0.497205     0.994719     0.987561   \n",
            "max       0.769511     0.923821     0.997014     1.000000     1.000000   \n",
            "\n",
            "         feature_5    feature_6    feature_7  time_to_terminate  \n",
            "count  6345.000000  6345.000000  6345.000000        6345.000000  \n",
            "mean      0.084914    -0.338991     0.231445           2.962805  \n",
            "std       1.975469     3.965629     4.344576           2.330551  \n",
            "min      -5.949793    -8.750251   -10.000000           0.000000  \n",
            "25%      -1.332556    -3.646710    -4.064860           1.000000  \n",
            "50%       0.101471    -0.407222     0.749578           3.000000  \n",
            "75%       1.542479     2.851560     4.432791           4.000000  \n",
            "max       5.649969     9.863456     8.521239          17.000000  \n",
            "<class 'pandas.core.frame.DataFrame'>\n",
            "RangeIndex: 6345 entries, 0 to 6344\n",
            "Data columns (total 9 columns):\n",
            " #   Column             Non-Null Count  Dtype  \n",
            "---  ------             --------------  -----  \n",
            " 0   feature_0          6345 non-null   float64\n",
            " 1   feature_1          6345 non-null   float64\n",
            " 2   feature_2          6345 non-null   float64\n",
            " 3   feature_3          6345 non-null   float64\n",
            " 4   feature_4          6345 non-null   float64\n",
            " 5   feature_5          6345 non-null   float64\n",
            " 6   feature_6          6345 non-null   float64\n",
            " 7   feature_7          6345 non-null   float64\n",
            " 8   time_to_terminate  6345 non-null   float64\n",
            "dtypes: float64(9)\n",
            "memory usage: 446.3 KB\n",
            "None\n"
          ]
        }
      ]
    },
    {
      "cell_type": "code",
      "source": [
        "def create_rows_for_episode():\n",
        "  env.reset(seed=42)\n",
        "  for _ in range(100):\n",
        "    observation, reward, terminated, truncated, info = env.step(env.action_space.sample())\n",
        "    features = np.array(observation[:8]).reshape(1, 8)\n",
        "    if _ == 0:\n",
        "      rows_for_ep = features\n",
        "    else:\n",
        "      rows_for_ep = np.concatenate((rows_for_ep, features), axis=0)\n",
        "    if terminated or truncated:\n",
        "      labels = np.array(range(_, -1,-1)).reshape(_+1, 1)\n",
        "      assert len(labels) == len(rows_for_ep)\n",
        "      rows_for_ep = np.concatenate((rows_for_ep, labels), axis=1)\n",
        "      # print(len(rows_for_ep), type(rows_for_ep))\n",
        "      return rows_for_ep\n",
        "  \n",
        "    "
      ],
      "metadata": {
        "id": "CCL0igDFRnWn"
      },
      "id": "CCL0igDFRnWn",
      "execution_count": 83,
      "outputs": []
    },
    {
      "cell_type": "code",
      "source": [
        "# terminating conditions of the episodes\n",
        "\n",
        "df_terminated = df[df['time_to_terminate']==0]\n",
        "print(df_terminated.head())\n",
        "print(df_terminated.describe())\n",
        "print(df_terminated.info())"
      ],
      "metadata": {
        "id": "sd5H2CORBQ78",
        "outputId": "11ce695d-ae56-4fac-ad07-5a3c87f12cbd",
        "colab": {
          "base_uri": "https://localhost:8080/"
        }
      },
      "id": "sd5H2CORBQ78",
      "execution_count": 86,
      "outputs": [
        {
          "output_type": "stream",
          "name": "stdout",
          "text": [
            "    feature_0  feature_1  feature_2  feature_3  feature_4  feature_5  \\\n",
            "6    0.484760  -0.868835   0.925419   0.495102   0.378946   2.852876   \n",
            "13   0.031782  -0.427676   0.920028   0.903932   0.391853  -2.039096   \n",
            "25  -0.359409   0.773237  -0.769555   0.634117   0.638581   0.944633   \n",
            "31   0.263222  -0.691812   0.943809   0.722078   0.330491   0.399406   \n",
            "36   0.547152  -0.848572   0.830892   0.529080   0.556433   2.342772   \n",
            "\n",
            "    feature_6  feature_7  time_to_terminate  \n",
            "6   -6.310496   3.144574                0.0  \n",
            "13   0.624928   4.981520                0.0  \n",
            "25   2.470864  -6.163354                0.0  \n",
            "31  -3.379492   5.842487                0.0  \n",
            "36  -5.953180   4.154613                0.0  \n",
            "         feature_0    feature_1    feature_2    feature_3    feature_4  \\\n",
            "count  1000.000000  1000.000000  1000.000000  1000.000000  1000.000000   \n",
            "mean      0.079051    -0.093281     0.109334     0.629364     0.464333   \n",
            "std       0.414601     0.759185     0.863539     0.139403     0.165875   \n",
            "min      -0.761540    -0.940327    -0.997039     0.340271     0.076897   \n",
            "25%      -0.354950    -0.802599    -0.861589     0.536095     0.356443   \n",
            "50%       0.176585    -0.548507     0.779532     0.609805     0.475820   \n",
            "75%       0.471625     0.772810     0.891586     0.681363     0.575713   \n",
            "max       0.769511     0.923821     0.997014     0.999969     0.999792   \n",
            "\n",
            "         feature_5    feature_6    feature_7  time_to_terminate  \n",
            "count  1000.000000  1000.000000  1000.000000             1000.0  \n",
            "mean      0.207686    -0.626314     0.334467                0.0  \n",
            "std       2.683937     5.382248     4.744800                0.0  \n",
            "min      -5.949793    -8.744142   -10.000000                0.0  \n",
            "25%      -2.040783    -5.698153    -4.516256                0.0  \n",
            "50%       0.455173    -2.427589     1.919239                0.0  \n",
            "75%       2.368281     5.140325     4.719530                0.0  \n",
            "max       5.649969     9.863456     8.387642                0.0  \n",
            "<class 'pandas.core.frame.DataFrame'>\n",
            "Int64Index: 1000 entries, 6 to 6344\n",
            "Data columns (total 9 columns):\n",
            " #   Column             Non-Null Count  Dtype  \n",
            "---  ------             --------------  -----  \n",
            " 0   feature_0          1000 non-null   float64\n",
            " 1   feature_1          1000 non-null   float64\n",
            " 2   feature_2          1000 non-null   float64\n",
            " 3   feature_3          1000 non-null   float64\n",
            " 4   feature_4          1000 non-null   float64\n",
            " 5   feature_5          1000 non-null   float64\n",
            " 6   feature_6          1000 non-null   float64\n",
            " 7   feature_7          1000 non-null   float64\n",
            " 8   time_to_terminate  1000 non-null   float64\n",
            "dtypes: float64(9)\n",
            "memory usage: 78.1 KB\n",
            "None\n"
          ]
        }
      ]
    },
    {
      "cell_type": "code",
      "source": [],
      "metadata": {
        "id": "DGVE0Lf1KHNi"
      },
      "id": "DGVE0Lf1KHNi",
      "execution_count": null,
      "outputs": []
    }
  ],
  "metadata": {
    "kernelspec": {
      "display_name": "Python 3 (ipykernel)",
      "language": "python",
      "name": "python3"
    },
    "language_info": {
      "codemirror_mode": {
        "name": "ipython",
        "version": 3
      },
      "file_extension": ".py",
      "mimetype": "text/x-python",
      "name": "python",
      "nbconvert_exporter": "python",
      "pygments_lexer": "ipython3",
      "version": "3.7.0"
    },
    "colab": {
      "provenance": []
    }
  },
  "nbformat": 4,
  "nbformat_minor": 5
}