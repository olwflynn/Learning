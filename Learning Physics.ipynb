{
  "cells": [
    {
      "cell_type": "markdown",
      "metadata": {
        "id": "view-in-github",
        "colab_type": "text"
      },
      "source": [
        "<a href=\"https://colab.research.google.com/github/olwflynn/Learning/blob/master/Learning%20Physics.ipynb\" target=\"_parent\"><img src=\"https://colab.research.google.com/assets/colab-badge.svg\" alt=\"Open In Colab\"/></a>"
      ]
    },
    {
      "cell_type": "code",
      "execution_count": 30,
      "metadata": {
        "id": "s7PPg0VZG5cK",
        "colab": {
          "base_uri": "https://localhost:8080/"
        },
        "outputId": "2d6a2021-fd93-4cf7-f9bf-887e67966ac2"
      },
      "outputs": [
        {
          "output_type": "stream",
          "name": "stdout",
          "text": [
            "Reading package lists... Done\n",
            "Building dependency tree       \n",
            "Reading state information... Done\n",
            "libglew-dev is already the newest version (2.0.0-5).\n",
            "libgl1-mesa-dev is already the newest version (20.0.8-0ubuntu1~18.04.1).\n",
            "libgl1-mesa-glx is already the newest version (20.0.8-0ubuntu1~18.04.1).\n",
            "libosmesa6-dev is already the newest version (20.0.8-0ubuntu1~18.04.1).\n",
            "software-properties-common is already the newest version (0.96.24.32.18).\n",
            "The following package was automatically installed and is no longer required:\n",
            "  libnvidia-common-460\n",
            "Use 'apt autoremove' to remove it.\n",
            "0 upgraded, 0 newly installed, 0 to remove and 21 not upgraded.\n",
            "Reading package lists... Done\n",
            "Building dependency tree       \n",
            "Reading state information... Done\n",
            "patchelf is already the newest version (0.9-1).\n",
            "The following package was automatically installed and is no longer required:\n",
            "  libnvidia-common-460\n",
            "Use 'apt autoremove' to remove it.\n",
            "0 upgraded, 0 newly installed, 0 to remove and 21 not upgraded.\n"
          ]
        }
      ],
      "source": [
        "!apt-get install -y \\\n",
        "    libgl1-mesa-dev \\\n",
        "    libgl1-mesa-glx \\\n",
        "    libglew-dev \\\n",
        "    libosmesa6-dev \\\n",
        "    software-properties-common\n",
        "\n",
        "!apt-get install -y patchelf"
      ],
      "id": "s7PPg0VZG5cK"
    },
    {
      "cell_type": "code",
      "execution_count": 31,
      "metadata": {
        "id": "5w7tslZCHl0T",
        "colab": {
          "base_uri": "https://localhost:8080/"
        },
        "outputId": "efd0e9e4-9b2f-475c-efca-cb2545a44b0a"
      },
      "outputs": [
        {
          "output_type": "stream",
          "name": "stdout",
          "text": [
            "Looking in indexes: https://pypi.org/simple, https://us-python.pkg.dev/colab-wheels/public/simple/\n",
            "Requirement already satisfied: gym in /usr/local/lib/python3.8/dist-packages (0.25.2)\n",
            "Requirement already satisfied: numpy>=1.18.0 in /usr/local/lib/python3.8/dist-packages (from gym) (1.21.6)\n",
            "Requirement already satisfied: cloudpickle>=1.2.0 in /usr/local/lib/python3.8/dist-packages (from gym) (1.5.0)\n",
            "Requirement already satisfied: gym-notices>=0.0.4 in /usr/local/lib/python3.8/dist-packages (from gym) (0.0.8)\n",
            "Requirement already satisfied: importlib-metadata>=4.8.0 in /usr/local/lib/python3.8/dist-packages (from gym) (5.2.0)\n",
            "Requirement already satisfied: zipp>=0.5 in /usr/local/lib/python3.8/dist-packages (from importlib-metadata>=4.8.0->gym) (3.11.0)\n"
          ]
        }
      ],
      "source": [
        "!pip install gym"
      ],
      "id": "5w7tslZCHl0T"
    },
    {
      "cell_type": "code",
      "execution_count": 32,
      "metadata": {
        "id": "3qeAEFtTG8dV",
        "colab": {
          "base_uri": "https://localhost:8080/"
        },
        "outputId": "596f890c-1b7d-45ef-f69f-55d6eac9972b"
      },
      "outputs": [
        {
          "output_type": "stream",
          "name": "stdout",
          "text": [
            "Looking in indexes: https://pypi.org/simple, https://us-python.pkg.dev/colab-wheels/public/simple/\n",
            "Requirement already satisfied: free-mujoco-py in /usr/local/lib/python3.8/dist-packages (2.1.6)\n",
            "Requirement already satisfied: mujoco in /usr/local/lib/python3.8/dist-packages (2.3.1.post1)\n",
            "Requirement already satisfied: imageio<3.0.0,>=2.9.0 in /usr/local/lib/python3.8/dist-packages (from free-mujoco-py) (2.9.0)\n",
            "Requirement already satisfied: Cython<0.30.0,>=0.29.24 in /usr/local/lib/python3.8/dist-packages (from free-mujoco-py) (0.29.32)\n",
            "Requirement already satisfied: glfw<2.0.0,>=1.4.0 in /usr/local/lib/python3.8/dist-packages (from free-mujoco-py) (1.12.0)\n",
            "Requirement already satisfied: numpy<2.0.0,>=1.21.3 in /usr/local/lib/python3.8/dist-packages (from free-mujoco-py) (1.21.6)\n",
            "Requirement already satisfied: fasteners==0.15 in /usr/local/lib/python3.8/dist-packages (from free-mujoco-py) (0.15)\n",
            "Requirement already satisfied: cffi<2.0.0,>=1.15.0 in /usr/local/lib/python3.8/dist-packages (from free-mujoco-py) (1.15.1)\n",
            "Requirement already satisfied: monotonic>=0.1 in /usr/local/lib/python3.8/dist-packages (from fasteners==0.15->free-mujoco-py) (1.6)\n",
            "Requirement already satisfied: six in /usr/local/lib/python3.8/dist-packages (from fasteners==0.15->free-mujoco-py) (1.15.0)\n",
            "Requirement already satisfied: absl-py in /usr/local/lib/python3.8/dist-packages (from mujoco) (1.3.0)\n",
            "Requirement already satisfied: pyopengl in /usr/local/lib/python3.8/dist-packages (from mujoco) (3.1.6)\n",
            "Requirement already satisfied: pycparser in /usr/local/lib/python3.8/dist-packages (from cffi<2.0.0,>=1.15.0->free-mujoco-py) (2.21)\n",
            "Requirement already satisfied: pillow in /usr/local/lib/python3.8/dist-packages (from imageio<3.0.0,>=2.9.0->free-mujoco-py) (7.1.2)\n"
          ]
        }
      ],
      "source": [
        "!pip install free-mujoco-py mujoco"
      ],
      "id": "3qeAEFtTG8dV"
    },
    {
      "cell_type": "markdown",
      "metadata": {
        "id": "MHtnurnyIwaZ"
      },
      "source": [
        "**Now you need to restart the runtime as numpy is apparently automatically imported...**"
      ],
      "id": "MHtnurnyIwaZ"
    },
    {
      "cell_type": "code",
      "execution_count": 33,
      "metadata": {
        "id": "TtWrmOCKHD6I"
      },
      "outputs": [],
      "source": [
        "import mujoco_py\n",
        "import gym"
      ],
      "id": "TtWrmOCKHD6I"
    },
    {
      "cell_type": "code",
      "execution_count": 34,
      "id": "ad741ec6-c60b-4124-a3ef-80944f5d6f75",
      "metadata": {
        "id": "ad741ec6-c60b-4124-a3ef-80944f5d6f75"
      },
      "outputs": [],
      "source": [
        "import numpy as np\n",
        "\n",
        "# def plt_update(ax, colors=['b']):\n",
        "#     x = np.linspace(0,1,100)\n",
        "#     if ax.lines:\n",
        "#         for line in ax.lines:\n",
        "#             line.set_xdata(x)\n",
        "#             y = np.random.random(size=(100,1))\n",
        "#             line.set_ydata(y)\n",
        "#     else:\n",
        "#         for color in colors:\n",
        "#             y = np.random.random(size=(100,1))\n",
        "#             ax.plot(x, y, color)\n",
        "#     fig.canvas.draw()\n",
        "\n",
        "\n",
        "def live_plot(data_dict, figsize=(7,5), title=''):\n",
        "    # clear_output(wait=True)\n",
        "    plt.figure(figsize=figsize)\n",
        "    # for label,data in data_dict.items():\n",
        "    obs = data_dict[\"obs\"]\n",
        "    preds = data_dict[\"preds\"]\n",
        "    print(\"obs: \", obs, \"\\n preds: \",preds)\n",
        "\n",
        "    plt.plot(obs, label=\"obs\")\n",
        "    plt.plot(range(len(obs)-1, len(obs)+len(preds)-1), preds, label=\"preds\")\n",
        "    \n",
        "    plt.title(title)\n",
        "    plt.grid(True)\n",
        "    plt.xlabel('epoch')\n",
        "    plt.legend(loc='center left') # the plot evolves to the right\n",
        "    plt.show();"
      ]
    },
    {
      "cell_type": "markdown",
      "source": [
        "Need to restart runtime if cant find 'mujuco'"
      ],
      "metadata": {
        "id": "tGiYgjBWd-Ha"
      },
      "id": "tGiYgjBWd-Ha"
    },
    {
      "cell_type": "code",
      "source": [
        "env = gym.make(\"InvertedDoublePendulum-v4\", new_step_api=True)\n",
        "env.reset(seed=42)\n",
        "env.step(env.action_space.sample())"
      ],
      "metadata": {
        "colab": {
          "base_uri": "https://localhost:8080/"
        },
        "id": "7YlxRJWa1mYd",
        "outputId": "4b9efdc8-9ed0-4923-c965-f848ad4eba88"
      },
      "id": "7YlxRJWa1mYd",
      "execution_count": 35,
      "outputs": [
        {
          "output_type": "execute_result",
          "data": {
            "text/plain": [
              "(array([ 0.05483096, -0.0143515 ,  0.05935835,  0.99989701,  0.99823674,\n",
              "        -0.09236559,  0.11084354, -0.36770122,  0.        ,  0.        ,\n",
              "         0.        ]), 9.358185173540367, False, False, {})"
            ]
          },
          "metadata": {},
          "execution_count": 35
        }
      ]
    },
    {
      "cell_type": "code",
      "execution_count": 36,
      "id": "665867d5-71f6-4b62-a604-a29c8f74f4bf",
      "metadata": {
        "id": "665867d5-71f6-4b62-a604-a29c8f74f4bf"
      },
      "outputs": [],
      "source": [
        "# naive forecaster where we predict the angle at the next 3 steps is the same as the current angle\n",
        "\n",
        "def naive_forecaster(X):\n",
        "    # X is the all data known to the forecaster at the time. X is only the current and previous angles for now.\n",
        "    \n",
        "    current_angle = X[-1]\n",
        "    angle_t_plus_1 = current_angle\n",
        "    angle_t_plus_2 = current_angle\n",
        "    angle_t_plus_3 = current_angle\n",
        "    \n",
        "    return np.array([angle_t_plus_1, angle_t_plus_2, angle_t_plus_3])\n"
      ]
    },
    {
      "cell_type": "code",
      "execution_count": 37,
      "id": "8963723f-d1d8-46e8-a062-277326a5efaf",
      "metadata": {
        "id": "8963723f-d1d8-46e8-a062-277326a5efaf"
      },
      "outputs": [],
      "source": [
        "# get forecast error given a predicted trajectory and observations\n",
        "\n",
        "def forecast_error(X_obs, preds):\n",
        "    \n",
        "    mse = sum(np.square(X_obs - preds)) / len(X_obs)\n",
        "    \n",
        "    return mse"
      ]
    },
    {
      "cell_type": "code",
      "execution_count": 38,
      "id": "cf4b649a",
      "metadata": {
        "tags": [],
        "colab": {
          "base_uri": "https://localhost:8080/",
          "height": 1000
        },
        "id": "cf4b649a",
        "outputId": "020f12e0-cadd-4d52-ed2f-082956d16272"
      },
      "outputs": [
        {
          "output_type": "stream",
          "name": "stdout",
          "text": [
            "epoch # 0\n",
            "[ 0.00547175  0.08160824 -0.0707311   0.99666448  0.99749542 -1.88296822\n",
            "  3.75316923 -4.88554496  0.          0.          0.        ] 9.223270457575698 False False {}\n",
            "obs:  [0.08160823816042838] \n",
            " preds:  [0.08160824 0.28160824 0.28160824 0.28160824]\n"
          ]
        },
        {
          "output_type": "display_data",
          "data": {
            "text/plain": [
              "<Figure size 504x360 with 1 Axes>"
            ],
            "image/png": "[encoded data removed]"
          },
          "metadata": {
            "needs_background": "light"
          }
        },
        {
          "output_type": "stream",
          "name": "stdout",
          "text": [
            "epoch # 1\n",
            "[-0.12775816  0.3392609  -0.38791027  0.94069232  0.92169714 -3.40526583\n",
            "  6.61324963 -7.58681343  0.          0.          0.        ] 8.968904100492548 False False {}\n",
            "obs:  [0.08160823816042838, 0.33926090213211785] \n",
            " preds:  [0.3392609 0.5392609 0.5392609 0.5392609]\n"
          ]
        },
        {
          "output_type": "display_data",
          "data": {
            "text/plain": [
              "<Figure size 504x360 with 1 Axes>"
            ],
            "image/png": "[encoded data removed]"
          },
          "metadata": {
            "needs_background": "light"
          }
        },
        {
          "output_type": "stream",
          "name": "stdout",
          "text": [
            "epoch # 2\n",
            "[-0.32700755  0.65381572 -0.67792885  0.75665382  0.73512752 -4.50876861\n",
            "  7.82526138 -5.57353154  0.          0.          0.        ] 8.887930433185543 False False {}\n",
            "obs:  [0.08160823816042838, 0.33926090213211785, 0.6538157167062257] \n",
            " preds:  [0.65381572 0.85381572 0.85381572 0.85381572]\n"
          ]
        },
        {
          "output_type": "display_data",
          "data": {
            "text/plain": [
              "<Figure size 504x360 with 1 Axes>"
            ],
            "image/png": "[encoded data removed]"
          },
          "metadata": {
            "needs_background": "light"
          }
        },
        {
          "output_type": "stream",
          "name": "stdout",
          "text": [
            "epoch # 3\n",
            "[-0.5389814   0.88422061 -0.80921225  0.4670695   0.58751642 -3.97219455\n",
            "  7.14329188 -2.4865295   0.          0.          0.        ] 8.650567516130351 True False {}\n",
            "obs:  [0.08160823816042838, 0.33926090213211785, 0.6538157167062257, 0.884220606600462] \n",
            " preds:  [0.88422061 1.08422061 1.08422061 1.08422061]\n"
          ]
        },
        {
          "output_type": "display_data",
          "data": {
            "text/plain": [
              "<Figure size 504x360 with 1 Axes>"
            ],
            "image/png": "[encoded data removed]"
          },
          "metadata": {
            "needs_background": "light"
          }
        },
        {
          "output_type": "stream",
          "name": "stdout",
          "text": [
            "[0.08160823816042838, 0.33926090213211785, 0.6538157167062257, 0.884220606600462]\n",
            "Prediction error in last 3 steps:  0.2600711101754775\n"
          ]
        }
      ],
      "source": [
        "from IPython.display import clear_output\n",
        "import time\n",
        "import matplotlib.pyplot as plt\n",
        "\n",
        "# observation, info = env.reset(seed=42)\n",
        "obs_history = []\n",
        "# fig,ax = plt.subplots(1,1)\n",
        "# ax.set_xlabel('t')\n",
        "# ax.set_ylabel('obs_idx_1')\n",
        "# ax.set_xlim(0,20)\n",
        "# ax.set_ylim(-5,5)\n",
        "\n",
        "for _ in range(10):\n",
        "    print(\"epoch #\", _)\n",
        "    observation, reward, terminated, truncated, info = env.step(env.action_space.sample())\n",
        "    print(observation, reward, terminated, truncated, info)\n",
        "    obs_history.append(observation[1])\n",
        "    # plt.plot(obs_history[0][0])\n",
        "    # plt.show()\n",
        "    preds = obs_history[-1]+[0, 0.2,0.2,0.2]\n",
        "    # obs_concat_preds = obs_history\n",
        "    # for pred in preds:\n",
        "    #     obs_concat_preds.append(pred)\n",
        "    live_plot({\"obs\": obs_history, \"preds\": preds}, title=\"Radians by epoch\")\n",
        "    time.sleep(1)\n",
        "    if terminated or truncated:\n",
        "        print(obs_history)\n",
        "        print(\"Prediction error in last 3 steps: \", forecast_error(obs_history[-3:], preds[-3:]))\n",
        "        break\n",
        "        # obs_history = []\n",
        "        # observation, info = env.reset()\n",
        "\n",
        "env.close()"
      ]
    },
    {
      "cell_type": "markdown",
      "id": "0dac7f61-e9f7-40a1-9bee-b6fdd9b0668e",
      "metadata": {
        "id": "0dac7f61-e9f7-40a1-9bee-b6fdd9b0668e"
      },
      "source": [
        "The episode ends when any of the following happens:\n",
        "\n",
        "Truncation: The episode duration reaches 1000 timesteps.\n",
        "\n",
        "Termination: Any of the state space values is no longer finite.\n",
        "\n",
        "Termination: The absolutely value of the vertical angle between the pole and the cart is greater than 0.2 radian. i.e. 11.4592 degrees\n",
        "\n",
        "1; vertical angle of the pole on the cart; -Inf; Inf; angle (rad)"
      ]
    },
    {
      "cell_type": "markdown",
      "id": "30806ff9-8c40-4528-be89-8b210d99c109",
      "metadata": {
        "id": "30806ff9-8c40-4528-be89-8b210d99c109"
      },
      "source": [
        "*JTBD*\n",
        "\n",
        "- Run thousands of episodes to generate training data with features (current and prev angles and other data) and labels (next few angles)\n",
        "- Train forecast model to predict trajectory of angle\n",
        "- Start episode with control over speed i.e. time lag between steps\n",
        "- Predict expected time to end of episode at step t with measure of uncertainty\n",
        "- Predict trajectory of angle in next few time steps at step t\n",
        "- At end of episode output prediction errors at a few time steps\n"
      ]
    },
    {
      "cell_type": "code",
      "source": [
        "!pip install torch"
      ],
      "metadata": {
        "colab": {
          "base_uri": "https://localhost:8080/"
        },
        "id": "Ski4fdQA-Qu4",
        "outputId": "efc9d6c0-7de8-4aa8-caba-e442f73182a3"
      },
      "id": "Ski4fdQA-Qu4",
      "execution_count": 39,
      "outputs": [
        {
          "output_type": "stream",
          "name": "stdout",
          "text": [
            "Looking in indexes: https://pypi.org/simple, https://us-python.pkg.dev/colab-wheels/public/simple/\n",
            "Requirement already satisfied: torch in /usr/local/lib/python3.8/dist-packages (1.13.0+cu116)\n",
            "Requirement already satisfied: typing-extensions in /usr/local/lib/python3.8/dist-packages (from torch) (4.4.0)\n"
          ]
        }
      ]
    },
    {
      "cell_type": "code",
      "execution_count": 40,
      "id": "eefda0be-faaa-436a-8b4b-62109c13f57d",
      "metadata": {
        "colab": {
          "base_uri": "https://localhost:8080/"
        },
        "id": "eefda0be-faaa-436a-8b4b-62109c13f57d",
        "outputId": "df6cc50b-6e6d-4a00-ee0f-652be4d04d85"
      },
      "outputs": [
        {
          "output_type": "stream",
          "name": "stdout",
          "text": [
            "tensor([[ 0.8104,  0.1159,  0.3502,  0.3258, -0.3341,  1.6911, -0.5948, -0.0866,\n",
            "          1.1552, -0.7714, -0.1760,  0.1096,  0.3431,  1.0017,  0.2276]])\n"
          ]
        }
      ],
      "source": [
        "import torch\n",
        "X = torch.randn(1, 15)\n",
        "print(X)"
      ]
    },
    {
      "cell_type": "code",
      "source": [
        "y = torch.ones(1, 10)\n",
        "print(y)"
      ],
      "metadata": {
        "colab": {
          "base_uri": "https://localhost:8080/"
        },
        "id": "LkqGCLBT-O9P",
        "outputId": "3eee401c-319b-4951-ca2f-bd1d381ae061"
      },
      "id": "LkqGCLBT-O9P",
      "execution_count": 41,
      "outputs": [
        {
          "output_type": "stream",
          "name": "stdout",
          "text": [
            "tensor([[1., 1., 1., 1., 1., 1., 1., 1., 1., 1.]])\n"
          ]
        }
      ]
    },
    {
      "cell_type": "code",
      "source": [
        "# y = softmax(layer2(layer1(X)))\n",
        "\n",
        "from torch import nn\n",
        "\n",
        "class TestNetwork(nn.Module):\n",
        "  def __init__(self):\n",
        "    super(TestNetwork, self).__init__()\n",
        "    self.seqlayers = nn.Sequential(\n",
        "        nn.Linear(15, 20),\n",
        "        nn.ReLU(),\n",
        "        nn.Linear(20, 10),\n",
        "        nn.ReLU(),\n",
        "    )\n",
        "    self.softmax = nn.Softmax(dim=1)\n",
        "\n",
        "  def forward(self, X):\n",
        "    hidden1 = self.seqlayers(X)\n",
        "    output = self.softmax(hidden1)\n",
        "    return output\n",
        "\n"
      ],
      "metadata": {
        "id": "Q-C_ZzYz-xdb"
      },
      "id": "Q-C_ZzYz-xdb",
      "execution_count": 42,
      "outputs": []
    },
    {
      "cell_type": "code",
      "source": [
        "model = TestNetwork()\n",
        "print(model)"
      ],
      "metadata": {
        "colab": {
          "base_uri": "https://localhost:8080/"
        },
        "id": "smt_eLALBMZK",
        "outputId": "176d8a4e-7807-4c3d-c573-053b44ee0f14"
      },
      "id": "smt_eLALBMZK",
      "execution_count": 43,
      "outputs": [
        {
          "output_type": "stream",
          "name": "stdout",
          "text": [
            "TestNetwork(\n",
            "  (seqlayers): Sequential(\n",
            "    (0): Linear(in_features=15, out_features=20, bias=True)\n",
            "    (1): ReLU()\n",
            "    (2): Linear(in_features=20, out_features=10, bias=True)\n",
            "    (3): ReLU()\n",
            "  )\n",
            "  (softmax): Softmax(dim=1)\n",
            ")\n"
          ]
        }
      ]
    },
    {
      "cell_type": "code",
      "source": [
        "preds = model(X)\n",
        "preds"
      ],
      "metadata": {
        "colab": {
          "base_uri": "https://localhost:8080/"
        },
        "id": "afx--8_RBT_s",
        "outputId": "791e445f-3ff6-408d-91f8-8e45f738ee7b"
      },
      "id": "afx--8_RBT_s",
      "execution_count": 44,
      "outputs": [
        {
          "output_type": "execute_result",
          "data": {
            "text/plain": [
              "tensor([[0.0892, 0.0954, 0.0894, 0.0892, 0.0892, 0.1094, 0.1250, 0.1345, 0.0892,\n",
              "         0.0892]], grad_fn=<SoftmaxBackward0>)"
            ]
          },
          "metadata": {},
          "execution_count": 44
        }
      ]
    },
    {
      "cell_type": "code",
      "source": [
        "preds.size()"
      ],
      "metadata": {
        "colab": {
          "base_uri": "https://localhost:8080/"
        },
        "id": "8iuSXNVTCNan",
        "outputId": "14d0c7da-6fa5-4e3b-8aeb-b61339e3c22c"
      },
      "id": "8iuSXNVTCNan",
      "execution_count": 45,
      "outputs": [
        {
          "output_type": "execute_result",
          "data": {
            "text/plain": [
              "torch.Size([1, 10])"
            ]
          },
          "metadata": {},
          "execution_count": 45
        }
      ]
    },
    {
      "cell_type": "code",
      "source": [
        "loss_ = torch.nn.functional.binary_cross_entropy(preds, y)\n",
        "loss_"
      ],
      "metadata": {
        "colab": {
          "base_uri": "https://localhost:8080/"
        },
        "id": "bJ7hcXQbCUck",
        "outputId": "60ce1a90-2694-4244-ca9d-2f4b4684a67d"
      },
      "id": "bJ7hcXQbCUck",
      "execution_count": 46,
      "outputs": [
        {
          "output_type": "execute_result",
          "data": {
            "text/plain": [
              "tensor(2.3144, grad_fn=<BinaryCrossEntropyBackward0>)"
            ]
          },
          "metadata": {},
          "execution_count": 46
        }
      ]
    },
    {
      "cell_type": "code",
      "source": [
        "# Backpropagation for one step\n",
        "learning_rate = 0.1\n",
        "optimizer = torch.optim.SGD(model.parameters(), lr=learning_rate)\n",
        "\n",
        "optimizer.zero_grad()\n",
        "loss_.backward()\n",
        "optimizer.step()\n",
        "\n",
        "new_preds = model(X)\n",
        "new_loss = torch.nn.functional.binary_cross_entropy(new_preds, y)\n",
        "\n",
        "print(new_loss)"
      ],
      "metadata": {
        "colab": {
          "base_uri": "https://localhost:8080/"
        },
        "id": "hhgkljCwDRUG",
        "outputId": "75dee4d6-6b10-4244-e4df-decaff07eee1"
      },
      "id": "hhgkljCwDRUG",
      "execution_count": 47,
      "outputs": [
        {
          "output_type": "stream",
          "name": "stdout",
          "text": [
            "tensor(2.3134, grad_fn=<BinaryCrossEntropyBackward0>)\n"
          ]
        }
      ]
    },
    {
      "cell_type": "code",
      "source": [
        "def create_rows_for_episode(ep_num):\n",
        "  env.reset(seed=42)\n",
        "  for _ in range(100):\n",
        "    observation, reward, terminated, truncated, info = env.step(env.action_space.sample())\n",
        "    features = np.array(observation[:8]).reshape(1, 8)\n",
        "    if _ == 0:\n",
        "      rows_for_ep = features\n",
        "    else:\n",
        "      rows_for_ep = np.concatenate((rows_for_ep, features), axis=0)\n",
        "    if terminated or truncated:\n",
        "      labels = np.array(range(_, -1,-1)).reshape(_+1, 1)\n",
        "      ep_num_arr = np.array([ep_num for i in range(len(labels))]).reshape(_+1, 1)\n",
        "      assert len(labels) == len(rows_for_ep)\n",
        "      rows_for_ep = np.concatenate((rows_for_ep, labels), axis=1)\n",
        "      rows_for_ep = np.concatenate((rows_for_ep, ep_num_arr), axis=1)\n",
        "      # print(len(rows_for_ep), type(rows_for_ep))\n",
        "      return rows_for_ep\n",
        "  \n",
        "    "
      ],
      "metadata": {
        "id": "CCL0igDFRnWn"
      },
      "id": "CCL0igDFRnWn",
      "execution_count": 48,
      "outputs": []
    },
    {
      "cell_type": "code",
      "source": [
        "# create a dataset with positions of the pendulum as features and time to terminate as label\n",
        "\n",
        "import pandas as pd\n",
        "\n",
        "columns = []\n",
        "for i in range(8):\n",
        "  columns.append(f'feature_{i}')\n",
        "columns.append('time_to_terminate')\n",
        "columns.append('ep_num')\n",
        "\n",
        "#create array\n",
        "num_episodes = 10000\n",
        "for j in range(num_episodes):\n",
        "  episode_rows = create_rows_for_episode(j)\n",
        "  if j == 0:\n",
        "    arr = episode_rows\n",
        "  else:\n",
        "    arr = np.concatenate([arr, episode_rows], axis=0)\n",
        "env.close()\n",
        "\n",
        "df = pd.DataFrame(arr, columns=columns)\n",
        "print(df.head())\n",
        "print(df.describe())\n",
        "print(df.info())"
      ],
      "metadata": {
        "colab": {
          "base_uri": "https://localhost:8080/"
        },
        "id": "oiaRdUnNDpsn",
        "outputId": "369cfa01-70d0-48cc-be0a-defc0258110a"
      },
      "id": "oiaRdUnNDpsn",
      "execution_count": 49,
      "outputs": [
        {
          "output_type": "stream",
          "name": "stdout",
          "text": [
            "   feature_0  feature_1  feature_2  feature_3  feature_4  feature_5  \\\n",
            "0   0.029096   0.038629  -0.007881   0.999254   0.999969  -1.123820   \n",
            "1   0.019096   0.058999  -0.048719   0.998258   0.998813   0.720988   \n",
            "2   0.094824  -0.091011   0.120087   0.995850   0.992763   2.309668   \n",
            "3   0.226911  -0.347001   0.405409   0.937865   0.914135   2.952891   \n",
            "4   0.404327  -0.634410   0.655356   0.772997   0.755320   4.091090   \n",
            "\n",
            "   feature_6  feature_7  time_to_terminate  ep_num  \n",
            "0   2.251015  -3.105813                5.0     0.0  \n",
            "1  -1.410529   1.409108                4.0     0.0  \n",
            "2  -4.618962   5.377011                3.0     0.0  \n",
            "3  -5.825706   6.205230                2.0     0.0  \n",
            "4  -7.269696   5.014309                1.0     0.0  \n",
            "          feature_0     feature_1     feature_2     feature_3     feature_4  \\\n",
            "count  63568.000000  63568.000000  63568.000000  63568.000000  63568.000000   \n",
            "mean       0.054536     -0.034245      0.064375      0.886206      0.817727   \n",
            "std        0.225422      0.438607      0.532438      0.145232      0.209030   \n",
            "min       -0.765171     -0.943919     -0.997043      0.330178      0.076849   \n",
            "25%       -0.068427     -0.336235     -0.314523      0.821529      0.687438   \n",
            "50%        0.059391     -0.036430      0.086615      0.955736      0.912045   \n",
            "75%        0.184717      0.245107      0.480404      0.994811      0.987887   \n",
            "max        0.826861      0.938956      0.996682      1.000000      1.000000   \n",
            "\n",
            "          feature_5     feature_6     feature_7  time_to_terminate  \\\n",
            "count  63568.000000  63568.000000  63568.000000       63568.000000   \n",
            "mean       0.023445     -0.220154      0.131843           2.955040   \n",
            "std        1.949239      3.950934      4.351799           2.314727   \n",
            "min       -6.519085    -10.000000    -10.000000           0.000000   \n",
            "25%       -1.371608     -3.520557     -4.189590           1.000000   \n",
            "50%        0.046752     -0.370603      0.525493           3.000000   \n",
            "75%        1.440839      3.040130      4.388610           4.000000   \n",
            "max        6.603290     10.000000     10.000000          22.000000   \n",
            "\n",
            "             ep_num  \n",
            "count  63568.000000  \n",
            "mean    4995.046328  \n",
            "std     2888.476096  \n",
            "min        0.000000  \n",
            "25%     2490.000000  \n",
            "50%     4994.000000  \n",
            "75%     7497.000000  \n",
            "max     9999.000000  \n",
            "<class 'pandas.core.frame.DataFrame'>\n",
            "RangeIndex: 63568 entries, 0 to 63567\n",
            "Data columns (total 10 columns):\n",
            " #   Column             Non-Null Count  Dtype  \n",
            "---  ------             --------------  -----  \n",
            " 0   feature_0          63568 non-null  float64\n",
            " 1   feature_1          63568 non-null  float64\n",
            " 2   feature_2          63568 non-null  float64\n",
            " 3   feature_3          63568 non-null  float64\n",
            " 4   feature_4          63568 non-null  float64\n",
            " 5   feature_5          63568 non-null  float64\n",
            " 6   feature_6          63568 non-null  float64\n",
            " 7   feature_7          63568 non-null  float64\n",
            " 8   time_to_terminate  63568 non-null  float64\n",
            " 9   ep_num             63568 non-null  float64\n",
            "dtypes: float64(10)\n",
            "memory usage: 4.8 MB\n",
            "None\n"
          ]
        }
      ]
    },
    {
      "cell_type": "code",
      "source": [
        "# terminating conditions of the episodes\n",
        "\n",
        "df_terminated = df[df['time_to_terminate']==0]\n",
        "print(df_terminated.head())\n",
        "print(df_terminated.describe())\n",
        "print(df_terminated.info())"
      ],
      "metadata": {
        "colab": {
          "base_uri": "https://localhost:8080/"
        },
        "id": "sd5H2CORBQ78",
        "outputId": "2b7714e8-3f92-4632-9fc1-f693e32c5060"
      },
      "id": "sd5H2CORBQ78",
      "execution_count": 50,
      "outputs": [
        {
          "output_type": "stream",
          "name": "stdout",
          "text": [
            "    feature_0  feature_1  feature_2  feature_3  feature_4  feature_5  \\\n",
            "5    0.631108  -0.872746   0.759749   0.488174   0.650217   4.935035   \n",
            "14  -0.118658   0.605889  -0.940565   0.795549   0.339613  -1.717182   \n",
            "26   0.418552  -0.833164   0.926927   0.553025   0.375241   0.105695   \n",
            "32  -0.247355   0.702812  -0.898282   0.711376   0.439419  -1.180744   \n",
            "38  -0.306553   0.734416  -0.868518   0.678699   0.495657  -2.571194   \n",
            "\n",
            "    feature_6  feature_7  time_to_terminate  ep_num  \n",
            "5   -7.446171   0.443128                0.0     0.0  \n",
            "14   4.934877  -6.554595                0.0     1.0  \n",
            "26  -3.705184   6.106715                0.0     2.0  \n",
            "32   4.153306  -5.818495                0.0     3.0  \n",
            "38   5.533606  -4.726858                0.0     4.0  \n",
            "          feature_0     feature_1     feature_2     feature_3     feature_4  \\\n",
            "count  10000.000000  10000.000000  10000.000000  10000.000000  10000.000000   \n",
            "mean       0.062741     -0.067022      0.084103      0.625960      0.462881   \n",
            "std        0.413344      0.765538      0.867393      0.133018      0.162404   \n",
            "min       -0.765171     -0.943919     -0.997043      0.330178      0.076849   \n",
            "25%       -0.369124     -0.798504     -0.868165      0.534406      0.352907   \n",
            "50%        0.148087     -0.539716      0.772768      0.612132      0.468095   \n",
            "75%        0.458331      0.780306      0.894000      0.678963      0.571173   \n",
            "max        0.826861      0.938956      0.996682      1.000000      0.999967   \n",
            "\n",
            "          feature_5     feature_6     feature_7  time_to_terminate  \\\n",
            "count  10000.000000  10000.000000  10000.000000            10000.0   \n",
            "mean       0.077692     -0.391926      0.238882                0.0   \n",
            "std        2.651748      5.351306      4.765727                0.0   \n",
            "min       -6.519085    -10.000000    -10.000000                0.0   \n",
            "25%       -2.093985     -5.539904     -4.603639                0.0   \n",
            "50%        0.199049     -1.851519      1.570795                0.0   \n",
            "75%        2.262063      5.237519      4.700961                0.0   \n",
            "max        6.603290     10.000000     10.000000                0.0   \n",
            "\n",
            "            ep_num  \n",
            "count  10000.00000  \n",
            "mean    4999.50000  \n",
            "std     2886.89568  \n",
            "min        0.00000  \n",
            "25%     2499.75000  \n",
            "50%     4999.50000  \n",
            "75%     7499.25000  \n",
            "max     9999.00000  \n",
            "<class 'pandas.core.frame.DataFrame'>\n",
            "Int64Index: 10000 entries, 5 to 63567\n",
            "Data columns (total 10 columns):\n",
            " #   Column             Non-Null Count  Dtype  \n",
            "---  ------             --------------  -----  \n",
            " 0   feature_0          10000 non-null  float64\n",
            " 1   feature_1          10000 non-null  float64\n",
            " 2   feature_2          10000 non-null  float64\n",
            " 3   feature_3          10000 non-null  float64\n",
            " 4   feature_4          10000 non-null  float64\n",
            " 5   feature_5          10000 non-null  float64\n",
            " 6   feature_6          10000 non-null  float64\n",
            " 7   feature_7          10000 non-null  float64\n",
            " 8   time_to_terminate  10000 non-null  float64\n",
            " 9   ep_num             10000 non-null  float64\n",
            "dtypes: float64(10)\n",
            "memory usage: 859.4 KB\n",
            "None\n"
          ]
        }
      ]
    },
    {
      "cell_type": "code",
      "source": [
        "# plot a five of the episodes against various features\n",
        "\n",
        "ep_split_df = [df[df['ep_num']==i] for i in range(5)]\n",
        "num_features = 8\n",
        "fig, axs = plt.subplots(num_features, figsize=(12, 8))\n",
        "plt.suptitle('First 5 episodes against features')\n",
        "for i in range(num_features):\n",
        "  for el in ep_split_df:\n",
        "    ep = el['ep_num'].values[0]\n",
        "    axs[i].plot(el[f'feature_{i}'], label=f'episode_{int(ep)}')\n",
        "    axs[i].set_title(f'feature_{i}', fontsize='small')\n",
        "# plt.legend(loc='right')\n",
        "plt.show()"
      ],
      "metadata": {
        "colab": {
          "base_uri": "https://localhost:8080/",
          "height": 540
        },
        "id": "HG_LvX_NxKam",
        "outputId": "907876e8-e407-45a5-8816-7339b20a3fa4"
      },
      "id": "HG_LvX_NxKam",
      "execution_count": 51,
      "outputs": [
        {
          "output_type": "display_data",
          "data": {
            "text/plain": [
              "<Figure size 864x576 with 8 Axes>"
            ],
            "image/png": "[encoded data removed]"
          },
          "metadata": {
            "needs_background": "light"
          }
        }
      ]
    },
    {
      "cell_type": "code",
      "source": [
        "from random import triangular\n",
        "# prepare dataset for train, validate, test\n",
        "# use final 20% episodes for testing\n",
        "\n",
        "test_size = 0.2*num_episodes\n",
        "valid_size = 0.1*num_episodes\n",
        "train_size = num_episodes - (test_size+valid_size)\n",
        "\n",
        "test_df = df[df['ep_num']<=test_size]\n",
        "valid_df = df[(df['ep_num']>test_size)&(df['ep_num']<=(valid_size+test_size))]\n",
        "train_df = df[(df['ep_num']>(valid_size+test_size))]\n",
        "\n",
        "features = []\n",
        "for i in range(8):\n",
        "  features.append(f'feature_{i}')\n",
        "\n",
        "test_labels = test_df['time_to_terminate']\n",
        "test_features = test_df[features]\n",
        "\n",
        "valid_labels = valid_df['time_to_terminate']\n",
        "valid_features = valid_df[features]\n",
        "\n",
        "train_labels = train_df['time_to_terminate']\n",
        "train_features = train_df[features]\n",
        "\n",
        "print('Test dataset shapes:', test_labels.shape, test_features.shape)\n",
        "print('Validation dataset shapes:', valid_labels.shape, valid_features.shape)\n",
        "print('Train dataset shapes:', train_labels.shape, train_features.shape)"
      ],
      "metadata": {
        "colab": {
          "base_uri": "https://localhost:8080/"
        },
        "id": "gmKXAZHJpzQ6",
        "outputId": "eb9d1fa1-478d-4928-aac0-180ff4694a5b"
      },
      "id": "gmKXAZHJpzQ6",
      "execution_count": 52,
      "outputs": [
        {
          "output_type": "stream",
          "name": "stdout",
          "text": [
            "Test dataset shapes: (12795,) (12795, 8)\n",
            "Validation dataset shapes: (6380,) (6380, 8)\n",
            "Train dataset shapes: (44393,) (44393, 8)\n"
          ]
        }
      ]
    },
    {
      "cell_type": "code",
      "source": [
        "# linear regression model to predict time_to_terminate using features as baseline\n",
        "# this model does not take into account the time series i.e. it assumes that t, t+1 are independent\n",
        "\n",
        "from sklearn.linear_model import LinearRegression\n",
        "\n",
        "regr = LinearRegression()\n",
        "\n",
        "regr.fit(train_features, train_labels)\n",
        "\n",
        "preds = regr.predict(test_features)\n",
        "\n",
        "print('MSE: \\n', forecast_error(test_labels, preds))\n",
        "print('Score: \\n', regr.score(test_features, test_labels))"
      ],
      "metadata": {
        "colab": {
          "base_uri": "https://localhost:8080/"
        },
        "id": "DGVE0Lf1KHNi",
        "outputId": "f15fb3fb-68b2-4b6c-8eed-b1cc09315c3b"
      },
      "id": "DGVE0Lf1KHNi",
      "execution_count": 53,
      "outputs": [
        {
          "output_type": "stream",
          "name": "stdout",
          "text": [
            "MSE: \n",
            " 2.006448636554784\n",
            "Score: \n",
            " 0.6220982104247623\n"
          ]
        }
      ]
    },
    {
      "cell_type": "code",
      "source": [
        "print(regr.coef_)\n",
        "print(regr.intercept_)"
      ],
      "metadata": {
        "colab": {
          "base_uri": "https://localhost:8080/"
        },
        "id": "E2sj7t90VOXp",
        "outputId": "4857b966-a9f0-4984-f60f-de91e8fc9b73"
      },
      "id": "E2sj7t90VOXp",
      "execution_count": 54,
      "outputs": [
        {
          "output_type": "stream",
          "name": "stdout",
          "text": [
            "[ 7.34238737e+00  6.51136571e+00  2.55066633e+00  5.10208973e+00\n",
            "  5.21089377e+00 -1.63005264e-01 -6.05432575e-02  1.66079548e-03]\n",
            "-6.1799543991738615\n"
          ]
        }
      ]
    },
    {
      "cell_type": "markdown",
      "source": [
        "Results:\n",
        "\n",
        "> n=100, mse=2.07, model=lin reg\n",
        "coef= [ 1.33349380e+00 -6.43072005e-01 -1.25702564e+00  6.48821446e+00\n",
        "  5.30884445e+00 -1.92036934e-01 -8.90950510e-02 -3.15731262e-03]\n",
        "intercept= -7.1225544550046775\n",
        "\n",
        "\n",
        "\n",
        "> n=10000, mse=2.07, model=lin reg\n",
        "coef=[ 8.05432692  6.7247005   2.55556171  4.98903376  5.38681353 -0.09618963\n",
        "  0.021658    0.03276889]\n",
        "intercept=-6.228216297398191\n",
        "\n",
        "\n",
        "\n"
      ],
      "metadata": {
        "id": "hQ8aEqjZYMr9"
      },
      "id": "hQ8aEqjZYMr9"
    },
    {
      "cell_type": "code",
      "source": [
        "# log linear so only positve? \n",
        "# look at gamma regression to use linear regression and only predict positive values\n",
        "\n",
        "from sklearn.linear_model import PoissonRegressor\n",
        "\n",
        "pois_regr = PoissonRegressor()\n",
        "\n",
        "pois_regr.fit(train_features, train_labels)\n",
        "\n",
        "pois_preds = pois_regr.predict(test_features)\n",
        "print('Poisson model')\n",
        "print('MSE: \\n', forecast_error(test_labels, pois_preds))\n",
        "print('Score: \\n', pois_regr.score(test_features, test_labels))"
      ],
      "metadata": {
        "colab": {
          "base_uri": "https://localhost:8080/"
        },
        "id": "GVuSeff4Wa6B",
        "outputId": "f88594cb-69d0-46d7-d867-051b9825c993"
      },
      "id": "GVuSeff4Wa6B",
      "execution_count": 55,
      "outputs": [
        {
          "output_type": "stream",
          "name": "stdout",
          "text": [
            "Poisson model\n",
            "MSE: \n",
            " 4.424204694102423\n",
            "Score: \n",
            " 0.15328830788592485\n"
          ]
        }
      ]
    },
    {
      "cell_type": "code",
      "source": [
        "from sklearn.linear_model import TweedieRegressor\n",
        "\n",
        "tweed_regr = TweedieRegressor(power=1.5)\n",
        "\n",
        "tweed_regr.fit(train_features, train_labels)\n",
        "\n",
        "tweed_preds = tweed_regr.predict(test_features)\n",
        "print('Tweedie w/ power=1.5')\n",
        "print('MSE: \\n', forecast_error(test_labels, tweed_preds))\n",
        "print('Score: \\n', tweed_regr.score(test_features, test_labels))"
      ],
      "metadata": {
        "colab": {
          "base_uri": "https://localhost:8080/"
        },
        "id": "2UXgupFJuCRu",
        "outputId": "eed0df3b-7a86-4e4e-b9c3-def7eb87d683"
      },
      "id": "2UXgupFJuCRu",
      "execution_count": 56,
      "outputs": [
        {
          "output_type": "stream",
          "name": "stdout",
          "text": [
            "Tweedie w/ power=1.5\n",
            "MSE: \n",
            " 4.7399515965350005\n",
            "Score: \n",
            " 0.07121026784776197\n"
          ]
        }
      ]
    },
    {
      "cell_type": "code",
      "source": [
        "# take linear model but set preds less than zero to 0.\n",
        "preds_positive = preds.copy()\n",
        "preds_positive[preds_positive < 0] =  0\n",
        "\n",
        "print('Positive only predictions linear model')\n",
        "print('MSE: \\n', forecast_error(test_labels, preds_positive))\n"
      ],
      "metadata": {
        "colab": {
          "base_uri": "https://localhost:8080/"
        },
        "id": "vchbuD4Wwy32",
        "outputId": "5e40ac60-84ba-4ffe-adb2-a3d65fad8f41"
      },
      "id": "vchbuD4Wwy32",
      "execution_count": 57,
      "outputs": [
        {
          "output_type": "stream",
          "name": "stdout",
          "text": [
            "Positive only predictions linear model\n",
            "MSE: \n",
            " 1.8949439384928675\n"
          ]
        }
      ]
    },
    {
      "cell_type": "code",
      "source": [
        "# wants to learn the x^2 features so linear is a bad model e.g. direction (+/-) does not matter for falling for pendulum\n",
        "# implement NN to add non-linearity - use softplus for output\n",
        "\n",
        "class DenseNet(nn.Module):\n",
        "  def __init__(self):\n",
        "    super(DenseNet, self).__init__()\n",
        "    self.layer1 = nn.Linear(8,20)\n",
        "    self.layer2 = nn.Linear(20,1)\n",
        "    self.softplus = nn.Softplus()\n",
        "  \n",
        "  def forward(self, X):\n",
        "    hidden1 = self.layer1(X)\n",
        "    hidden2 = self.layer2(hidden1)\n",
        "\n",
        "    output = self.softplus(hidden2)\n",
        "    return output"
      ],
      "metadata": {
        "id": "uS2ohSKX8vbv"
      },
      "id": "uS2ohSKX8vbv",
      "execution_count": 58,
      "outputs": []
    },
    {
      "cell_type": "code",
      "source": [
        "dense_model = DenseNet()\n",
        "print(dense_model)"
      ],
      "metadata": {
        "id": "7jAj5bWQLxYz",
        "outputId": "181fa490-1659-42f2-b1fb-34e28e22ac70",
        "colab": {
          "base_uri": "https://localhost:8080/"
        }
      },
      "id": "7jAj5bWQLxYz",
      "execution_count": 60,
      "outputs": [
        {
          "output_type": "stream",
          "name": "stdout",
          "text": [
            "DenseNet(\n",
            "  (layer1): Linear(in_features=8, out_features=20, bias=True)\n",
            "  (layer2): Linear(in_features=20, out_features=1, bias=True)\n",
            "  (softplus): Softplus(beta=1, threshold=20)\n",
            ")\n"
          ]
        }
      ]
    },
    {
      "cell_type": "code",
      "source": [
        "# Test fwd pass of NN\n",
        "X_fwd_pass = torch.ones(1, 8, dtype=torch.float32, device='cpu')\n",
        "dense_model(X_fwd_pass)"
      ],
      "metadata": {
        "colab": {
          "base_uri": "https://localhost:8080/"
        },
        "id": "DS056DSJ2T7q",
        "outputId": "5aaff830-803c-4449-fe85-4ca90297619d"
      },
      "id": "DS056DSJ2T7q",
      "execution_count": 68,
      "outputs": [
        {
          "output_type": "execute_result",
          "data": {
            "text/plain": [
              "tensor([[0.7258]], grad_fn=<SoftplusBackward0>)"
            ]
          },
          "metadata": {},
          "execution_count": 68
        }
      ]
    },
    {
      "cell_type": "code",
      "source": [
        "# preprocess data into pytorch tensors\n",
        "\n",
        "dtype = torch.float32\n",
        "device = torch.device(\"cuda\" if torch.cuda.is_available() else \"cpu\")\n",
        "print('Using device: \\n', device)\n",
        "\n",
        "train_labels_tensor = torch.tensor(train_labels.values, dtype=dtype, device=device).view(len(train_labels), -1)\n",
        "train_features_tensor = torch.tensor(train_features.values, dtype=dtype, device=device, requires_grad=True)\n",
        "\n",
        "valid_labels_tensor = torch.tensor(valid_labels.values, dtype=dtype, device=device).view(len(valid_labels), -1)\n",
        "valid_features_tensor = torch.tensor(valid_features.values, dtype=dtype, device=device)\n",
        "\n",
        "test_labels_tensor = torch.tensor(test_labels.values, dtype=dtype, device=device).view(len(test_labels), -1)\n",
        "test_features_tensor = torch.tensor(test_features.values, dtype=dtype, device=device)\n",
        "\n",
        "print('Test tensor shapes:', test_labels_tensor.shape, test_features_tensor.shape)\n",
        "print('Validation tensor shapes:', valid_labels_tensor.shape, valid_features_tensor.shape)\n",
        "print('Train tensor shapes:', train_labels_tensor.shape, train_features_tensor.shape)"
      ],
      "metadata": {
        "id": "zU2ORSEtNfn3",
        "outputId": "f89a0ec5-7f03-45b3-f258-54817cdb67ae",
        "colab": {
          "base_uri": "https://localhost:8080/"
        }
      },
      "id": "zU2ORSEtNfn3",
      "execution_count": 75,
      "outputs": [
        {
          "output_type": "stream",
          "name": "stdout",
          "text": [
            "Using device: \n",
            " cuda\n",
            "Test tensor shapes: torch.Size([12795, 1]) torch.Size([12795, 8])\n",
            "Validation tensor shapes: torch.Size([6380, 1]) torch.Size([6380, 8])\n",
            "Train tensor shapes: torch.Size([44393, 1]) torch.Size([44393, 8])\n"
          ]
        }
      ]
    },
    {
      "cell_type": "code",
      "source": [
        "from sklearn.metrics import log_loss\n",
        "# Training loop\n",
        "\n",
        "def train(y_train, X_train, y_valid, X_valid, y_test, X_test, model_, \\\n",
        "          epochs=10000, learning_rate=0.1):\n",
        "  criterion = nn.MSELoss()\n",
        "  optimizer = torch.optim.SGD(model_.parameters(), lr=learning_rate)\n",
        "\n",
        "  for epoch in range(epochs):\n",
        "    optimizer.zero_grad()\n",
        "\n",
        "    train_preds = model_(X_train)\n",
        "    train_loss = torch.sqrt(criterion(train_preds, y_train))\n",
        "    if epoch % 500 == 0:\n",
        "      valid_preds = model_(X_valid)\n",
        "      valid_loss = torch.sqrt(criterion(valid_preds, y_valid))\n",
        "      print(f'epoch #{epoch} \\n training loss: \\n', train_loss.item(), \\\n",
        "            '\\n validation loss: \\n', valid_loss.item(), '\\n')\n",
        "    train_loss.backward()\n",
        "    optimizer.step()\n",
        "\n",
        "  test_preds = model_(X_test)\n",
        "  test_loss = torch.sqrt(criterion(test_preds, y_test))\n",
        "\n",
        "  print('Final metrics: \\n training loss: ', train_loss.item(), \\\n",
        "        '\\n validation loss: ', valid_loss.item(),'\\n test loss: ', \\\n",
        "        test_loss.item())\n"
      ],
      "metadata": {
        "id": "Q9kS-Yfi0DiZ"
      },
      "id": "Q9kS-Yfi0DiZ",
      "execution_count": 78,
      "outputs": []
    },
    {
      "cell_type": "code",
      "source": [
        "# model to gpu and train\n",
        "dense_model.to(device)\n",
        "\n",
        "train(train_labels_tensor, train_features_tensor, valid_labels_tensor, valid_features_tensor, \\\n",
        "      test_labels_tensor, test_features_tensor, dense_model, epochs=10000)"
      ],
      "metadata": {
        "colab": {
          "base_uri": "https://localhost:8080/"
        },
        "id": "UmaC7D0g7EG8",
        "outputId": "7e67f3f7-d8ac-4a92-98e0-81560d65b3de"
      },
      "id": "UmaC7D0g7EG8",
      "execution_count": 79,
      "outputs": [
        {
          "output_type": "stream",
          "name": "stdout",
          "text": [
            "epoch #0 \n",
            " training loss: \n",
            " 1.5563859939575195 \n",
            " validation loss: \n",
            " 1.6023122072219849 \n",
            "\n",
            "epoch #500 \n",
            " training loss: \n",
            " 1.493034839630127 \n",
            " validation loss: \n",
            " 1.518715500831604 \n",
            "\n",
            "epoch #1000 \n",
            " training loss: \n",
            " 1.555769681930542 \n",
            " validation loss: \n",
            " 1.5603400468826294 \n",
            "\n",
            "epoch #1500 \n",
            " training loss: \n",
            " 1.4963276386260986 \n",
            " validation loss: \n",
            " 1.510853886604309 \n",
            "\n",
            "epoch #2000 \n",
            " training loss: \n",
            " 1.4909358024597168 \n",
            " validation loss: \n",
            " 1.5129611492156982 \n",
            "\n",
            "epoch #2500 \n",
            " training loss: \n",
            " 1.4758461713790894 \n",
            " validation loss: \n",
            " 1.4960761070251465 \n",
            "\n",
            "epoch #3000 \n",
            " training loss: \n",
            " 1.4486546516418457 \n",
            " validation loss: \n",
            " 1.4676833152770996 \n",
            "\n",
            "epoch #3500 \n",
            " training loss: \n",
            " 1.4228014945983887 \n",
            " validation loss: \n",
            " 1.4407752752304077 \n",
            "\n",
            "epoch #4000 \n",
            " training loss: \n",
            " 1.4065182209014893 \n",
            " validation loss: \n",
            " 1.4212504625320435 \n",
            "\n",
            "epoch #4500 \n",
            " training loss: \n",
            " 1.4031617641448975 \n",
            " validation loss: \n",
            " 1.4143996238708496 \n",
            "\n",
            "epoch #5000 \n",
            " training loss: \n",
            " 1.3915735483169556 \n",
            " validation loss: \n",
            " 1.4025897979736328 \n",
            "\n",
            "epoch #5500 \n",
            " training loss: \n",
            " 1.3789925575256348 \n",
            " validation loss: \n",
            " 1.3910436630249023 \n",
            "\n",
            "epoch #6000 \n",
            " training loss: \n",
            " 1.3675251007080078 \n",
            " validation loss: \n",
            " 1.38126802444458 \n",
            "\n",
            "epoch #6500 \n",
            " training loss: \n",
            " 1.357782006263733 \n",
            " validation loss: \n",
            " 1.3729615211486816 \n",
            "\n",
            "epoch #7000 \n",
            " training loss: \n",
            " 1.349892497062683 \n",
            " validation loss: \n",
            " 1.3648470640182495 \n",
            "\n",
            "epoch #7500 \n",
            " training loss: \n",
            " 1.3448123931884766 \n",
            " validation loss: \n",
            " 1.359877586364746 \n",
            "\n",
            "epoch #8000 \n",
            " training loss: \n",
            " 1.3394476175308228 \n",
            " validation loss: \n",
            " 1.3548847436904907 \n",
            "\n",
            "epoch #8500 \n",
            " training loss: \n",
            " 1.3347405195236206 \n",
            " validation loss: \n",
            " 1.3504638671875 \n",
            "\n",
            "epoch #9000 \n",
            " training loss: \n",
            " 1.3305120468139648 \n",
            " validation loss: \n",
            " 1.346501350402832 \n",
            "\n",
            "epoch #9500 \n",
            " training loss: \n",
            " 1.3267245292663574 \n",
            " validation loss: \n",
            " 1.342957615852356 \n",
            "\n",
            "Final metrics: \n",
            " training loss:  1.3147006034851074 \n",
            " validation loss:  1.342957615852356 \n",
            " test loss:  1.3070834875106812\n"
          ]
        }
      ]
    },
    {
      "cell_type": "code",
      "source": [
        "# next add reLU for additional non-linearity\n",
        "\n",
        "class DenseNetRelu(nn.Module):\n",
        "  def __init__(self):\n",
        "    super(DenseNetRelu, self).__init__()\n",
        "    self.layer1 = nn.Linear(8,20)\n",
        "    self.relu1 = nn.ReLU()\n",
        "    self.layer2 = nn.Linear(20,1)\n",
        "    self.relu2 = nn.ReLU()\n",
        "    self.softplus = nn.Softplus()\n",
        "  \n",
        "  def forward(self, X):\n",
        "    hidden1 = self.relu1(self.layer1(X))\n",
        "    hidden2 = self.relu2(self.layer2(hidden1))\n",
        "\n",
        "    output = self.softplus(hidden2)\n",
        "    return output"
      ],
      "metadata": {
        "id": "_ILkFZvfWG1y"
      },
      "id": "_ILkFZvfWG1y",
      "execution_count": 80,
      "outputs": []
    },
    {
      "cell_type": "code",
      "source": [
        "dense_plus_relu_model = DenseNetRelu()\n",
        "print(dense_plus_relu_model)"
      ],
      "metadata": {
        "colab": {
          "base_uri": "https://localhost:8080/"
        },
        "id": "gd5p8BwgYNM1",
        "outputId": "a3d22976-7c8e-4366-9cce-3d1733cdbda6"
      },
      "id": "gd5p8BwgYNM1",
      "execution_count": 81,
      "outputs": [
        {
          "output_type": "stream",
          "name": "stdout",
          "text": [
            "DenseNetRelu(\n",
            "  (layer1): Linear(in_features=8, out_features=20, bias=True)\n",
            "  (relu1): ReLU()\n",
            "  (layer2): Linear(in_features=20, out_features=1, bias=True)\n",
            "  (relu2): ReLU()\n",
            "  (softplus): Softplus(beta=1, threshold=20)\n",
            ")\n"
          ]
        }
      ]
    },
    {
      "cell_type": "code",
      "source": [
        "dense_plus_relu_model.to(device)\n",
        "\n",
        "train(train_labels_tensor, train_features_tensor, valid_labels_tensor, valid_features_tensor, \\\n",
        "      test_labels_tensor, test_features_tensor, dense_plus_relu_model, epochs=10000)"
      ],
      "metadata": {
        "colab": {
          "base_uri": "https://localhost:8080/"
        },
        "id": "eEcpVrPJY1TY",
        "outputId": "85b8658b-8f9f-4adf-c540-c1f641957391"
      },
      "id": "eEcpVrPJY1TY",
      "execution_count": 83,
      "outputs": [
        {
          "output_type": "stream",
          "name": "stdout",
          "text": [
            "epoch #0 \n",
            " training loss: \n",
            " 3.2289772033691406 \n",
            " validation loss: \n",
            " 3.25728178024292 \n",
            "\n",
            "epoch #500 \n",
            " training loss: \n",
            " 1.1824253797531128 \n",
            " validation loss: \n",
            " 1.212167501449585 \n",
            "\n",
            "epoch #1000 \n",
            " training loss: \n",
            " 1.1570030450820923 \n",
            " validation loss: \n",
            " 1.1943438053131104 \n",
            "\n",
            "epoch #1500 \n",
            " training loss: \n",
            " 1.1065583229064941 \n",
            " validation loss: \n",
            " 1.141268253326416 \n",
            "\n",
            "epoch #2000 \n",
            " training loss: \n",
            " 1.1210112571716309 \n",
            " validation loss: \n",
            " 1.1496469974517822 \n",
            "\n",
            "epoch #2500 \n",
            " training loss: \n",
            " 1.1069321632385254 \n",
            " validation loss: \n",
            " 1.141946792602539 \n",
            "\n",
            "epoch #3000 \n",
            " training loss: \n",
            " 1.1219919919967651 \n",
            " validation loss: \n",
            " 1.1525228023529053 \n",
            "\n",
            "epoch #3500 \n",
            " training loss: \n",
            " 1.0893374681472778 \n",
            " validation loss: \n",
            " 1.1197834014892578 \n",
            "\n",
            "epoch #4000 \n",
            " training loss: \n",
            " 1.0881584882736206 \n",
            " validation loss: \n",
            " 1.1128816604614258 \n",
            "\n",
            "epoch #4500 \n",
            " training loss: \n",
            " 1.102583408355713 \n",
            " validation loss: \n",
            " 1.125156044960022 \n",
            "\n",
            "epoch #5000 \n",
            " training loss: \n",
            " 1.088857889175415 \n",
            " validation loss: \n",
            " 1.1127490997314453 \n",
            "\n",
            "epoch #5500 \n",
            " training loss: \n",
            " 1.0743952989578247 \n",
            " validation loss: \n",
            " 1.106105923652649 \n",
            "\n",
            "epoch #6000 \n",
            " training loss: \n",
            " 1.0758025646209717 \n",
            " validation loss: \n",
            " 1.1053920984268188 \n",
            "\n",
            "epoch #6500 \n",
            " training loss: \n",
            " 1.0802468061447144 \n",
            " validation loss: \n",
            " 1.1093175411224365 \n",
            "\n",
            "epoch #7000 \n",
            " training loss: \n",
            " 1.0794240236282349 \n",
            " validation loss: \n",
            " 1.1083428859710693 \n",
            "\n",
            "epoch #7500 \n",
            " training loss: \n",
            " 1.0702069997787476 \n",
            " validation loss: \n",
            " 1.1022661924362183 \n",
            "\n",
            "epoch #8000 \n",
            " training loss: \n",
            " 1.0702794790267944 \n",
            " validation loss: \n",
            " 1.1024752855300903 \n",
            "\n",
            "epoch #8500 \n",
            " training loss: \n",
            " 1.0709302425384521 \n",
            " validation loss: \n",
            " 1.1007009744644165 \n",
            "\n",
            "epoch #9000 \n",
            " training loss: \n",
            " 1.0679428577423096 \n",
            " validation loss: \n",
            " 1.099786639213562 \n",
            "\n",
            "epoch #9500 \n",
            " training loss: \n",
            " 1.0701119899749756 \n",
            " validation loss: \n",
            " 1.1027019023895264 \n",
            "\n",
            "Final metrics: \n",
            " training loss:  1.069650411605835 \n",
            " validation loss:  1.1027019023895264 \n",
            " test loss:  1.040063738822937\n"
          ]
        }
      ]
    },
    {
      "cell_type": "code",
      "source": [
        "class LSTMnet(nn.Module):\n",
        "  def __init__(self):\n",
        "    super(LSTMnet, self).__init__()\n",
        "    self.lstm = nn.LSTM(8, 16)\n",
        "    self.linear = nn.Linear(16, 1)\n",
        "    self.softplus = nn.Softplus()\n",
        "  \n",
        "  def forward(self, ep_features):\n",
        "    # embeds.view(len(sentence), 1, -1)) --> ??\n",
        "    lstm_out, _ = self.lstm(ep_features.view(len(ep_features),1,-1))\n",
        "    linear_out = self.linear(lstm_out.view(len(ep_features), -1))\n",
        "    output = self.softplus(linear_out)\n",
        "\n",
        "    return output"
      ],
      "metadata": {
        "id": "m-_tRsGDeRyk"
      },
      "id": "m-_tRsGDeRyk",
      "execution_count": null,
      "outputs": []
    },
    {
      "cell_type": "code",
      "source": [
        "test_episode = df[df['ep_num']==0]\n",
        "test_episode_feats = torch.tensor(test_episode[features].values, dtype=dtype, device=device)\n",
        "test_episode_labs = torch.tensor(test_episode['time_to_terminate'].values, dtype=dtype, device=device)\n",
        "\n",
        "lstm_model = LSTMnet()\n",
        "lstm_model(test_episode_feats)"
      ],
      "metadata": {
        "id": "AqMjtBfkgJFq"
      },
      "id": "AqMjtBfkgJFq",
      "execution_count": null,
      "outputs": []
    },
    {
      "cell_type": "code",
      "source": [
        "# prepare data for lstm i.e. [(ep1_features, ep1_labels), (ep2_features, ep2_labels), ...] in tensors\n",
        "\n",
        "eps = []\n",
        "\n",
        "for ep_num in range(num_episodes):\n",
        "  episode = df[df['ep_num']==ep_num]\n",
        "  episode_feats = torch.tensor(episode[features].values, dtype=dtype, device=device, requires_grad=True)\n",
        "  episode_labs = torch.tensor(episode['time_to_terminate'].values, dtype=dtype, device=device).view(len(episode),-1)\n",
        "  eps.append((episode_feats, episode_labs))\n",
        "\n",
        "assert len(eps) == num_episodes\n"
      ],
      "metadata": {
        "id": "R4y9Ko8bjYTw"
      },
      "id": "R4y9Ko8bjYTw",
      "execution_count": null,
      "outputs": []
    },
    {
      "cell_type": "code",
      "source": [
        "# try lstm to enable dependency between t, t+1 but only within the same episode\n",
        "# train on gpu\n",
        "\n",
        "\n",
        "def lstm_train(episodes, model_, epochs=10000, learning_rate=0.1):\n",
        "  criterion = nn.MSELoss()\n",
        "  optimizer = torch.optim.SGD(model_.parameters(), lr=learning_rate)\n",
        "  for epoch in range(epochs):\n",
        "    for ep_features, ep_labels in episodes:\n",
        "      optimizer.zero_grad()\n",
        "\n",
        "      ep_preds = model_(ep_features)\n",
        "      ep_loss = torch.sqrt(criterion(ep_preds, ep_labels))\n",
        "      ep_loss.backward()\n",
        "      optimizer.step()\n",
        "    if epoch % 1 == 0:\n",
        "      print(f'epoch #{epoch} loss: \\n', ep_loss.item())\n",
        "    "
      ],
      "metadata": {
        "id": "-HMXsDNxY-Tu"
      },
      "id": "-HMXsDNxY-Tu",
      "execution_count": null,
      "outputs": []
    },
    {
      "cell_type": "code",
      "source": [
        "lstm_train(eps, lstm_model, epochs=1000)"
      ],
      "metadata": {
        "id": "Sq9giHdonGjn"
      },
      "id": "Sq9giHdonGjn",
      "execution_count": null,
      "outputs": []
    },
    {
      "cell_type": "code",
      "source": [
        "sample = df.sample()\n",
        "sample_feat = sample[features]\n",
        "sample_lab = sample['time_to_terminate']\n",
        "print('Linear model: ',regr.predict(sample_feat)[0])\n",
        "print('Poisson model: ', pois_regr.predict(sample_feat)[0])\n",
        "print('DenseNet model: ', dense_model(torch.tensor(sample_feat.values, dtype=dtype, device=device)).item())\n",
        "print('DenseNetRelu model: ', dense_plus_relu_model(torch.tensor(sample_feat.values, dtype=dtype, device=device)).item())\n",
        "print('LSTM model: ', lstm_model(torch.tensor(sample_feat.values, dtype=dtype, device=device)).item())\n",
        "print('Actual:  ', sample_lab.values[0])"
      ],
      "metadata": {
        "colab": {
          "base_uri": "https://localhost:8080/",
          "height": 266
        },
        "id": "T14-cgqdVr_G",
        "outputId": "9617e626-f8e5-4bea-d874-476ea6740eb9"
      },
      "id": "T14-cgqdVr_G",
      "execution_count": 61,
      "outputs": [
        {
          "output_type": "stream",
          "name": "stdout",
          "text": [
            "Linear model:  4.496713472349312\n",
            "Poisson model:  3.231310723847726\n"
          ]
        },
        {
          "output_type": "error",
          "ename": "NameError",
          "evalue": "ignored",
          "traceback": [
            "\u001b[0;31m---------------------------------------------------------------------------\u001b[0m",
            "\u001b[0;31mNameError\u001b[0m                                 Traceback (most recent call last)",
            "\u001b[0;32m<ipython-input-61-e0c3a523cfaa>\u001b[0m in \u001b[0;36m<module>\u001b[0;34m\u001b[0m\n\u001b[1;32m      4\u001b[0m \u001b[0mprint\u001b[0m\u001b[0;34m(\u001b[0m\u001b[0;34m'Linear model: '\u001b[0m\u001b[0;34m,\u001b[0m\u001b[0mregr\u001b[0m\u001b[0;34m.\u001b[0m\u001b[0mpredict\u001b[0m\u001b[0;34m(\u001b[0m\u001b[0msample_feat\u001b[0m\u001b[0;34m)\u001b[0m\u001b[0;34m[\u001b[0m\u001b[0;36m0\u001b[0m\u001b[0;34m]\u001b[0m\u001b[0;34m)\u001b[0m\u001b[0;34m\u001b[0m\u001b[0;34m\u001b[0m\u001b[0m\n\u001b[1;32m      5\u001b[0m \u001b[0mprint\u001b[0m\u001b[0;34m(\u001b[0m\u001b[0;34m'Poisson model: '\u001b[0m\u001b[0;34m,\u001b[0m \u001b[0mpois_regr\u001b[0m\u001b[0;34m.\u001b[0m\u001b[0mpredict\u001b[0m\u001b[0;34m(\u001b[0m\u001b[0msample_feat\u001b[0m\u001b[0;34m)\u001b[0m\u001b[0;34m[\u001b[0m\u001b[0;36m0\u001b[0m\u001b[0;34m]\u001b[0m\u001b[0;34m)\u001b[0m\u001b[0;34m\u001b[0m\u001b[0;34m\u001b[0m\u001b[0m\n\u001b[0;32m----> 6\u001b[0;31m \u001b[0mprint\u001b[0m\u001b[0;34m(\u001b[0m\u001b[0;34m'DenseNet model: '\u001b[0m\u001b[0;34m,\u001b[0m \u001b[0mdense_model\u001b[0m\u001b[0;34m(\u001b[0m\u001b[0mtorch\u001b[0m\u001b[0;34m.\u001b[0m\u001b[0mtensor\u001b[0m\u001b[0;34m(\u001b[0m\u001b[0msample_feat\u001b[0m\u001b[0;34m.\u001b[0m\u001b[0mvalues\u001b[0m\u001b[0;34m,\u001b[0m \u001b[0mdtype\u001b[0m\u001b[0;34m=\u001b[0m\u001b[0mdtype\u001b[0m\u001b[0;34m,\u001b[0m \u001b[0mdevice\u001b[0m\u001b[0;34m=\u001b[0m\u001b[0mdevice\u001b[0m\u001b[0;34m)\u001b[0m\u001b[0;34m)\u001b[0m\u001b[0;34m.\u001b[0m\u001b[0mitem\u001b[0m\u001b[0;34m(\u001b[0m\u001b[0;34m)\u001b[0m\u001b[0;34m)\u001b[0m\u001b[0;34m\u001b[0m\u001b[0;34m\u001b[0m\u001b[0m\n\u001b[0m\u001b[1;32m      7\u001b[0m \u001b[0mprint\u001b[0m\u001b[0;34m(\u001b[0m\u001b[0;34m'DenseNetRelu model: '\u001b[0m\u001b[0;34m,\u001b[0m \u001b[0mdense_plus_relu_model\u001b[0m\u001b[0;34m(\u001b[0m\u001b[0mtorch\u001b[0m\u001b[0;34m.\u001b[0m\u001b[0mtensor\u001b[0m\u001b[0;34m(\u001b[0m\u001b[0msample_feat\u001b[0m\u001b[0;34m.\u001b[0m\u001b[0mvalues\u001b[0m\u001b[0;34m,\u001b[0m \u001b[0mdtype\u001b[0m\u001b[0;34m=\u001b[0m\u001b[0mdtype\u001b[0m\u001b[0;34m,\u001b[0m \u001b[0mdevice\u001b[0m\u001b[0;34m=\u001b[0m\u001b[0mdevice\u001b[0m\u001b[0;34m)\u001b[0m\u001b[0;34m)\u001b[0m\u001b[0;34m.\u001b[0m\u001b[0mitem\u001b[0m\u001b[0;34m(\u001b[0m\u001b[0;34m)\u001b[0m\u001b[0;34m)\u001b[0m\u001b[0;34m\u001b[0m\u001b[0;34m\u001b[0m\u001b[0m\n\u001b[1;32m      8\u001b[0m \u001b[0mprint\u001b[0m\u001b[0;34m(\u001b[0m\u001b[0;34m'LSTM model: '\u001b[0m\u001b[0;34m,\u001b[0m \u001b[0mlstm_model\u001b[0m\u001b[0;34m(\u001b[0m\u001b[0mtorch\u001b[0m\u001b[0;34m.\u001b[0m\u001b[0mtensor\u001b[0m\u001b[0;34m(\u001b[0m\u001b[0msample_feat\u001b[0m\u001b[0;34m.\u001b[0m\u001b[0mvalues\u001b[0m\u001b[0;34m,\u001b[0m \u001b[0mdtype\u001b[0m\u001b[0;34m=\u001b[0m\u001b[0mdtype\u001b[0m\u001b[0;34m,\u001b[0m \u001b[0mdevice\u001b[0m\u001b[0;34m=\u001b[0m\u001b[0mdevice\u001b[0m\u001b[0;34m)\u001b[0m\u001b[0;34m)\u001b[0m\u001b[0;34m.\u001b[0m\u001b[0mitem\u001b[0m\u001b[0;34m(\u001b[0m\u001b[0;34m)\u001b[0m\u001b[0;34m)\u001b[0m\u001b[0;34m\u001b[0m\u001b[0;34m\u001b[0m\u001b[0m\n",
            "\u001b[0;31mNameError\u001b[0m: name 'dtype' is not defined"
          ]
        }
      ]
    },
    {
      "cell_type": "code",
      "source": [
        "# batch processing and put on gpu"
      ],
      "metadata": {
        "id": "lEpqTk5-nORD"
      },
      "id": "lEpqTk5-nORD",
      "execution_count": null,
      "outputs": []
    },
    {
      "cell_type": "code",
      "source": [
        "# test on the test dataset\n",
        "\n",
        "# make sure only training on the the train dataset- currently all df "
      ],
      "metadata": {
        "id": "aWN0Kj6er6B5"
      },
      "id": "aWN0Kj6er6B5",
      "execution_count": null,
      "outputs": []
    }
  ],
  "metadata": {
    "kernelspec": {
      "display_name": "Python 3 (ipykernel)",
      "language": "python",
      "name": "python3"
    },
    "language_info": {
      "codemirror_mode": {
        "name": "ipython",
        "version": 3
      },
      "file_extension": ".py",
      "mimetype": "text/x-python",
      "name": "python",
      "nbconvert_exporter": "python",
      "pygments_lexer": "ipython3",
      "version": "3.7.0"
    },
    "colab": {
      "provenance": [],
      "include_colab_link": true
    },
    "accelerator": "GPU",
    "gpuClass": "standard"
  },
  "nbformat": 4,
  "nbformat_minor": 5
}