{
  "cells": [
    {
      "cell_type": "markdown",
      "metadata": {
        "id": "view-in-github",
        "colab_type": "text"
      },
      "source": [
        "<a href=\"https://colab.research.google.com/github/olwflynn/Learning/blob/master/Learning%20Physics.ipynb\" target=\"_parent\"><img src=\"https://colab.research.google.com/assets/colab-badge.svg\" alt=\"Open In Colab\"/></a>"
      ]
    },
    {
      "cell_type": "code",
      "execution_count": 1,
      "metadata": {
        "id": "s7PPg0VZG5cK",
        "colab": {
          "base_uri": "https://localhost:8080/"
        },
        "cellView": "form",
        "outputId": "b512bf09-8cab-4922-a802-360a9277eb8b"
      },
      "outputs": [
        {
          "output_type": "stream",
          "name": "stdout",
          "text": [
            "Reading package lists... Done\n",
            "Building dependency tree       \n",
            "Reading state information... Done\n",
            "libgl1-mesa-dev is already the newest version (20.0.8-0ubuntu1~18.04.1).\n",
            "libgl1-mesa-dev set to manually installed.\n",
            "software-properties-common is already the newest version (0.96.24.32.18).\n",
            "The following package was automatically installed and is no longer required:\n",
            "  libnvidia-common-460\n",
            "Use 'apt autoremove' to remove it.\n",
            "Suggested packages:\n",
            "  glew-utils\n",
            "The following NEW packages will be installed:\n",
            "  libgl1-mesa-glx libglew-dev libglew2.0 libosmesa6 libosmesa6-dev\n",
            "0 upgraded, 5 newly installed, 0 to remove and 21 not upgraded.\n",
            "Need to get 2,916 kB of archives.\n",
            "After this operation, 12.6 MB of additional disk space will be used.\n",
            "Get:1 http://archive.ubuntu.com/ubuntu bionic-updates/main amd64 libgl1-mesa-glx amd64 20.0.8-0ubuntu1~18.04.1 [5,532 B]\n",
            "Get:2 http://archive.ubuntu.com/ubuntu bionic/universe amd64 libglew2.0 amd64 2.0.0-5 [140 kB]\n",
            "Get:3 http://archive.ubuntu.com/ubuntu bionic/universe amd64 libglew-dev amd64 2.0.0-5 [120 kB]\n",
            "Get:4 http://archive.ubuntu.com/ubuntu bionic-updates/main amd64 libosmesa6 amd64 20.0.8-0ubuntu1~18.04.1 [2,641 kB]\n",
            "Get:5 http://archive.ubuntu.com/ubuntu bionic-updates/main amd64 libosmesa6-dev amd64 20.0.8-0ubuntu1~18.04.1 [8,828 B]\n",
            "Fetched 2,916 kB in 2s (1,410 kB/s)\n",
            "Selecting previously unselected package libgl1-mesa-glx:amd64.\n",
            "(Reading database ... 124016 files and directories currently installed.)\n",
            "Preparing to unpack .../libgl1-mesa-glx_20.0.8-0ubuntu1~18.04.1_amd64.deb ...\n",
            "Unpacking libgl1-mesa-glx:amd64 (20.0.8-0ubuntu1~18.04.1) ...\n",
            "Selecting previously unselected package libglew2.0:amd64.\n",
            "Preparing to unpack .../libglew2.0_2.0.0-5_amd64.deb ...\n",
            "Unpacking libglew2.0:amd64 (2.0.0-5) ...\n",
            "Selecting previously unselected package libglew-dev:amd64.\n",
            "Preparing to unpack .../libglew-dev_2.0.0-5_amd64.deb ...\n",
            "Unpacking libglew-dev:amd64 (2.0.0-5) ...\n",
            "Selecting previously unselected package libosmesa6:amd64.\n",
            "Preparing to unpack .../libosmesa6_20.0.8-0ubuntu1~18.04.1_amd64.deb ...\n",
            "Unpacking libosmesa6:amd64 (20.0.8-0ubuntu1~18.04.1) ...\n",
            "Selecting previously unselected package libosmesa6-dev:amd64.\n",
            "Preparing to unpack .../libosmesa6-dev_20.0.8-0ubuntu1~18.04.1_amd64.deb ...\n",
            "Unpacking libosmesa6-dev:amd64 (20.0.8-0ubuntu1~18.04.1) ...\n",
            "Setting up libosmesa6:amd64 (20.0.8-0ubuntu1~18.04.1) ...\n",
            "Setting up libgl1-mesa-glx:amd64 (20.0.8-0ubuntu1~18.04.1) ...\n",
            "Setting up libglew2.0:amd64 (2.0.0-5) ...\n",
            "Setting up libglew-dev:amd64 (2.0.0-5) ...\n",
            "Setting up libosmesa6-dev:amd64 (20.0.8-0ubuntu1~18.04.1) ...\n",
            "Processing triggers for libc-bin (2.27-3ubuntu1.6) ...\n",
            "Reading package lists... Done\n",
            "Building dependency tree       \n",
            "Reading state information... Done\n",
            "The following package was automatically installed and is no longer required:\n",
            "  libnvidia-common-460\n",
            "Use 'apt autoremove' to remove it.\n",
            "The following NEW packages will be installed:\n",
            "  patchelf\n",
            "0 upgraded, 1 newly installed, 0 to remove and 21 not upgraded.\n",
            "Need to get 46.5 kB of archives.\n",
            "After this operation, 130 kB of additional disk space will be used.\n",
            "Get:1 http://archive.ubuntu.com/ubuntu bionic/universe amd64 patchelf amd64 0.9-1 [46.5 kB]\n",
            "Fetched 46.5 kB in 1s (65.1 kB/s)\n",
            "Selecting previously unselected package patchelf.\n",
            "(Reading database ... 124054 files and directories currently installed.)\n",
            "Preparing to unpack .../patchelf_0.9-1_amd64.deb ...\n",
            "Unpacking patchelf (0.9-1) ...\n",
            "Setting up patchelf (0.9-1) ...\n",
            "Processing triggers for man-db (2.8.3-2ubuntu0.1) ...\n",
            "Looking in indexes: https://pypi.org/simple, https://us-python.pkg.dev/colab-wheels/public/simple/\n",
            "Requirement already satisfied: gym in /usr/local/lib/python3.8/dist-packages (0.25.2)\n",
            "Collecting free-mujoco-py\n",
            "  Downloading free_mujoco_py-2.1.6-py3-none-any.whl (14.1 MB)\n",
            "\u001b[2K     \u001b[90m━━━━━━━━━━━━━━━━━━━━━━━━━━━━━━━━━━━━━━━━\u001b[0m \u001b[32m14.1/14.1 MB\u001b[0m \u001b[31m57.0 MB/s\u001b[0m eta \u001b[36m0:00:00\u001b[0m\n",
            "\u001b[?25hCollecting mujoco\n",
            "  Downloading mujoco-2.3.1.post1-cp38-cp38-manylinux_2_17_x86_64.manylinux2014_x86_64.whl (4.2 MB)\n",
            "\u001b[2K     \u001b[90m━━━━━━━━━━━━━━━━━━━━━━━━━━━━━━━━━━━━━━━━\u001b[0m \u001b[32m4.2/4.2 MB\u001b[0m \u001b[31m102.1 MB/s\u001b[0m eta \u001b[36m0:00:00\u001b[0m\n",
            "\u001b[?25hRequirement already satisfied: torch in /usr/local/lib/python3.8/dist-packages (1.13.1+cu116)\n",
            "Requirement already satisfied: importlib-metadata>=4.8.0 in /usr/local/lib/python3.8/dist-packages (from gym) (6.0.0)\n",
            "Requirement already satisfied: cloudpickle>=1.2.0 in /usr/local/lib/python3.8/dist-packages (from gym) (2.2.0)\n",
            "Requirement already satisfied: gym-notices>=0.0.4 in /usr/local/lib/python3.8/dist-packages (from gym) (0.0.8)\n",
            "Requirement already satisfied: numpy>=1.18.0 in /usr/local/lib/python3.8/dist-packages (from gym) (1.21.6)\n",
            "Collecting glfw<2.0.0,>=1.4.0\n",
            "  Downloading glfw-1.12.0-py2.py27.py3.py30.py31.py32.py33.py34.py35.py36.py37.py38-none-manylinux2014_x86_64.whl (203 kB)\n",
            "\u001b[2K     \u001b[90m━━━━━━━━━━━━━━━━━━━━━━━━━━━━━━━━━━━━━━\u001b[0m \u001b[32m203.7/203.7 KB\u001b[0m \u001b[31m23.4 MB/s\u001b[0m eta \u001b[36m0:00:00\u001b[0m\n",
            "\u001b[?25hRequirement already satisfied: imageio<3.0.0,>=2.9.0 in /usr/local/lib/python3.8/dist-packages (from free-mujoco-py) (2.9.0)\n",
            "Requirement already satisfied: Cython<0.30.0,>=0.29.24 in /usr/local/lib/python3.8/dist-packages (from free-mujoco-py) (0.29.33)\n",
            "Collecting fasteners==0.15\n",
            "  Downloading fasteners-0.15-py2.py3-none-any.whl (23 kB)\n",
            "Requirement already satisfied: cffi<2.0.0,>=1.15.0 in /usr/local/lib/python3.8/dist-packages (from free-mujoco-py) (1.15.1)\n",
            "Collecting monotonic>=0.1\n",
            "  Downloading monotonic-1.6-py2.py3-none-any.whl (8.2 kB)\n",
            "Requirement already satisfied: six in /usr/local/lib/python3.8/dist-packages (from fasteners==0.15->free-mujoco-py) (1.15.0)\n",
            "Requirement already satisfied: pyopengl in /usr/local/lib/python3.8/dist-packages (from mujoco) (3.1.6)\n",
            "Requirement already satisfied: absl-py in /usr/local/lib/python3.8/dist-packages (from mujoco) (1.3.0)\n",
            "Requirement already satisfied: typing-extensions in /usr/local/lib/python3.8/dist-packages (from torch) (4.4.0)\n",
            "Requirement already satisfied: pycparser in /usr/local/lib/python3.8/dist-packages (from cffi<2.0.0,>=1.15.0->free-mujoco-py) (2.21)\n",
            "Requirement already satisfied: pillow in /usr/local/lib/python3.8/dist-packages (from imageio<3.0.0,>=2.9.0->free-mujoco-py) (7.1.2)\n",
            "Requirement already satisfied: zipp>=0.5 in /usr/local/lib/python3.8/dist-packages (from importlib-metadata>=4.8.0->gym) (3.11.0)\n",
            "Installing collected packages: monotonic, glfw, mujoco, fasteners, free-mujoco-py\n",
            "Successfully installed fasteners-0.15 free-mujoco-py-2.1.6 glfw-1.12.0 monotonic-1.6 mujoco-2.3.1.post1\n"
          ]
        }
      ],
      "source": [
        "#@title Install dependencies\n",
        "\n",
        "!apt-get install -y \\\n",
        "    libgl1-mesa-dev \\\n",
        "    libgl1-mesa-glx \\\n",
        "    libglew-dev \\\n",
        "    libosmesa6-dev \\\n",
        "    software-properties-common\n",
        "\n",
        "!apt-get install -y patchelf\n",
        "\n",
        "!pip install gym free-mujoco-py mujoco torch"
      ],
      "id": "s7PPg0VZG5cK"
    },
    {
      "cell_type": "code",
      "execution_count": 7,
      "metadata": {
        "id": "TtWrmOCKHD6I",
        "cellView": "form"
      },
      "outputs": [],
      "source": [
        "#@title Import dependencies\n",
        "\n",
        "import mujoco_py\n",
        "import gym\n",
        "import numpy as np\n",
        "import torch\n",
        "import pandas as pd\n"
      ],
      "id": "TtWrmOCKHD6I"
    },
    {
      "cell_type": "code",
      "source": [
        "#@title Setup environment for inverted double pendulum\n",
        "\n",
        "env = gym.make(\"InvertedDoublePendulum-v4\", new_step_api=True)\n",
        "env.reset(seed=42)\n",
        "env.step(env.action_space.sample())"
      ],
      "metadata": {
        "colab": {
          "base_uri": "https://localhost:8080/"
        },
        "cellView": "form",
        "id": "7YlxRJWa1mYd",
        "outputId": "a849d1ca-f1fd-497d-9a44-37caa82f8124"
      },
      "id": "7YlxRJWa1mYd",
      "execution_count": 3,
      "outputs": [
        {
          "output_type": "execute_result",
          "data": {
            "text/plain": [
              "(array([ 0.04255212,  0.0109174 ,  0.02733984,  0.9999404 ,  0.9996262 ,\n",
              "        -0.58472013,  1.13222641, -1.67376231,  0.        ,  0.        ,\n",
              "         0.        ]), 9.343898869017941, False, False, {})"
            ]
          },
          "metadata": {},
          "execution_count": 3
        }
      ]
    },
    {
      "cell_type": "code",
      "execution_count": 48,
      "id": "8963723f-d1d8-46e8-a062-277326a5efaf",
      "metadata": {
        "id": "8963723f-d1d8-46e8-a062-277326a5efaf"
      },
      "outputs": [],
      "source": [
        "#@title Define utility fn for root mean squared error of forecast\n",
        "\n",
        "def forecast_error(X_obs, preds):\n",
        "    \n",
        "    rmse = np.sqrt(sum(np.square(X_obs - preds)) / len(X_obs))\n",
        "    \n",
        "    return rmse"
      ]
    },
    {
      "cell_type": "code",
      "execution_count": 5,
      "id": "ad741ec6-c60b-4124-a3ef-80944f5d6f75",
      "metadata": {
        "colab": {
          "base_uri": "https://localhost:8080/",
          "height": 1000
        },
        "cellView": "form",
        "id": "ad741ec6-c60b-4124-a3ef-80944f5d6f75",
        "outputId": "9b3187bf-96cf-4610-eed9-2b59f5c057ee"
      },
      "outputs": [
        {
          "output_type": "stream",
          "name": "stdout",
          "text": [
            "epoch # 0\n",
            "[-0.01803922  0.13175052 -0.13663064  0.99128291  0.99062206 -1.83758987\n",
            "  3.72616719 -4.90935181  0.          0.          0.        ] 9.217166606373143 False False {}\n",
            "obs:  [0.13175052152112757] \n",
            " preds:  [0.13175052 0.33175052 0.33175052 0.33175052]\n"
          ]
        },
        {
          "output_type": "display_data",
          "data": {
            "text/plain": [
              "<Figure size 504x360 with 1 Axes>"
            ],
            "image/png": "[encoded data removed]"
          },
          "metadata": {
            "needs_background": "light"
          }
        },
        {
          "output_type": "stream",
          "name": "stdout",
          "text": [
            "epoch # 1\n",
            "[-0.15122176  0.38729253 -0.44644641  0.92195689  0.89481037 -3.44234384\n",
            "  6.64759593 -7.38250383  0.          0.          0.        ] 8.964050513570653 False False {}\n",
            "obs:  [0.13175052152112757, 0.38729252692918975] \n",
            " preds:  [0.38729253 0.58729253 0.58729253 0.58729253]\n"
          ]
        },
        {
          "output_type": "display_data",
          "data": {
            "text/plain": [
              "<Figure size 504x360 with 1 Axes>"
            ],
            "image/png": "[encoded data removed]"
          },
          "metadata": {
            "needs_background": "light"
          }
        },
        {
          "output_type": "stream",
          "name": "stdout",
          "text": [
            "epoch # 2\n",
            "[-0.36245001  0.70074355 -0.71011791  0.71341325  0.70408277 -4.93414572\n",
            "  8.1952227  -4.78830142  0.          0.          0.        ] 8.873429871172661 False False {}\n",
            "obs:  [0.13175052152112757, 0.38729252692918975, 0.7007435541918171] \n",
            " preds:  [0.70074355 0.90074355 0.90074355 0.90074355]\n"
          ]
        },
        {
          "output_type": "display_data",
          "data": {
            "text/plain": [
              "<Figure size 504x360 with 1 Axes>"
            ],
            "image/png": "[encoded data removed]"
          },
          "metadata": {
            "needs_background": "light"
          }
        },
        {
          "output_type": "stream",
          "name": "stdout",
          "text": [
            "epoch # 3\n",
            "[-0.60394909  0.91991533 -0.79535908  0.39211706  0.60613854 -4.71653773\n",
            "  7.43645647 -0.39536331  0.          0.          0.        ] 8.544056365410551 True False {}\n",
            "obs:  [0.13175052152112757, 0.38729252692918975, 0.7007435541918171, 0.9199153266941007] \n",
            " preds:  [0.91991533 1.11991533 1.11991533 1.11991533]\n"
          ]
        },
        {
          "output_type": "display_data",
          "data": {
            "text/plain": [
              "<Figure size 504x360 with 1 Axes>"
            ],
            "image/png": "[encoded data removed]"
          },
          "metadata": {
            "needs_background": "light"
          }
        },
        {
          "output_type": "stream",
          "name": "stdout",
          "text": [
            "[0.13175052152112757, 0.38729252692918975, 0.7007435541918171, 0.9199153266941007]\n",
            "Prediction error in last 3 steps:  0.5008130528111538\n"
          ]
        }
      ],
      "source": [
        "#@title Live plot an episode for how feature_1 progresses (blue line) and a naive predictor (orange line)\n",
        "\n",
        "from IPython.display import clear_output\n",
        "import time\n",
        "import matplotlib.pyplot as plt\n",
        "\n",
        "def live_plot(data_dict, figsize=(7,5), title=''):\n",
        "    # clear_output(wait=True)\n",
        "    plt.figure(figsize=figsize)\n",
        "    # for label,data in data_dict.items():\n",
        "    obs = data_dict[\"obs\"]\n",
        "    preds = data_dict[\"preds\"]\n",
        "    print(\"obs: \", obs, \"\\n preds: \",preds)\n",
        "\n",
        "    plt.plot(obs, label=\"obs\")\n",
        "    plt.plot(range(len(obs)-1, len(obs)+len(preds)-1), preds, label=\"preds\")\n",
        "    \n",
        "    plt.title(title)\n",
        "    plt.grid(True)\n",
        "    plt.xlabel('epoch')\n",
        "    plt.legend(loc='center left') # the plot evolves to the right\n",
        "    plt.show();\n",
        "\n",
        "# naive forecaster where we predict the angle at the next 3 steps is the same as the current angle\n",
        "def naive_forecaster(X):\n",
        "    # X is the all data known to the forecaster at the time. X is only the current and previous angles for now.\n",
        "    \n",
        "    current_angle = X[-1]\n",
        "    angle_t_plus_1 = current_angle\n",
        "    angle_t_plus_2 = current_angle\n",
        "    angle_t_plus_3 = current_angle\n",
        "    \n",
        "    return np.array([angle_t_plus_1, angle_t_plus_2, angle_t_plus_3])\n",
        "\n",
        "obs_history = []\n",
        "\n",
        "for _ in range(10):\n",
        "    print(\"epoch #\", _)\n",
        "    observation, reward, terminated, truncated, info = env.step(env.action_space.sample())\n",
        "    print(observation, reward, terminated, truncated, info)\n",
        "    obs_history.append(observation[1])\n",
        "    preds = obs_history[-1]+[0, 0.2,0.2,0.2]\n",
        "    live_plot({\"obs\": obs_history, \"preds\": preds}, title=\"Radians by epoch\")\n",
        "    time.sleep(1)\n",
        "    if terminated or truncated:\n",
        "        print(obs_history)\n",
        "        print(\"Prediction error in last 3 steps: \", forecast_error(obs_history[-3:], preds[-3:]))\n",
        "        break\n",
        "\n",
        "env.close()"
      ]
    },
    {
      "cell_type": "code",
      "source": [
        "#@title Define utility fn for running an episode\n",
        "\n",
        "def create_rows_for_episode(ep_num):\n",
        "  env.reset(seed=42)\n",
        "  for _ in range(100):\n",
        "    observation, reward, terminated, truncated, info = env.step(env.action_space.sample())\n",
        "    features = np.array(observation[:8]).reshape(1, 8)\n",
        "    if _ == 0:\n",
        "      rows_for_ep = features\n",
        "    else:\n",
        "      rows_for_ep = np.concatenate((rows_for_ep, features), axis=0)\n",
        "    if terminated or truncated:\n",
        "      labels = np.array(range(_, -1,-1)).reshape(_+1, 1)\n",
        "      ep_num_arr = np.array([ep_num for i in range(len(labels))]).reshape(_+1, 1)\n",
        "      assert len(labels) == len(rows_for_ep)\n",
        "      rows_for_ep = np.concatenate((rows_for_ep, labels), axis=1)\n",
        "      rows_for_ep = np.concatenate((rows_for_ep, ep_num_arr), axis=1)\n",
        "      # print(len(rows_for_ep), type(rows_for_ep))\n",
        "      return rows_for_ep\n",
        "  \n",
        "    "
      ],
      "metadata": {
        "cellView": "form",
        "id": "CCL0igDFRnWn"
      },
      "id": "CCL0igDFRnWn",
      "execution_count": 6,
      "outputs": []
    },
    {
      "cell_type": "code",
      "source": [
        "#@title Create a dataset with positions of the pendulum as features and time to terminate as label by running for X eps\n",
        "\n",
        "columns = []\n",
        "for i in range(8):\n",
        "  columns.append(f'feature_{i}')\n",
        "columns.append('time_to_terminate')\n",
        "columns.append('ep_num')\n",
        "\n",
        "#create array\n",
        "num_episodes = 10000\n",
        "for j in range(num_episodes):\n",
        "  episode_rows = create_rows_for_episode(j)\n",
        "  if j == 0:\n",
        "    arr = episode_rows\n",
        "  else:\n",
        "    arr = np.concatenate([arr, episode_rows], axis=0)\n",
        "env.close()\n",
        "\n",
        "df = pd.DataFrame(arr, columns=columns)\n",
        "print(df.head())\n",
        "print(df.describe())\n",
        "print(df.info())"
      ],
      "metadata": {
        "colab": {
          "base_uri": "https://localhost:8080/"
        },
        "cellView": "form",
        "id": "oiaRdUnNDpsn",
        "outputId": "f21132ba-569a-405e-b4ad-71621ae0c9a2"
      },
      "id": "oiaRdUnNDpsn",
      "execution_count": 8,
      "outputs": [
        {
          "output_type": "stream",
          "name": "stdout",
          "text": [
            "   feature_0  feature_1  feature_2  feature_3  feature_4  feature_5  \\\n",
            "0   0.073560  -0.052753   0.107658   0.998608   0.994188   0.658050   \n",
            "1   0.146236  -0.206033   0.287723   0.978545   0.957714   2.236974   \n",
            "2   0.290104  -0.477149   0.567473   0.878823   0.823392   3.472895   \n",
            "3   0.478987  -0.749220   0.756648   0.662321   0.653823   4.049672   \n",
            "4   0.029349   0.038108  -0.007219   0.999274   0.999974  -1.113699   \n",
            "\n",
            "   feature_6  feature_7  time_to_terminate  ep_num  \n",
            "0  -1.436422   1.590041                3.0     0.0  \n",
            "1  -4.684512   5.542180                2.0     0.0  \n",
            "2  -6.698059   6.253761                1.0     0.0  \n",
            "3  -7.179982   3.607439                0.0     0.0  \n",
            "4   2.230035  -3.079006                5.0     1.0  \n",
            "          feature_0     feature_1     feature_2     feature_3     feature_4  \\\n",
            "count  63284.000000  63284.000000  63284.000000  63284.000000  63284.000000   \n",
            "mean       0.054438     -0.034597      0.065598      0.886637      0.817206   \n",
            "std        0.225439      0.437784      0.533243      0.145009      0.208634   \n",
            "min       -0.794281     -0.939231     -0.997099      0.327926      0.076112   \n",
            "25%       -0.067633     -0.334402     -0.314964      0.822380      0.686813   \n",
            "50%        0.059833     -0.037573      0.089061      0.955794      0.910807   \n",
            "75%        0.184683      0.242840      0.484638      0.994696      0.987474   \n",
            "max        0.775489      0.944703      0.996615      1.000000      1.000000   \n",
            "\n",
            "          feature_5     feature_6     feature_7  time_to_terminate  \\\n",
            "count  63284.000000  63284.000000  63284.000000       63284.000000   \n",
            "mean       0.022093     -0.220770      0.138792           2.945278   \n",
            "std        1.952164      3.949085      4.355463           2.311590   \n",
            "min       -6.586609     -9.570559    -10.000000           0.000000   \n",
            "25%       -1.373008     -3.507605     -4.200195           1.000000   \n",
            "50%        0.050313     -0.392620      0.579433           3.000000   \n",
            "75%        1.440027      3.028922      4.369829           4.000000   \n",
            "max        6.136121     10.000000      9.575621          16.000000   \n",
            "\n",
            "             ep_num  \n",
            "count  63284.000000  \n",
            "mean    5004.488085  \n",
            "std     2889.370183  \n",
            "min        0.000000  \n",
            "25%     2487.750000  \n",
            "50%     5016.000000  \n",
            "75%     7519.000000  \n",
            "max     9999.000000  \n",
            "<class 'pandas.core.frame.DataFrame'>\n",
            "RangeIndex: 63284 entries, 0 to 63283\n",
            "Data columns (total 10 columns):\n",
            " #   Column             Non-Null Count  Dtype  \n",
            "---  ------             --------------  -----  \n",
            " 0   feature_0          63284 non-null  float64\n",
            " 1   feature_1          63284 non-null  float64\n",
            " 2   feature_2          63284 non-null  float64\n",
            " 3   feature_3          63284 non-null  float64\n",
            " 4   feature_4          63284 non-null  float64\n",
            " 5   feature_5          63284 non-null  float64\n",
            " 6   feature_6          63284 non-null  float64\n",
            " 7   feature_7          63284 non-null  float64\n",
            " 8   time_to_terminate  63284 non-null  float64\n",
            " 9   ep_num             63284 non-null  float64\n",
            "dtypes: float64(10)\n",
            "memory usage: 4.8 MB\n",
            "None\n"
          ]
        }
      ]
    },
    {
      "cell_type": "code",
      "source": [
        "#@title Plot first five episodes trajectories against all features\n",
        "\n",
        "ep_split_df = [df[df['ep_num']==i] for i in range(5)]\n",
        "num_features = 8\n",
        "fig, axs = plt.subplots(num_features, figsize=(12, 8))\n",
        "plt.suptitle('First 5 episodes against features')\n",
        "for i in range(num_features):\n",
        "  for el in ep_split_df:\n",
        "    ep = el['ep_num'].values[0]\n",
        "    axs[i].plot(el[f'feature_{i}'], label=f'episode_{int(ep)}')\n",
        "    axs[i].set_title(f'feature_{i}', fontsize='small')\n",
        "# plt.legend(loc='right')\n",
        "plt.show()"
      ],
      "metadata": {
        "colab": {
          "base_uri": "https://localhost:8080/",
          "height": 540
        },
        "cellView": "form",
        "id": "HG_LvX_NxKam",
        "outputId": "0cb39c3d-4ae5-4f6f-948a-774d9e847670"
      },
      "id": "HG_LvX_NxKam",
      "execution_count": 9,
      "outputs": [
        {
          "output_type": "display_data",
          "data": {
            "text/plain": [
              "<Figure size 864x576 with 8 Axes>"
            ],
            "image/png": "[encoded data removed]"
          },
          "metadata": {
            "needs_background": "light"
          }
        }
      ]
    },
    {
      "cell_type": "code",
      "source": [
        "#@title Prepare dataset into train, validate, test splits\n",
        "\n",
        "from random import triangular\n",
        "\n",
        "test_size = 0.2*num_episodes\n",
        "valid_size = 0.1*num_episodes\n",
        "train_size = num_episodes - (test_size+valid_size)\n",
        "\n",
        "test_df = df[df['ep_num']<=test_size]\n",
        "valid_df = df[(df['ep_num']>test_size)&(df['ep_num']<=(valid_size+test_size))]\n",
        "train_df = df[(df['ep_num']>(valid_size+test_size))]\n",
        "\n",
        "features = []\n",
        "for i in range(8):\n",
        "  features.append(f'feature_{i}')\n",
        "\n",
        "test_labels = test_df['time_to_terminate']\n",
        "test_features = test_df[features]\n",
        "\n",
        "valid_labels = valid_df['time_to_terminate']\n",
        "valid_features = valid_df[features]\n",
        "\n",
        "train_labels = train_df['time_to_terminate']\n",
        "train_features = train_df[features]\n",
        "\n",
        "print('Test dataset shapes:', test_labels.shape, test_features.shape)\n",
        "print('Validation dataset shapes:', valid_labels.shape, valid_features.shape)\n",
        "print('Train dataset shapes:', train_labels.shape, train_features.shape)"
      ],
      "metadata": {
        "colab": {
          "base_uri": "https://localhost:8080/"
        },
        "cellView": "form",
        "id": "gmKXAZHJpzQ6",
        "outputId": "04262c79-64c4-4545-f679-750fd5aac17f"
      },
      "id": "gmKXAZHJpzQ6",
      "execution_count": 10,
      "outputs": [
        {
          "output_type": "stream",
          "name": "stdout",
          "text": [
            "Test dataset shapes: (12760,) (12760, 8)\n",
            "Validation dataset shapes: (6241,) (6241, 8)\n",
            "Train dataset shapes: (44283,) (44283, 8)\n"
          ]
        }
      ]
    },
    {
      "cell_type": "code",
      "source": [
        "#@title Create linear regression model to predict time_to_terminate using features as baseline. This model does not take into account the time series i.e. it assumes that t, t+1 are independent\n",
        "\n",
        "from sklearn.linear_model import LinearRegression\n",
        "\n",
        "regr = LinearRegression()\n",
        "\n",
        "regr.fit(train_features, train_labels)\n",
        "\n",
        "preds = regr.predict(test_features)\n",
        "\n",
        "print('RMSE: \\n', forecast_error(test_labels, preds))\n",
        "print('Score: \\n', regr.score(test_features, test_labels))\n",
        "print('Betas: \\n', regr.coef_, '\\n Intercept: \\n',regr.intercept_)\n"
      ],
      "metadata": {
        "colab": {
          "base_uri": "https://localhost:8080/"
        },
        "cellView": "form",
        "id": "DGVE0Lf1KHNi",
        "outputId": "135a2018-aa82-46f3-e48a-4620e894f143"
      },
      "id": "DGVE0Lf1KHNi",
      "execution_count": 14,
      "outputs": [
        {
          "output_type": "stream",
          "name": "stdout",
          "text": [
            "RMSE: \n",
            " 1.522571052449443\n",
            "Score: \n",
            " 0.5933053992609192\n",
            "Betas: \n",
            " [ 8.34255204  7.30076246  2.8854539   4.85335042  5.34934277 -0.06200776\n",
            "  0.02376763  0.02941992] \n",
            " Intercept: \n",
            " -6.120034085663619\n"
          ]
        }
      ]
    },
    {
      "cell_type": "code",
      "source": [
        "#@title Try linear model but set preds less than zero to 0\n",
        "preds_positive = preds.copy()\n",
        "preds_positive[preds_positive < 0] =  0\n",
        "\n",
        "print('Positive only predictions linear model')\n",
        "print('RMSE: \\n', forecast_error(test_labels, preds_positive))\n"
      ],
      "metadata": {
        "colab": {
          "base_uri": "https://localhost:8080/"
        },
        "cellView": "form",
        "id": "vchbuD4Wwy32",
        "outputId": "52e90d20-8c89-4d48-edbd-3b06763dccca"
      },
      "id": "vchbuD4Wwy32",
      "execution_count": 17,
      "outputs": [
        {
          "output_type": "stream",
          "name": "stdout",
          "text": [
            "Positive only predictions linear model\n",
            "RMSE: \n",
            " 1.4851893811083783\n"
          ]
        }
      ]
    },
    {
      "cell_type": "code",
      "source": [
        "#@title Linear model outputs (-inf, inf) but data is [0, inf). Create Poisson Regression model for linear regression but positive predictions\n",
        "\n",
        "from sklearn.linear_model import PoissonRegressor\n",
        "\n",
        "pois_regr = PoissonRegressor()\n",
        "\n",
        "pois_regr.fit(train_features, train_labels)\n",
        "\n",
        "pois_preds = pois_regr.predict(test_features)\n",
        "print('Poisson model')\n",
        "print('RMSE: \\n', forecast_error(test_labels, pois_preds))\n",
        "print('Score: \\n', pois_regr.score(test_features, test_labels))"
      ],
      "metadata": {
        "colab": {
          "base_uri": "https://localhost:8080/"
        },
        "cellView": "form",
        "id": "GVuSeff4Wa6B",
        "outputId": "fc024a1c-1336-4079-dfc7-67ca91c5af47"
      },
      "id": "GVuSeff4Wa6B",
      "execution_count": 15,
      "outputs": [
        {
          "output_type": "stream",
          "name": "stdout",
          "text": [
            "Poisson model\n",
            "RMSE: \n",
            " 2.193153306749734\n",
            "Score: \n",
            " 0.14896495041607305\n"
          ]
        }
      ]
    },
    {
      "cell_type": "code",
      "source": [
        "#@title Tweedie model generalised linear model. Power=1.5 is between a gamma and poisson regression model\n",
        "\n",
        "from sklearn.linear_model import TweedieRegressor\n",
        "\n",
        "tweed_regr = TweedieRegressor(power=1.5)\n",
        "\n",
        "tweed_regr.fit(train_features, train_labels)\n",
        "\n",
        "tweed_preds = tweed_regr.predict(test_features)\n",
        "print('Tweedie w/ power=1.5')\n",
        "print('RMSE: \\n', forecast_error(test_labels, tweed_preds))\n",
        "print('Score: \\n', tweed_regr.score(test_features, test_labels))"
      ],
      "metadata": {
        "colab": {
          "base_uri": "https://localhost:8080/"
        },
        "cellView": "form",
        "id": "2UXgupFJuCRu",
        "outputId": "f8bd7c08-b6f2-47da-d091-12fb04713e87"
      },
      "id": "2UXgupFJuCRu",
      "execution_count": 16,
      "outputs": [
        {
          "output_type": "stream",
          "name": "stdout",
          "text": [
            "Tweedie w/ power=1.5\n",
            "RMSE: \n",
            " 2.2644318767825373\n",
            "Score: \n",
            " 0.07035204166707842\n"
          ]
        }
      ]
    },
    {
      "cell_type": "code",
      "source": [
        "#@title Linear models by definition fit the output linearly to featrues. Intuition tells us that a good model should enable e.g. x^2 features as the direction (+/-) of the position features does not matter for falling for pendulum. NNs are good for this. We use softplus for output [0, inf)\n",
        "from torch import nn\n",
        "\n",
        "class DenseNet(nn.Module):\n",
        "  def __init__(self):\n",
        "    super(DenseNet, self).__init__()\n",
        "    self.layer1 = nn.Linear(8,20)\n",
        "    self.layer2 = nn.Linear(20,1)\n",
        "    self.softplus = nn.Softplus()\n",
        "  \n",
        "  def forward(self, X):\n",
        "    hidden1 = self.layer1(X)\n",
        "    hidden2 = self.layer2(hidden1)\n",
        "\n",
        "    output = self.softplus(hidden2)\n",
        "    return output\n",
        "\n",
        "dense_model = DenseNet()\n",
        "print(dense_model)"
      ],
      "metadata": {
        "colab": {
          "base_uri": "https://localhost:8080/"
        },
        "cellView": "form",
        "id": "uS2ohSKX8vbv",
        "outputId": "24209cbf-3f2b-4dc0-ebec-ca1338fb2839"
      },
      "id": "uS2ohSKX8vbv",
      "execution_count": 20,
      "outputs": [
        {
          "output_type": "stream",
          "name": "stdout",
          "text": [
            "DenseNet(\n",
            "  (layer1): Linear(in_features=8, out_features=20, bias=True)\n",
            "  (layer2): Linear(in_features=20, out_features=1, bias=True)\n",
            "  (softplus): Softplus(beta=1, threshold=20)\n",
            ")\n"
          ]
        }
      ]
    },
    {
      "cell_type": "code",
      "source": [
        "#@title Test fwd pass of NN with vector of 1s\n",
        "X_fwd_pass = torch.ones(1, 8, dtype=torch.float32, device='cpu')\n",
        "dense_model(X_fwd_pass)"
      ],
      "metadata": {
        "colab": {
          "base_uri": "https://localhost:8080/"
        },
        "cellView": "form",
        "id": "DS056DSJ2T7q",
        "outputId": "045db870-12ed-4b16-be4a-30de95e705c4"
      },
      "id": "DS056DSJ2T7q",
      "execution_count": 21,
      "outputs": [
        {
          "output_type": "execute_result",
          "data": {
            "text/plain": [
              "tensor([[0.5598]], grad_fn=<SoftplusBackward0>)"
            ]
          },
          "metadata": {},
          "execution_count": 21
        }
      ]
    },
    {
      "cell_type": "code",
      "source": [
        "#@title Preprocess episodes dataset into pytorch tensors\n",
        "\n",
        "dtype = torch.float32\n",
        "device = torch.device(\"cuda\" if torch.cuda.is_available() else \"cpu\")\n",
        "print('Using device: \\n', device)\n",
        "\n",
        "train_labels_tensor = torch.tensor(train_labels.values, dtype=dtype, device=device).view(len(train_labels), -1)\n",
        "train_features_tensor = torch.tensor(train_features.values, dtype=dtype, device=device, requires_grad=True)\n",
        "\n",
        "valid_labels_tensor = torch.tensor(valid_labels.values, dtype=dtype, device=device).view(len(valid_labels), -1)\n",
        "valid_features_tensor = torch.tensor(valid_features.values, dtype=dtype, device=device)\n",
        "\n",
        "test_labels_tensor = torch.tensor(test_labels.values, dtype=dtype, device=device).view(len(test_labels), -1)\n",
        "test_features_tensor = torch.tensor(test_features.values, dtype=dtype, device=device)\n",
        "\n",
        "print('Test tensor shapes:', test_labels_tensor.shape, test_features_tensor.shape)\n",
        "print('Validation tensor shapes:', valid_labels_tensor.shape, valid_features_tensor.shape)\n",
        "print('Train tensor shapes:', train_labels_tensor.shape, train_features_tensor.shape)"
      ],
      "metadata": {
        "colab": {
          "base_uri": "https://localhost:8080/"
        },
        "cellView": "form",
        "id": "zU2ORSEtNfn3",
        "outputId": "669ba44c-b7a6-4650-85b4-88f1eec748e4"
      },
      "id": "zU2ORSEtNfn3",
      "execution_count": 22,
      "outputs": [
        {
          "output_type": "stream",
          "name": "stdout",
          "text": [
            "Using device: \n",
            " cuda\n",
            "Test tensor shapes: torch.Size([12760, 1]) torch.Size([12760, 8])\n",
            "Validation tensor shapes: torch.Size([6241, 1]) torch.Size([6241, 8])\n",
            "Train tensor shapes: torch.Size([44283, 1]) torch.Size([44283, 8])\n"
          ]
        }
      ]
    },
    {
      "cell_type": "code",
      "source": [
        "#@title Define the training loop fn for the NN\n",
        "\n",
        "def train(y_train, X_train, y_valid, X_valid, y_test, X_test, model_, \\\n",
        "          model_name, epochs=10000, learning_rate=0.1):\n",
        "  criterion = nn.MSELoss()\n",
        "  optimizer = torch.optim.SGD(model_.parameters(), lr=learning_rate)\n",
        "  model_.name = model_name\n",
        "  for epoch in range(epochs):\n",
        "    optimizer.zero_grad()\n",
        "\n",
        "    train_preds = model_(X_train)\n",
        "    train_loss = torch.sqrt(criterion(train_preds, y_train))\n",
        "    if epoch % 500 == 0:\n",
        "      valid_preds = model_(X_valid)\n",
        "      valid_loss = torch.sqrt(criterion(valid_preds, y_valid))\n",
        "      print(f'epoch #{epoch} \\n training loss: \\n', train_loss.item(), \\\n",
        "            '\\n validation loss: \\n', valid_loss.item(), '\\n')\n",
        "    train_loss.backward()\n",
        "    optimizer.step()\n",
        "\n",
        "  test_preds = model_(X_test)\n",
        "  test_loss = torch.sqrt(criterion(test_preds, y_test))\n",
        "\n",
        "  print('Final metrics: \\n training loss: ', train_loss.item(), \\\n",
        "        '\\n validation loss: ', valid_loss.item(),'\\n test loss: ', \\\n",
        "        test_loss.item())\n"
      ],
      "metadata": {
        "cellView": "form",
        "id": "Q9kS-Yfi0DiZ"
      },
      "id": "Q9kS-Yfi0DiZ",
      "execution_count": 23,
      "outputs": []
    },
    {
      "cell_type": "code",
      "source": [
        "#@title Put model onto GPU and run training loop\n",
        "\n",
        "dense_model.to(device)\n",
        "\n",
        "train(train_labels_tensor, train_features_tensor, valid_labels_tensor, valid_features_tensor, \\\n",
        "      test_labels_tensor, test_features_tensor, dense_model, model_name='10000eps_DenseNet_10000epochs', epochs=10000)"
      ],
      "metadata": {
        "colab": {
          "base_uri": "https://localhost:8080/"
        },
        "cellView": "form",
        "id": "UmaC7D0g7EG8",
        "outputId": "8deab2fa-f253-440b-97e6-21eb7f5c52b3"
      },
      "id": "UmaC7D0g7EG8",
      "execution_count": 24,
      "outputs": [
        {
          "output_type": "stream",
          "name": "stdout",
          "text": [
            "epoch #0 \n",
            " training loss: \n",
            " 3.1400301456451416 \n",
            " validation loss: \n",
            " 3.0436501502990723 \n",
            "\n",
            "epoch #500 \n",
            " training loss: \n",
            " 1.7226183414459229 \n",
            " validation loss: \n",
            " 1.663612961769104 \n",
            "\n",
            "epoch #1000 \n",
            " training loss: \n",
            " 1.5462509393692017 \n",
            " validation loss: \n",
            " 1.486640214920044 \n",
            "\n",
            "epoch #1500 \n",
            " training loss: \n",
            " 1.5732628107070923 \n",
            " validation loss: \n",
            " 1.476595163345337 \n",
            "\n",
            "epoch #2000 \n",
            " training loss: \n",
            " 1.5246387720108032 \n",
            " validation loss: \n",
            " 1.4279407262802124 \n",
            "\n",
            "epoch #2500 \n",
            " training loss: \n",
            " 1.498442530632019 \n",
            " validation loss: \n",
            " 1.4249329566955566 \n",
            "\n",
            "epoch #3000 \n",
            " training loss: \n",
            " 1.485600233078003 \n",
            " validation loss: \n",
            " 1.3904356956481934 \n",
            "\n",
            "epoch #3500 \n",
            " training loss: \n",
            " 1.4336216449737549 \n",
            " validation loss: \n",
            " 1.3584634065628052 \n",
            "\n",
            "epoch #4000 \n",
            " training loss: \n",
            " 1.4210160970687866 \n",
            " validation loss: \n",
            " 1.3270143270492554 \n",
            "\n",
            "epoch #4500 \n",
            " training loss: \n",
            " 1.3877894878387451 \n",
            " validation loss: \n",
            " 1.310279369354248 \n",
            "\n",
            "epoch #5000 \n",
            " training loss: \n",
            " 1.3814843893051147 \n",
            " validation loss: \n",
            " 1.2931663990020752 \n",
            "\n",
            "epoch #5500 \n",
            " training loss: \n",
            " 1.3613992929458618 \n",
            " validation loss: \n",
            " 1.2817989587783813 \n",
            "\n",
            "epoch #6000 \n",
            " training loss: \n",
            " 1.364665150642395 \n",
            " validation loss: \n",
            " 1.2793846130371094 \n",
            "\n",
            "epoch #6500 \n",
            " training loss: \n",
            " 1.344444990158081 \n",
            " validation loss: \n",
            " 1.2656798362731934 \n",
            "\n",
            "epoch #7000 \n",
            " training loss: \n",
            " 1.3465827703475952 \n",
            " validation loss: \n",
            " 1.258858561515808 \n",
            "\n",
            "epoch #7500 \n",
            " training loss: \n",
            " 1.3443728685379028 \n",
            " validation loss: \n",
            " 1.266360878944397 \n",
            "\n",
            "epoch #8000 \n",
            " training loss: \n",
            " 1.326722502708435 \n",
            " validation loss: \n",
            " 1.2479729652404785 \n",
            "\n",
            "epoch #8500 \n",
            " training loss: \n",
            " 1.3213770389556885 \n",
            " validation loss: \n",
            " 1.2398885488510132 \n",
            "\n",
            "epoch #9000 \n",
            " training loss: \n",
            " 1.318418025970459 \n",
            " validation loss: \n",
            " 1.2357475757598877 \n",
            "\n",
            "epoch #9500 \n",
            " training loss: \n",
            " 1.314286470413208 \n",
            " validation loss: \n",
            " 1.2320902347564697 \n",
            "\n",
            "Final metrics: \n",
            " training loss:  1.3012737035751343 \n",
            " validation loss:  1.2320902347564697 \n",
            " test loss:  1.4125229120254517\n"
          ]
        }
      ]
    },
    {
      "cell_type": "code",
      "source": [
        "#@title Next we add reLU for additional non-linearity to the NN\n",
        "\n",
        "class DenseNetRelu(nn.Module):\n",
        "  def __init__(self):\n",
        "    super(DenseNetRelu, self).__init__()\n",
        "    self.layer1 = nn.Linear(8,20)\n",
        "    self.relu1 = nn.ReLU()\n",
        "    self.layer2 = nn.Linear(20,1)\n",
        "    self.relu2 = nn.ReLU()\n",
        "    self.softplus = nn.Softplus()\n",
        "  \n",
        "  def forward(self, X):\n",
        "    hidden1 = self.relu1(self.layer1(X))\n",
        "    hidden2 = self.relu2(self.layer2(hidden1))\n",
        "\n",
        "    output = self.softplus(hidden2)\n",
        "    return output\n",
        "\n",
        "dense_plus_relu_model = DenseNetRelu()\n",
        "print(dense_plus_relu_model)"
      ],
      "metadata": {
        "colab": {
          "base_uri": "https://localhost:8080/"
        },
        "cellView": "form",
        "id": "_ILkFZvfWG1y",
        "outputId": "51bd013d-e25a-478e-b78c-777f89264bfd"
      },
      "id": "_ILkFZvfWG1y",
      "execution_count": 25,
      "outputs": [
        {
          "output_type": "stream",
          "name": "stdout",
          "text": [
            "DenseNetRelu(\n",
            "  (layer1): Linear(in_features=8, out_features=20, bias=True)\n",
            "  (relu1): ReLU()\n",
            "  (layer2): Linear(in_features=20, out_features=1, bias=True)\n",
            "  (relu2): ReLU()\n",
            "  (softplus): Softplus(beta=1, threshold=20)\n",
            ")\n"
          ]
        }
      ]
    },
    {
      "cell_type": "code",
      "source": [
        "#@title Put model onto GPU and run training loop\n",
        "\n",
        "dense_plus_relu_model.to(device)\n",
        "\n",
        "train(train_labels_tensor, train_features_tensor, valid_labels_tensor, valid_features_tensor, \\\n",
        "      test_labels_tensor, test_features_tensor, dense_plus_relu_model, model_name='10000eps_DenseNetRelu_10000epochs', epochs=10000)"
      ],
      "metadata": {
        "colab": {
          "base_uri": "https://localhost:8080/"
        },
        "cellView": "form",
        "id": "eEcpVrPJY1TY",
        "outputId": "8a8fa7e0-b0eb-4983-e2fb-d9fa3c392b19"
      },
      "id": "eEcpVrPJY1TY",
      "execution_count": 26,
      "outputs": [
        {
          "output_type": "stream",
          "name": "stdout",
          "text": [
            "epoch #0 \n",
            " training loss: \n",
            " 3.2151575088500977 \n",
            " validation loss: \n",
            " 3.119743585586548 \n",
            "\n",
            "epoch #500 \n",
            " training loss: \n",
            " 1.196364164352417 \n",
            " validation loss: \n",
            " 1.1161489486694336 \n",
            "\n",
            "epoch #1000 \n",
            " training loss: \n",
            " 1.1290465593338013 \n",
            " validation loss: \n",
            " 1.0545544624328613 \n",
            "\n",
            "epoch #1500 \n",
            " training loss: \n",
            " 1.1156443357467651 \n",
            " validation loss: \n",
            " 1.0536611080169678 \n",
            "\n",
            "epoch #2000 \n",
            " training loss: \n",
            " 1.0971620082855225 \n",
            " validation loss: \n",
            " 1.0263288021087646 \n",
            "\n",
            "epoch #2500 \n",
            " training loss: \n",
            " 1.1178566217422485 \n",
            " validation loss: \n",
            " 1.043073058128357 \n",
            "\n",
            "epoch #3000 \n",
            " training loss: \n",
            " 1.0780810117721558 \n",
            " validation loss: \n",
            " 1.0207936763763428 \n",
            "\n",
            "epoch #3500 \n",
            " training loss: \n",
            " 1.0748578310012817 \n",
            " validation loss: \n",
            " 1.0199929475784302 \n",
            "\n",
            "epoch #4000 \n",
            " training loss: \n",
            " 1.076829195022583 \n",
            " validation loss: \n",
            " 1.0207819938659668 \n",
            "\n",
            "epoch #4500 \n",
            " training loss: \n",
            " 1.0689733028411865 \n",
            " validation loss: \n",
            " 1.0015023946762085 \n",
            "\n",
            "epoch #5000 \n",
            " training loss: \n",
            " 1.0662684440612793 \n",
            " validation loss: \n",
            " 1.0163010358810425 \n",
            "\n",
            "epoch #5500 \n",
            " training loss: \n",
            " 1.06346595287323 \n",
            " validation loss: \n",
            " 1.0054675340652466 \n",
            "\n",
            "epoch #6000 \n",
            " training loss: \n",
            " 1.0620779991149902 \n",
            " validation loss: \n",
            " 1.0036752223968506 \n",
            "\n",
            "epoch #6500 \n",
            " training loss: \n",
            " 1.0618616342544556 \n",
            " validation loss: \n",
            " 1.0023986101150513 \n",
            "\n",
            "epoch #7000 \n",
            " training loss: \n",
            " 1.0615646839141846 \n",
            " validation loss: \n",
            " 1.0002590417861938 \n",
            "\n",
            "epoch #7500 \n",
            " training loss: \n",
            " 1.0587021112442017 \n",
            " validation loss: \n",
            " 1.0042468309402466 \n",
            "\n",
            "epoch #8000 \n",
            " training loss: \n",
            " 1.0628973245620728 \n",
            " validation loss: \n",
            " 1.0129107236862183 \n",
            "\n",
            "epoch #8500 \n",
            " training loss: \n",
            " 1.0595039129257202 \n",
            " validation loss: \n",
            " 1.008495807647705 \n",
            "\n",
            "epoch #9000 \n",
            " training loss: \n",
            " 1.054020643234253 \n",
            " validation loss: \n",
            " 0.996138334274292 \n",
            "\n",
            "epoch #9500 \n",
            " training loss: \n",
            " 1.0555839538574219 \n",
            " validation loss: \n",
            " 0.993767261505127 \n",
            "\n",
            "Final metrics: \n",
            " training loss:  1.0591881275177002 \n",
            " validation loss:  0.993767261505127 \n",
            " test loss:  1.1351929903030396\n"
          ]
        }
      ]
    },
    {
      "cell_type": "code",
      "source": [
        "#@title So far all the models above assume independence between t, t+1 within an episode. LSTM is a RNN which enables learning of this dependency\n",
        "\n",
        "class LSTMnet(nn.Module):\n",
        "  def __init__(self, batch_first=True):\n",
        "    super(LSTMnet, self).__init__()\n",
        "    self.lstm = nn.LSTM(8, 16)\n",
        "    self.linear = nn.Linear(16, 1)\n",
        "    self.softplus = nn.Softplus()\n",
        "  \n",
        "  def forward(self, ep_features):\n",
        "    # embeds.view(len(sentence), 1, -1)) --> ??\n",
        "    batch_size, ep_length, num_feats = ep_features.size()\n",
        "    # used to be ep_features.view(len(ep_features),1,-1)\n",
        "    lstm_out, _ =  self.lstm(ep_features.view(batch_size, -1, num_feats))\n",
        "    # may also need unpad the upper zeroes\n",
        "    # lstm_out, _ = self.lstm(ep_features.view(ep_features.size()[0], ep_features.size()[1],1,-1))\n",
        " # used to be ep_features.view(len(ep_features), -1)\n",
        "    linear_out = self.linear(lstm_out.view(batch_size, -1, 16))\n",
        "    output = self.softplus(linear_out)\n",
        "\n",
        "    return output\n",
        "\n",
        "lstm_model = LSTMnet()\n",
        "lstm_model.to(device)"
      ],
      "metadata": {
        "colab": {
          "base_uri": "https://localhost:8080/"
        },
        "cellView": "form",
        "id": "m-_tRsGDeRyk",
        "outputId": "7a5ff045-9c73-4f67-953d-97ba3f57f390"
      },
      "id": "m-_tRsGDeRyk",
      "execution_count": 27,
      "outputs": [
        {
          "output_type": "execute_result",
          "data": {
            "text/plain": [
              "LSTMnet(\n",
              "  (lstm): LSTM(8, 16)\n",
              "  (linear): Linear(in_features=16, out_features=1, bias=True)\n",
              "  (softplus): Softplus(beta=1, threshold=20)\n",
              ")"
            ]
          },
          "metadata": {},
          "execution_count": 27
        }
      ]
    },
    {
      "cell_type": "code",
      "source": [
        "#@title Prepare data for LSTM i.e. shape is [(ep1_features, ep1_labels), (ep2_features, ep2_labels), ...] in tensors\n",
        "\n",
        "eps = []\n",
        "\n",
        "for ep_num in range(num_episodes):\n",
        "  episode = df[df['ep_num']==ep_num]\n",
        "  episode_feats = torch.tensor(episode[features].values, dtype=dtype, device=device, requires_grad=True)\n",
        "  episode_labs = torch.tensor(episode['time_to_terminate'].values, dtype=dtype, device=device).view(len(episode),-1)\n",
        "  eps.append((episode_feats, episode_labs))\n",
        "\n",
        "assert len(eps) == num_episodes\n",
        "\n",
        "# split into train, validate, test\n",
        "test_episodes = eps[:int(test_size)]\n",
        "valid_episodes = eps[int(test_size): int(test_size)+int(valid_size)]\n",
        "train_episodes = eps[int(test_size)+int(valid_size):]\n",
        "\n",
        "print('Number of episodes in train dataset; \\n', len(train_episodes),'\\n First episode: \\n' , train_episodes[0])\n",
        "\n",
        "assert len(test_episodes)+ len(valid_episodes)+len(train_episodes) == len(eps)"
      ],
      "metadata": {
        "colab": {
          "base_uri": "https://localhost:8080/"
        },
        "cellView": "form",
        "id": "R4y9Ko8bjYTw",
        "outputId": "f4a601b1-1c38-4fc9-b57f-00ee8a54472d"
      },
      "id": "R4y9Ko8bjYTw",
      "execution_count": 29,
      "outputs": [
        {
          "output_type": "stream",
          "name": "stdout",
          "text": [
            "Number of episodes in train dataset; \n",
            " 7000 \n",
            " First episode: \n",
            " (tensor([[ 6.4463e-02, -3.4131e-02,  8.4303e-02,  9.9942e-01,  9.9644e-01,\n",
            "          2.9376e-01, -6.8737e-01,  6.4675e-01],\n",
            "        [ 4.3722e-02,  1.0553e-03,  3.3870e-02,  1.0000e+00,  9.9943e-01,\n",
            "         -1.1253e+00,  2.1118e+00, -2.7083e+00],\n",
            "        [-2.8974e-02,  1.4023e-01, -1.4311e-01,  9.9012e-01,  9.8971e-01,\n",
            "         -1.7832e+00,  3.4983e+00, -4.4294e+00],\n",
            "        [-1.2567e-01,  3.2813e-01, -3.7670e-01,  9.4463e-01,  9.2633e-01,\n",
            "         -2.0788e+00,  4.2390e+00, -5.2099e+00],\n",
            "        [-2.2303e-01,  5.1679e-01, -5.9901e-01,  8.5611e-01,  8.0074e-01,\n",
            "         -1.8176e+00,  4.1573e+00, -5.0966e+00],\n",
            "        [-3.4295e-01,  7.1371e-01, -7.7992e-01,  7.0044e-01,  6.2587e-01,\n",
            "         -2.9456e+00,  5.7782e+00, -4.5535e+00],\n",
            "        [-4.8157e-01,  8.8408e-01, -8.8985e-01,  4.6733e-01,  4.5625e-01,\n",
            "         -2.5947e+00,  5.8530e+00, -3.5584e+00]], device='cuda:0',\n",
            "       requires_grad=True), tensor([[6.],\n",
            "        [5.],\n",
            "        [4.],\n",
            "        [3.],\n",
            "        [2.],\n",
            "        [1.],\n",
            "        [0.]], device='cuda:0'))\n"
          ]
        }
      ]
    },
    {
      "cell_type": "code",
      "source": [
        "#@title LSTM is much slower to train than fully connected NN so we need to enable training in batches i.e. multiple forward passes and backward steps in parallel. We process the data to create these batches\n",
        "from torch.utils.data import Dataset\n",
        "\n",
        "class EpisodesDataset(Dataset):\n",
        "    def __init__(self, episode_feats, episode_labs):\n",
        "        self.episode_feats = episode_feats\n",
        "        self.episode_labs = episode_labs\n",
        "\n",
        "    def __len__(self):\n",
        "        return len(self.episode_labs)\n",
        "\n",
        "    def __getitem__(self, idx):\n",
        "        return self.episode_feats[idx], self.episode_labs[idx]\n",
        "\n",
        "def ep_data_to_pytorch_dataset(ep_data):\n",
        "  all_episode_feats = [ep_data[i][0] for i in range(len(ep_data))]\n",
        "  all_episode_labs = [ep_data[i][1] for i in range(len(ep_data))]\n",
        "  pytorch_dataset = EpisodesDataset(all_episode_feats, all_episode_labs)\n",
        "  return pytorch_dataset\n",
        "\n",
        "train_dataset = ep_data_to_pytorch_dataset(train_episodes)\n",
        "valid_dataset = ep_data_to_pytorch_dataset(valid_episodes)\n",
        "test_dataset = ep_data_to_pytorch_dataset(test_episodes)\n",
        "\n",
        "print('Number of train dataset rows post processing: \\n', len(train_dataset))"
      ],
      "metadata": {
        "colab": {
          "base_uri": "https://localhost:8080/"
        },
        "cellView": "form",
        "id": "lEpqTk5-nORD",
        "outputId": "16d2147a-0a6b-49ec-c689-d9564e7ac40e"
      },
      "id": "lEpqTk5-nORD",
      "execution_count": 32,
      "outputs": [
        {
          "output_type": "stream",
          "name": "stdout",
          "text": [
            "Number of train dataset rows post processing: \n",
            " 7000\n"
          ]
        }
      ]
    },
    {
      "cell_type": "code",
      "source": [
        "#@title In order to create batches we need pad the dataset with zeros so that each episode is the same length. We need to find max ep length, pad the dataset and then create PyTorch Dataloader objects to enable batch training\n",
        "from torch.utils.data import DataLoader\n",
        "\n",
        "MAX_EP_LENGTH = 1\n",
        "for ep in eps:\n",
        "  if len(ep[0])>MAX_EP_LENGTH:\n",
        "    MAX_EP_LENGTH = len(ep[0])\n",
        "\n",
        "print('Maximum episode length in dataset: \\n', MAX_EP_LENGTH)\n",
        "\n",
        "def ep_data_to_padded_pytorch_dataset(ep_data, max_ep_length):\n",
        "  padded_all_episode_feats = []\n",
        "  padded_all_episode_labs = []\n",
        "  for i in range(len(ep_data)):\n",
        "    ep_feats = ep_data[i][0]\n",
        "    ep_labs = ep_data[i][1]\n",
        "    if len(ep_feats) != max_ep_length:\n",
        "      num_zeros = max_ep_length - len(ep_feats)\n",
        "      pad_feats_arr = np.zeros((num_zeros, ep_feats.shape[1]))\n",
        "      pad_labs_arr = np.zeros((num_zeros, ep_labs.shape[1]))\n",
        "      ep_feats = torch.cat((torch.tensor(pad_feats_arr, dtype=dtype, device=device), ep_feats), dim=0)\n",
        "      ep_labs = torch.cat((torch.tensor(pad_labs_arr, dtype=dtype, device=device), ep_labs), dim=0)\n",
        "\n",
        "    padded_all_episode_feats.append(ep_feats)\n",
        "    padded_all_episode_labs.append(ep_labs)\n",
        "  \n",
        "  padded_pytorch_dataset = EpisodesDataset(padded_all_episode_feats, padded_all_episode_labs)\n",
        "  return padded_pytorch_dataset\n",
        "\n",
        "padded_train_dataset = ep_data_to_padded_pytorch_dataset(train_episodes, MAX_EP_LENGTH)\n",
        "padded_valid_dataset = ep_data_to_padded_pytorch_dataset(valid_episodes, MAX_EP_LENGTH)\n",
        "padded_test_dataset = ep_data_to_padded_pytorch_dataset(test_episodes, MAX_EP_LENGTH)\n",
        "\n",
        "BATCH_SIZE=256\n",
        "\n",
        "train_dataloader = DataLoader(padded_train_dataset, batch_size=BATCH_SIZE, shuffle=True)\n",
        "valid_dataloader = DataLoader(padded_valid_dataset, batch_size=BATCH_SIZE, shuffle=False)\n",
        "test_dataloader = DataLoader(padded_test_dataset, batch_size=BATCH_SIZE, shuffle=False)\n",
        "\n",
        "train_features, train_labels = next(iter(train_dataloader))\n",
        "print(f\"Feature batch shape: {train_features.size()}\")\n",
        "print(f\"Labels batch shape: {train_labels.size()}\")"
      ],
      "metadata": {
        "colab": {
          "base_uri": "https://localhost:8080/"
        },
        "cellView": "form",
        "id": "e9sVK-1WxYaM",
        "outputId": "eaaa58cd-c53e-4739-aa9b-eeaa62e2249d"
      },
      "id": "e9sVK-1WxYaM",
      "execution_count": 34,
      "outputs": [
        {
          "output_type": "stream",
          "name": "stdout",
          "text": [
            "Maximum episode length in dataset: \n",
            " 17\n",
            "Feature batch shape: torch.Size([256, 17, 8])\n",
            "Labels batch shape: torch.Size([256, 17, 1])\n"
          ]
        }
      ]
    },
    {
      "cell_type": "code",
      "source": [
        "#@title Test LSTM output with single sample\n",
        "\n",
        "out = lstm_model(train_features)\n",
        "print('Model outputs data with shape: \\n', out.size())"
      ],
      "metadata": {
        "colab": {
          "base_uri": "https://localhost:8080/"
        },
        "cellView": "form",
        "id": "jmfxlqvi4MW7",
        "outputId": "c1e9bcc0-944f-45e7-903f-7c7d2de762a0"
      },
      "id": "jmfxlqvi4MW7",
      "execution_count": 35,
      "outputs": [
        {
          "output_type": "stream",
          "name": "stdout",
          "text": [
            "Model outputs data with shape: \n",
            " torch.Size([256, 17, 1])\n"
          ]
        }
      ]
    },
    {
      "cell_type": "code",
      "source": [
        "#@title Create utility fn for LSTM training loop with batches\n",
        "from tqdm import tqdm\n",
        "\n",
        "def lstm_train(train_eps, valid_eps, test_eps, model_, model_name, epochs=10000, learning_rate=0.1):\n",
        "  criterion = nn.MSELoss()\n",
        "  optimizer = torch.optim.SGD(model_.parameters(), lr=learning_rate)\n",
        "  model_.name = model_name\n",
        "  for epoch, _ in enumerate(tqdm(range(epochs))):\n",
        "    start_time = time.time()\n",
        "    train_loss_sum_sq = 0.\n",
        "    for step, (ep_features, ep_labels) in enumerate(train_eps):\n",
        "      optimizer.zero_grad()\n",
        "      ep_preds = model_(ep_features)\n",
        "      ep_loss = torch.sqrt(criterion(ep_preds, ep_labels))\n",
        "\n",
        "      train_loss_sum_sq+=criterion(ep_preds, ep_labels).item()*len(ep_labels)\n",
        "\n",
        "      ep_loss.backward()\n",
        "      optimizer.step()\n",
        "    if epoch % 1000 == 0:\n",
        "      valid_loss_sum_sq = 0.\n",
        "      for step, (ep_features, ep_labels) in enumerate(valid_eps):\n",
        "        valid_preds = model_(ep_features)\n",
        "        valid_loss_sum_sq +=criterion(valid_preds, ep_labels).item()*len(ep_labels)\n",
        "      elapsed_time = time.time() - start_time\n",
        "      print(f'epoch #{epoch} \\n training loss: \\n', np.sqrt(train_loss_sum_sq / len(train_eps)), \\\n",
        "          '\\n validation loss: \\n', np.sqrt(valid_loss_sum_sq / len(valid_eps)), '\\n elapsed time: \\n', elapsed_time)\n",
        "  \n",
        "  test_loss_sum_sq = 0.\n",
        "  for ep_features, ep_labels in test_eps:\n",
        "    test_preds = model_(ep_features)\n",
        "    test_loss_sum_sq +=criterion(test_preds, ep_labels).item()*len(ep_labels)\n",
        "\n",
        "  print('Final metrics: \\n training loss: \\n', np.sqrt(train_loss_sum_sq / len(train_eps)), \\\n",
        "          '\\n validation loss: \\n', np.sqrt(valid_loss_sum_sq / len(valid_eps)), \\\n",
        "        '\\n test loss: \\n', np.sqrt(test_loss_sum_sq / len(test_eps)))"
      ],
      "metadata": {
        "cellView": "form",
        "id": "-HMXsDNxY-Tu"
      },
      "id": "-HMXsDNxY-Tu",
      "execution_count": 36,
      "outputs": []
    },
    {
      "cell_type": "code",
      "source": [
        "#@title Run training loop\n",
        "\n",
        "lstm_train(train_dataloader, valid_dataloader, test_dataloader, lstm_model, model_name='10000eps_LSTMnet_1000epochs', epochs=1000)"
      ],
      "metadata": {
        "colab": {
          "base_uri": "https://localhost:8080/"
        },
        "cellView": "form",
        "id": "Sq9giHdonGjn",
        "outputId": "0c3ded70-0151-4ea6-ad5e-7c921db794c9"
      },
      "id": "Sq9giHdonGjn",
      "execution_count": 38,
      "outputs": [
        {
          "output_type": "stream",
          "name": "stderr",
          "text": [
            "  0%|          | 1/1000 [00:00<03:36,  4.61it/s]"
          ]
        },
        {
          "output_type": "stream",
          "name": "stdout",
          "text": [
            "epoch #0 \n",
            " training loss: \n",
            " 5.503088371976263 \n",
            " validation loss: \n",
            " 5.316283689175097 \n",
            " elapsed time: \n",
            " 0.21559500694274902\n"
          ]
        },
        {
          "output_type": "stream",
          "name": "stderr",
          "text": [
            "100%|██████████| 1000/1000 [03:51<00:00,  4.31it/s]"
          ]
        },
        {
          "output_type": "stream",
          "name": "stdout",
          "text": [
            "Final metrics: \n",
            " training loss: \n",
            " 2.28666863145205 \n",
            " validation loss: \n",
            " 5.316283689175097 \n",
            " test loss: \n",
            " 2.9579520536691746\n"
          ]
        },
        {
          "output_type": "stream",
          "name": "stderr",
          "text": [
            "\n"
          ]
        }
      ]
    },
    {
      "cell_type": "code",
      "source": [
        "#@title Sample from test dataset and compare all models\n",
        "\n",
        "sample = test_df.sample()\n",
        "sample_feat = sample[features]\n",
        "sample_lab = sample['time_to_terminate']\n",
        "print('Linear model: ',regr.predict(sample_feat)[0])\n",
        "print('Poisson model: ', pois_regr.predict(sample_feat)[0])\n",
        "print('DenseNet model: ', dense_model(torch.tensor(sample_feat.values, dtype=dtype, device=device)).item())\n",
        "print('DenseNetRelu model: ', dense_plus_relu_model(torch.tensor(sample_feat.values, dtype=dtype, device=device)).item())\n",
        "print('LSTM model: ', lstm_model(torch.tensor(sample_feat.values.reshape(1,len(sample_feat), 8), dtype=dtype, device=device)).item())\n",
        "print('Actual:  ', sample_lab.values[0])"
      ],
      "metadata": {
        "colab": {
          "base_uri": "https://localhost:8080/"
        },
        "cellView": "form",
        "id": "T14-cgqdVr_G",
        "outputId": "0e6e5aad-a439-490e-ddcd-b99275d55278"
      },
      "id": "T14-cgqdVr_G",
      "execution_count": 42,
      "outputs": [
        {
          "output_type": "stream",
          "name": "stdout",
          "text": [
            "Linear model:  4.604528151081752\n",
            "Poisson model:  3.2605485153673204\n",
            "DenseNet model:  5.21165657043457\n",
            "DenseNetRelu model:  4.672582149505615\n",
            "LSTM model:  4.790176868438721\n",
            "Actual:   4.0\n"
          ]
        }
      ]
    },
    {
      "cell_type": "code",
      "source": [
        "#@title Save all models locally and to Gdrive\n",
        "\n",
        "from google.colab import drive\n",
        "from os.path import join\n",
        "\n",
        "def save_models(model_list, dir):\n",
        "  for model__ in model_list:\n",
        "    model_file_name = f'{model__.name}.pt'\n",
        "    torch.save(model__.state_dict(), dir+'/'+model_file_name)\n",
        "  return f'Models saved to local /{dir} directory', dir\n",
        "\n",
        "!mkdir models\n",
        "\n",
        "save_models([dense_model, dense_plus_relu_model, lstm_model], 'models')\n",
        "\n",
        "# copy models dir to Gdrive\n",
        "\n",
        "ROOT = '/content/drive'\n",
        "drive.mount(ROOT)\n",
        "\n",
        "PROJ = 'MyDrive/LearningPhysics/Models'\n",
        "PROJECT_PATH = join(ROOT, PROJ)\n",
        "print('Copied models to Gdrive directory at', PROJECT_PATH)\n",
        "!cp -r models {PROJECT_PATH}"
      ],
      "metadata": {
        "colab": {
          "base_uri": "https://localhost:8080/"
        },
        "cellView": "form",
        "id": "XNH4P8olT4Jw",
        "outputId": "87e4a7c3-cdd6-40ee-ce15-5e02ac591b6f"
      },
      "id": "XNH4P8olT4Jw",
      "execution_count": 47,
      "outputs": [
        {
          "output_type": "stream",
          "name": "stdout",
          "text": [
            "mkdir: cannot create directory ‘models’: File exists\n",
            "Drive already mounted at /content/drive; to attempt to forcibly remount, call drive.mount(\"/content/drive\", force_remount=True).\n",
            "Copied models to Gdrive directory at /content/drive/MyDrive/LearningPhysics/Models\n"
          ]
        }
      ]
    }
  ],
  "metadata": {
    "kernelspec": {
      "display_name": "Python 3 (ipykernel)",
      "language": "python",
      "name": "python3"
    },
    "language_info": {
      "codemirror_mode": {
        "name": "ipython",
        "version": 3
      },
      "file_extension": ".py",
      "mimetype": "text/x-python",
      "name": "python",
      "nbconvert_exporter": "python",
      "pygments_lexer": "ipython3",
      "version": "3.7.0"
    },
    "colab": {
      "provenance": [],
      "include_colab_link": true
    },
    "accelerator": "GPU",
    "gpuClass": "standard"
  },
  "nbformat": 4,
  "nbformat_minor": 5
}