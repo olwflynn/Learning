{
  "cells": [
    {
      "cell_type": "markdown",
      "metadata": {
        "id": "view-in-github",
        "colab_type": "text"
      },
      "source": [
        "<a href=\"https://colab.research.google.com/github/olwflynn/Learning/blob/master/Learning%20Physics.ipynb\" target=\"_parent\"><img src=\"https://colab.research.google.com/assets/colab-badge.svg\" alt=\"Open In Colab\"/></a>"
      ]
    },
    {
      "cell_type": "code",
      "execution_count": 1,
      "metadata": {
        "id": "s7PPg0VZG5cK",
        "colab": {
          "base_uri": "https://localhost:8080/"
        },
        "outputId": "ed28b139-5a1d-40c4-e0e4-2782a4d02e48"
      },
      "outputs": [
        {
          "output_type": "stream",
          "name": "stdout",
          "text": [
            "Reading package lists... Done\n",
            "Building dependency tree       \n",
            "Reading state information... Done\n",
            "libgl1-mesa-dev is already the newest version (20.0.8-0ubuntu1~18.04.1).\n",
            "libgl1-mesa-dev set to manually installed.\n",
            "software-properties-common is already the newest version (0.96.24.32.18).\n",
            "The following package was automatically installed and is no longer required:\n",
            "  libnvidia-common-460\n",
            "Use 'apt autoremove' to remove it.\n",
            "Suggested packages:\n",
            "  glew-utils\n",
            "The following NEW packages will be installed:\n",
            "  libgl1-mesa-glx libglew-dev libglew2.0 libosmesa6 libosmesa6-dev\n",
            "0 upgraded, 5 newly installed, 0 to remove and 21 not upgraded.\n",
            "Need to get 2,916 kB of archives.\n",
            "After this operation, 12.6 MB of additional disk space will be used.\n",
            "Get:1 http://archive.ubuntu.com/ubuntu bionic-updates/main amd64 libgl1-mesa-glx amd64 20.0.8-0ubuntu1~18.04.1 [5,532 B]\n",
            "Get:2 http://archive.ubuntu.com/ubuntu bionic/universe amd64 libglew2.0 amd64 2.0.0-5 [140 kB]\n",
            "Get:3 http://archive.ubuntu.com/ubuntu bionic/universe amd64 libglew-dev amd64 2.0.0-5 [120 kB]\n",
            "Get:4 http://archive.ubuntu.com/ubuntu bionic-updates/main amd64 libosmesa6 amd64 20.0.8-0ubuntu1~18.04.1 [2,641 kB]\n",
            "Get:5 http://archive.ubuntu.com/ubuntu bionic-updates/main amd64 libosmesa6-dev amd64 20.0.8-0ubuntu1~18.04.1 [8,828 B]\n",
            "Fetched 2,916 kB in 1s (2,699 kB/s)\n",
            "Selecting previously unselected package libgl1-mesa-glx:amd64.\n",
            "(Reading database ... 124016 files and directories currently installed.)\n",
            "Preparing to unpack .../libgl1-mesa-glx_20.0.8-0ubuntu1~18.04.1_amd64.deb ...\n",
            "Unpacking libgl1-mesa-glx:amd64 (20.0.8-0ubuntu1~18.04.1) ...\n",
            "Selecting previously unselected package libglew2.0:amd64.\n",
            "Preparing to unpack .../libglew2.0_2.0.0-5_amd64.deb ...\n",
            "Unpacking libglew2.0:amd64 (2.0.0-5) ...\n",
            "Selecting previously unselected package libglew-dev:amd64.\n",
            "Preparing to unpack .../libglew-dev_2.0.0-5_amd64.deb ...\n",
            "Unpacking libglew-dev:amd64 (2.0.0-5) ...\n",
            "Selecting previously unselected package libosmesa6:amd64.\n",
            "Preparing to unpack .../libosmesa6_20.0.8-0ubuntu1~18.04.1_amd64.deb ...\n",
            "Unpacking libosmesa6:amd64 (20.0.8-0ubuntu1~18.04.1) ...\n",
            "Selecting previously unselected package libosmesa6-dev:amd64.\n",
            "Preparing to unpack .../libosmesa6-dev_20.0.8-0ubuntu1~18.04.1_amd64.deb ...\n",
            "Unpacking libosmesa6-dev:amd64 (20.0.8-0ubuntu1~18.04.1) ...\n",
            "Setting up libosmesa6:amd64 (20.0.8-0ubuntu1~18.04.1) ...\n",
            "Setting up libgl1-mesa-glx:amd64 (20.0.8-0ubuntu1~18.04.1) ...\n",
            "Setting up libglew2.0:amd64 (2.0.0-5) ...\n",
            "Setting up libglew-dev:amd64 (2.0.0-5) ...\n",
            "Setting up libosmesa6-dev:amd64 (20.0.8-0ubuntu1~18.04.1) ...\n",
            "Processing triggers for libc-bin (2.27-3ubuntu1.6) ...\n",
            "Reading package lists... Done\n",
            "Building dependency tree       \n",
            "Reading state information... Done\n",
            "The following package was automatically installed and is no longer required:\n",
            "  libnvidia-common-460\n",
            "Use 'apt autoremove' to remove it.\n",
            "The following NEW packages will be installed:\n",
            "  patchelf\n",
            "0 upgraded, 1 newly installed, 0 to remove and 21 not upgraded.\n",
            "Need to get 46.5 kB of archives.\n",
            "After this operation, 130 kB of additional disk space will be used.\n",
            "Get:1 http://archive.ubuntu.com/ubuntu bionic/universe amd64 patchelf amd64 0.9-1 [46.5 kB]\n",
            "Fetched 46.5 kB in 0s (125 kB/s)\n",
            "Selecting previously unselected package patchelf.\n",
            "(Reading database ... 124054 files and directories currently installed.)\n",
            "Preparing to unpack .../patchelf_0.9-1_amd64.deb ...\n",
            "Unpacking patchelf (0.9-1) ...\n",
            "Setting up patchelf (0.9-1) ...\n",
            "Processing triggers for man-db (2.8.3-2ubuntu0.1) ...\n"
          ]
        }
      ],
      "source": [
        "!apt-get install -y \\\n",
        "    libgl1-mesa-dev \\\n",
        "    libgl1-mesa-glx \\\n",
        "    libglew-dev \\\n",
        "    libosmesa6-dev \\\n",
        "    software-properties-common\n",
        "\n",
        "!apt-get install -y patchelf"
      ],
      "id": "s7PPg0VZG5cK"
    },
    {
      "cell_type": "code",
      "execution_count": 2,
      "metadata": {
        "id": "5w7tslZCHl0T",
        "colab": {
          "base_uri": "https://localhost:8080/"
        },
        "outputId": "675e213f-5703-4150-c6c3-01edb0c1c781"
      },
      "outputs": [
        {
          "output_type": "stream",
          "name": "stdout",
          "text": [
            "Looking in indexes: https://pypi.org/simple, https://us-python.pkg.dev/colab-wheels/public/simple/\n",
            "Requirement already satisfied: gym in /usr/local/lib/python3.8/dist-packages (0.25.2)\n",
            "Requirement already satisfied: cloudpickle>=1.2.0 in /usr/local/lib/python3.8/dist-packages (from gym) (1.5.0)\n",
            "Requirement already satisfied: importlib-metadata>=4.8.0 in /usr/local/lib/python3.8/dist-packages (from gym) (5.2.0)\n",
            "Requirement already satisfied: numpy>=1.18.0 in /usr/local/lib/python3.8/dist-packages (from gym) (1.21.6)\n",
            "Requirement already satisfied: gym-notices>=0.0.4 in /usr/local/lib/python3.8/dist-packages (from gym) (0.0.8)\n",
            "Requirement already satisfied: zipp>=0.5 in /usr/local/lib/python3.8/dist-packages (from importlib-metadata>=4.8.0->gym) (3.11.0)\n"
          ]
        }
      ],
      "source": [
        "!pip install gym"
      ],
      "id": "5w7tslZCHl0T"
    },
    {
      "cell_type": "code",
      "execution_count": 3,
      "metadata": {
        "id": "3qeAEFtTG8dV",
        "colab": {
          "base_uri": "https://localhost:8080/"
        },
        "outputId": "29764571-5ac6-4469-86b0-a2e4a6867f26"
      },
      "outputs": [
        {
          "output_type": "stream",
          "name": "stdout",
          "text": [
            "Looking in indexes: https://pypi.org/simple, https://us-python.pkg.dev/colab-wheels/public/simple/\n",
            "Collecting free-mujoco-py\n",
            "  Downloading free_mujoco_py-2.1.6-py3-none-any.whl (14.1 MB)\n",
            "\u001b[2K     \u001b[90m━━━━━━━━━━━━━━━━━━━━━━━━━━━━━━━━━━━━━━━━\u001b[0m \u001b[32m14.1/14.1 MB\u001b[0m \u001b[31m62.7 MB/s\u001b[0m eta \u001b[36m0:00:00\u001b[0m\n",
            "\u001b[?25hCollecting mujoco\n",
            "  Downloading mujoco-2.3.1.post1-cp38-cp38-manylinux_2_17_x86_64.manylinux2014_x86_64.whl (4.2 MB)\n",
            "\u001b[2K     \u001b[90m━━━━━━━━━━━━━━━━━━━━━━━━━━━━━━━━━━━━━━━━\u001b[0m \u001b[32m4.2/4.2 MB\u001b[0m \u001b[31m55.6 MB/s\u001b[0m eta \u001b[36m0:00:00\u001b[0m\n",
            "\u001b[?25hCollecting fasteners==0.15\n",
            "  Downloading fasteners-0.15-py2.py3-none-any.whl (23 kB)\n",
            "Requirement already satisfied: cffi<2.0.0,>=1.15.0 in /usr/local/lib/python3.8/dist-packages (from free-mujoco-py) (1.15.1)\n",
            "Requirement already satisfied: numpy<2.0.0,>=1.21.3 in /usr/local/lib/python3.8/dist-packages (from free-mujoco-py) (1.21.6)\n",
            "Collecting glfw<2.0.0,>=1.4.0\n",
            "  Downloading glfw-1.12.0-py2.py27.py3.py30.py31.py32.py33.py34.py35.py36.py37.py38-none-manylinux2014_x86_64.whl (203 kB)\n",
            "\u001b[2K     \u001b[90m━━━━━━━━━━━━━━━━━━━━━━━━━━━━━━━━━━━━━━\u001b[0m \u001b[32m203.7/203.7 KB\u001b[0m \u001b[31m18.3 MB/s\u001b[0m eta \u001b[36m0:00:00\u001b[0m\n",
            "\u001b[?25hRequirement already satisfied: imageio<3.0.0,>=2.9.0 in /usr/local/lib/python3.8/dist-packages (from free-mujoco-py) (2.9.0)\n",
            "Requirement already satisfied: Cython<0.30.0,>=0.29.24 in /usr/local/lib/python3.8/dist-packages (from free-mujoco-py) (0.29.32)\n",
            "Requirement already satisfied: six in /usr/local/lib/python3.8/dist-packages (from fasteners==0.15->free-mujoco-py) (1.15.0)\n",
            "Collecting monotonic>=0.1\n",
            "  Downloading monotonic-1.6-py2.py3-none-any.whl (8.2 kB)\n",
            "Requirement already satisfied: absl-py in /usr/local/lib/python3.8/dist-packages (from mujoco) (1.3.0)\n",
            "Requirement already satisfied: pyopengl in /usr/local/lib/python3.8/dist-packages (from mujoco) (3.1.6)\n",
            "Requirement already satisfied: pycparser in /usr/local/lib/python3.8/dist-packages (from cffi<2.0.0,>=1.15.0->free-mujoco-py) (2.21)\n",
            "Requirement already satisfied: pillow in /usr/local/lib/python3.8/dist-packages (from imageio<3.0.0,>=2.9.0->free-mujoco-py) (7.1.2)\n",
            "Installing collected packages: monotonic, glfw, mujoco, fasteners, free-mujoco-py\n",
            "Successfully installed fasteners-0.15 free-mujoco-py-2.1.6 glfw-1.12.0 monotonic-1.6 mujoco-2.3.1.post1\n"
          ]
        }
      ],
      "source": [
        "!pip install free-mujoco-py mujoco"
      ],
      "id": "3qeAEFtTG8dV"
    },
    {
      "cell_type": "markdown",
      "metadata": {
        "id": "MHtnurnyIwaZ"
      },
      "source": [
        "**Now you need to restart the runtime as numpy is apparently automatically imported...**"
      ],
      "id": "MHtnurnyIwaZ"
    },
    {
      "cell_type": "code",
      "execution_count": 4,
      "metadata": {
        "id": "TtWrmOCKHD6I",
        "colab": {
          "base_uri": "https://localhost:8080/"
        },
        "outputId": "c8ed3e07-4c2d-4bef-c8e3-348bedc5363c"
      },
      "outputs": [
        {
          "output_type": "stream",
          "name": "stdout",
          "text": [
            "Compiling /usr/local/lib/python3.8/dist-packages/mujoco_py/cymj.pyx because it changed.\n",
            "[1/1] Cythonizing /usr/local/lib/python3.8/dist-packages/mujoco_py/cymj.pyx\n",
            "running build_ext\n",
            "building 'mujoco_py.cymj' extension\n",
            "creating /usr/local/lib/python3.8/dist-packages/mujoco_py/generated/_pyxbld_2.0.2.13_38_linuxcpuextensionbuilder\n",
            "creating /usr/local/lib/python3.8/dist-packages/mujoco_py/generated/_pyxbld_2.0.2.13_38_linuxcpuextensionbuilder/temp.linux-x86_64-3.8\n",
            "creating /usr/local/lib/python3.8/dist-packages/mujoco_py/generated/_pyxbld_2.0.2.13_38_linuxcpuextensionbuilder/temp.linux-x86_64-3.8/usr\n",
            "creating /usr/local/lib/python3.8/dist-packages/mujoco_py/generated/_pyxbld_2.0.2.13_38_linuxcpuextensionbuilder/temp.linux-x86_64-3.8/usr/local\n",
            "creating /usr/local/lib/python3.8/dist-packages/mujoco_py/generated/_pyxbld_2.0.2.13_38_linuxcpuextensionbuilder/temp.linux-x86_64-3.8/usr/local/lib\n",
            "creating /usr/local/lib/python3.8/dist-packages/mujoco_py/generated/_pyxbld_2.0.2.13_38_linuxcpuextensionbuilder/temp.linux-x86_64-3.8/usr/local/lib/python3.8\n",
            "creating /usr/local/lib/python3.8/dist-packages/mujoco_py/generated/_pyxbld_2.0.2.13_38_linuxcpuextensionbuilder/temp.linux-x86_64-3.8/usr/local/lib/python3.8/dist-packages\n",
            "creating /usr/local/lib/python3.8/dist-packages/mujoco_py/generated/_pyxbld_2.0.2.13_38_linuxcpuextensionbuilder/temp.linux-x86_64-3.8/usr/local/lib/python3.8/dist-packages/mujoco_py\n",
            "creating /usr/local/lib/python3.8/dist-packages/mujoco_py/generated/_pyxbld_2.0.2.13_38_linuxcpuextensionbuilder/temp.linux-x86_64-3.8/usr/local/lib/python3.8/dist-packages/mujoco_py/gl\n",
            "x86_64-linux-gnu-gcc -pthread -Wno-unused-result -Wsign-compare -DNDEBUG -g -fwrapv -O2 -Wall -g -fstack-protector-strong -Wformat -Werror=format-security -g -fwrapv -O2 -g -fstack-protector-strong -Wformat -Werror=format-security -Wdate-time -D_FORTIFY_SOURCE=2 -fPIC -I/usr/local/lib/python3.8/dist-packages/mujoco_py -I/usr/local/lib/python3.8/dist-packages/mujoco_py/binaries/linux/mujoco210/include -I/usr/local/lib/python3.8/dist-packages/numpy/core/include -I/usr/include/python3.8 -c /usr/local/lib/python3.8/dist-packages/mujoco_py/cymj.c -o /usr/local/lib/python3.8/dist-packages/mujoco_py/generated/_pyxbld_2.0.2.13_38_linuxcpuextensionbuilder/temp.linux-x86_64-3.8/usr/local/lib/python3.8/dist-packages/mujoco_py/cymj.o -fopenmp -w\n",
            "x86_64-linux-gnu-gcc -pthread -Wno-unused-result -Wsign-compare -DNDEBUG -g -fwrapv -O2 -Wall -g -fstack-protector-strong -Wformat -Werror=format-security -g -fwrapv -O2 -g -fstack-protector-strong -Wformat -Werror=format-security -Wdate-time -D_FORTIFY_SOURCE=2 -fPIC -I/usr/local/lib/python3.8/dist-packages/mujoco_py -I/usr/local/lib/python3.8/dist-packages/mujoco_py/binaries/linux/mujoco210/include -I/usr/local/lib/python3.8/dist-packages/numpy/core/include -I/usr/include/python3.8 -c /usr/local/lib/python3.8/dist-packages/mujoco_py/gl/osmesashim.c -o /usr/local/lib/python3.8/dist-packages/mujoco_py/generated/_pyxbld_2.0.2.13_38_linuxcpuextensionbuilder/temp.linux-x86_64-3.8/usr/local/lib/python3.8/dist-packages/mujoco_py/gl/osmesashim.o -fopenmp -w\n",
            "creating /usr/local/lib/python3.8/dist-packages/mujoco_py/generated/_pyxbld_2.0.2.13_38_linuxcpuextensionbuilder/lib.linux-x86_64-3.8\n",
            "creating /usr/local/lib/python3.8/dist-packages/mujoco_py/generated/_pyxbld_2.0.2.13_38_linuxcpuextensionbuilder/lib.linux-x86_64-3.8/mujoco_py\n",
            "x86_64-linux-gnu-gcc -pthread -shared -Wl,-O1 -Wl,-Bsymbolic-functions -Wl,-Bsymbolic-functions -g -fwrapv -O2 -Wl,-Bsymbolic-functions -g -fwrapv -O2 -g -fstack-protector-strong -Wformat -Werror=format-security -Wdate-time -D_FORTIFY_SOURCE=2 /usr/local/lib/python3.8/dist-packages/mujoco_py/generated/_pyxbld_2.0.2.13_38_linuxcpuextensionbuilder/temp.linux-x86_64-3.8/usr/local/lib/python3.8/dist-packages/mujoco_py/cymj.o /usr/local/lib/python3.8/dist-packages/mujoco_py/generated/_pyxbld_2.0.2.13_38_linuxcpuextensionbuilder/temp.linux-x86_64-3.8/usr/local/lib/python3.8/dist-packages/mujoco_py/gl/osmesashim.o -L/usr/local/lib/python3.8/dist-packages/mujoco_py/binaries/linux/mujoco210/bin -Wl,--enable-new-dtags,-R/usr/local/lib/python3.8/dist-packages/mujoco_py/binaries/linux/mujoco210/bin -lmujoco210 -lglewosmesa -lOSMesa -lGL -o /usr/local/lib/python3.8/dist-packages/mujoco_py/generated/_pyxbld_2.0.2.13_38_linuxcpuextensionbuilder/lib.linux-x86_64-3.8/mujoco_py/cymj.cpython-38-x86_64-linux-gnu.so -fopenmp\n"
          ]
        }
      ],
      "source": [
        "import mujoco_py\n",
        "import gym"
      ],
      "id": "TtWrmOCKHD6I"
    },
    {
      "cell_type": "code",
      "execution_count": 5,
      "id": "ad741ec6-c60b-4124-a3ef-80944f5d6f75",
      "metadata": {
        "id": "ad741ec6-c60b-4124-a3ef-80944f5d6f75"
      },
      "outputs": [],
      "source": [
        "import numpy as np\n",
        "\n",
        "# def plt_update(ax, colors=['b']):\n",
        "#     x = np.linspace(0,1,100)\n",
        "#     if ax.lines:\n",
        "#         for line in ax.lines:\n",
        "#             line.set_xdata(x)\n",
        "#             y = np.random.random(size=(100,1))\n",
        "#             line.set_ydata(y)\n",
        "#     else:\n",
        "#         for color in colors:\n",
        "#             y = np.random.random(size=(100,1))\n",
        "#             ax.plot(x, y, color)\n",
        "#     fig.canvas.draw()\n",
        "\n",
        "\n",
        "def live_plot(data_dict, figsize=(7,5), title=''):\n",
        "    # clear_output(wait=True)\n",
        "    plt.figure(figsize=figsize)\n",
        "    # for label,data in data_dict.items():\n",
        "    obs = data_dict[\"obs\"]\n",
        "    preds = data_dict[\"preds\"]\n",
        "    print(\"obs: \", obs, \"\\n preds: \",preds)\n",
        "\n",
        "    plt.plot(obs, label=\"obs\")\n",
        "    plt.plot(range(len(obs)-1, len(obs)+len(preds)-1), preds, label=\"preds\")\n",
        "    \n",
        "    plt.title(title)\n",
        "    plt.grid(True)\n",
        "    plt.xlabel('epoch')\n",
        "    plt.legend(loc='center left') # the plot evolves to the right\n",
        "    plt.show();"
      ]
    },
    {
      "cell_type": "markdown",
      "source": [
        "Need to restart runtime if cant find 'mujuco'"
      ],
      "metadata": {
        "id": "tGiYgjBWd-Ha"
      },
      "id": "tGiYgjBWd-Ha"
    },
    {
      "cell_type": "code",
      "source": [
        "env = gym.make(\"InvertedDoublePendulum-v4\", new_step_api=True)\n",
        "env.reset(seed=42)\n",
        "env.step(env.action_space.sample())"
      ],
      "metadata": {
        "colab": {
          "base_uri": "https://localhost:8080/"
        },
        "id": "7YlxRJWa1mYd",
        "outputId": "78d18c44-92f2-436e-e515-7042f0da77e5"
      },
      "id": "7YlxRJWa1mYd",
      "execution_count": 6,
      "outputs": [
        {
          "output_type": "execute_result",
          "data": {
            "text/plain": [
              "(array([ 0.06870061, -0.04281315,  0.09520997,  0.9990831 ,  0.99545721,\n",
              "         0.46350651, -1.03696817,  1.08825815,  0.        ,  0.        ,\n",
              "         0.        ]), 9.350741240124913, False, False, {})"
            ]
          },
          "metadata": {},
          "execution_count": 6
        }
      ]
    },
    {
      "cell_type": "code",
      "execution_count": 7,
      "id": "665867d5-71f6-4b62-a604-a29c8f74f4bf",
      "metadata": {
        "id": "665867d5-71f6-4b62-a604-a29c8f74f4bf"
      },
      "outputs": [],
      "source": [
        "# naive forecaster where we predict the angle at the next 3 steps is the same as the current angle\n",
        "\n",
        "def naive_forecaster(X):\n",
        "    # X is the all data known to the forecaster at the time. X is only the current and previous angles for now.\n",
        "    \n",
        "    current_angle = X[-1]\n",
        "    angle_t_plus_1 = current_angle\n",
        "    angle_t_plus_2 = current_angle\n",
        "    angle_t_plus_3 = current_angle\n",
        "    \n",
        "    return np.array([angle_t_plus_1, angle_t_plus_2, angle_t_plus_3])\n"
      ]
    },
    {
      "cell_type": "code",
      "execution_count": 8,
      "id": "8963723f-d1d8-46e8-a062-277326a5efaf",
      "metadata": {
        "id": "8963723f-d1d8-46e8-a062-277326a5efaf"
      },
      "outputs": [],
      "source": [
        "# get forecast error given a predicted trajectory and observations\n",
        "\n",
        "def forecast_error(X_obs, preds):\n",
        "    \n",
        "    mse = sum(np.square(X_obs - preds)) / len(X_obs)\n",
        "    \n",
        "    return mse"
      ]
    },
    {
      "cell_type": "code",
      "execution_count": 9,
      "id": "cf4b649a",
      "metadata": {
        "tags": [],
        "colab": {
          "base_uri": "https://localhost:8080/",
          "height": 1000
        },
        "id": "cf4b649a",
        "outputId": "7f56bc22-5022-4477-8499-d35a03ba1bb5"
      },
      "outputs": [
        {
          "output_type": "stream",
          "name": "stdout",
          "text": [
            "epoch # 0\n",
            "[ 0.04006459  0.00765888  0.02662316  0.99997067  0.99964554 -1.61195563\n",
            "  3.08346201 -3.90383865  0.          0.          0.        ] 9.273657834757602 False False {}\n",
            "obs:  [0.007658879355899941] \n",
            " preds:  [0.00765888 0.20765888 0.20765888 0.20765888]\n"
          ]
        },
        {
          "output_type": "display_data",
          "data": {
            "text/plain": [
              "<Figure size 504x360 with 1 Axes>"
            ],
            "image/png": "[encoded data removed]"
          },
          "metadata": {
            "needs_background": "light"
          }
        },
        {
          "output_type": "stream",
          "name": "stdout",
          "text": [
            "epoch # 1\n",
            "[ 0.00804182  0.06349738 -0.04470559  0.99798201  0.99900021  0.32556825\n",
            " -0.80645175  0.95435922  0.          0.          0.        ] 9.352653510315319 False False {}\n",
            "obs:  [0.007658879355899941, 0.06349737993960894] \n",
            " preds:  [0.06349738 0.26349738 0.26349738 0.26349738]\n"
          ]
        },
        {
          "output_type": "display_data",
          "data": {
            "text/plain": [
              "<Figure size 504x360 with 1 Axes>"
            ],
            "image/png": "[encoded data removed]"
          },
          "metadata": {
            "needs_background": "light"
          }
        },
        {
          "output_type": "stream",
          "name": "stdout",
          "text": [
            "epoch # 2\n",
            "[-7.39559879e-04  7.66464065e-02 -6.64965042e-02  9.97058337e-01\n",
            "  9.97786658e-01 -6.76647055e-01  1.33320281e+00 -1.82461548e+00\n",
            "  0.00000000e+00  0.00000000e+00  0.00000000e+00] 9.338673113534737 False False {}\n",
            "obs:  [0.007658879355899941, 0.06349737993960894, 0.07664640646474072] \n",
            " preds:  [0.07664641 0.27664641 0.27664641 0.27664641]\n"
          ]
        },
        {
          "output_type": "display_data",
          "data": {
            "text/plain": [
              "<Figure size 504x360 with 1 Axes>"
            ],
            "image/png": "[encoded data removed]"
          },
          "metadata": {
            "needs_background": "light"
          }
        },
        {
          "output_type": "stream",
          "name": "stdout",
          "text": [
            "epoch # 3\n",
            "[-0.00999776  0.09745683 -0.10491674  0.99523975  0.99448101  0.30400292\n",
            " -0.47739348  0.23094965  0.          0.          0.        ] 9.354880841281581 False False {}\n",
            "obs:  [0.007658879355899941, 0.06349737993960894, 0.07664640646474072, 0.09745682705826787] \n",
            " preds:  [0.09745683 0.29745683 0.29745683 0.29745683]\n"
          ]
        },
        {
          "output_type": "display_data",
          "data": {
            "text/plain": [
              "<Figure size 504x360 with 1 Axes>"
            ],
            "image/png": "[encoded data removed]"
          },
          "metadata": {
            "needs_background": "light"
          }
        },
        {
          "output_type": "stream",
          "name": "stdout",
          "text": [
            "epoch # 4\n",
            "[-0.03855145  0.16552019 -0.21130692  0.9862064   0.97741976 -1.4407386\n",
            "  3.19446381 -4.45256517  0.          0.          0.        ] 9.236296604878072 False False {}\n",
            "obs:  [0.007658879355899941, 0.06349737993960894, 0.07664640646474072, 0.09745682705826787, 0.1655201924264] \n",
            " preds:  [0.16552019 0.36552019 0.36552019 0.36552019]\n"
          ]
        },
        {
          "output_type": "display_data",
          "data": {
            "text/plain": [
              "<Figure size 504x360 with 1 Axes>"
            ],
            "image/png": "[encoded data removed]"
          },
          "metadata": {
            "needs_background": "light"
          }
        },
        {
          "output_type": "stream",
          "name": "stdout",
          "text": [
            "epoch # 5\n",
            "[-0.10994785  0.32475262 -0.4298166   0.94579899  0.90291621 -1.416004\n",
            "  3.41051251 -4.83743064  0.          0.          0.        ] 9.17182280428895 False False {}\n",
            "obs:  [0.007658879355899941, 0.06349737993960894, 0.07664640646474072, 0.09745682705826787, 0.1655201924264, 0.324752620798032] \n",
            " preds:  [0.32475262 0.52475262 0.52475262 0.52475262]\n"
          ]
        },
        {
          "output_type": "display_data",
          "data": {
            "text/plain": [
              "<Figure size 504x360 with 1 Axes>"
            ],
            "image/png": "[encoded data removed]"
          },
          "metadata": {
            "needs_background": "light"
          }
        },
        {
          "output_type": "stream",
          "name": "stdout",
          "text": [
            "epoch # 6\n",
            "[-0.1782011   0.48485276 -0.64091174  0.87459579  0.76761458 -1.31347165\n",
            "  3.62552111 -5.22635221  0.          0.          0.        ] 9.065316361591162 False False {}\n",
            "obs:  [0.007658879355899941, 0.06349737993960894, 0.07664640646474072, 0.09745682705826787, 0.1655201924264, 0.324752620798032, 0.48485276249914105] \n",
            " preds:  [0.48485276 0.68485276 0.68485276 0.68485276]\n"
          ]
        },
        {
          "output_type": "display_data",
          "data": {
            "text/plain": [
              "<Figure size 504x360 with 1 Axes>"
            ],
            "image/png": "[encoded data removed]"
          },
          "metadata": {
            "needs_background": "light"
          }
        },
        {
          "output_type": "stream",
          "name": "stdout",
          "text": [
            "epoch # 7\n",
            "[-0.2871676   0.68289002 -0.82192223  0.73052119  0.56959973 -3.00159069\n",
            "  6.01600311 -4.92833753  0.          0.          0.        ] 8.891293894400171 False False {}\n",
            "obs:  [0.007658879355899941, 0.06349737993960894, 0.07664640646474072, 0.09745682705826787, 0.1655201924264, 0.324752620798032, 0.48485276249914105, 0.6828900238092759] \n",
            " preds:  [0.68289002 0.88289002 0.88289002 0.88289002]\n"
          ]
        },
        {
          "output_type": "display_data",
          "data": {
            "text/plain": [
              "<Figure size 504x360 with 1 Axes>"
            ],
            "image/png": "[encoded data removed]"
          },
          "metadata": {
            "needs_background": "light"
          }
        },
        {
          "output_type": "stream",
          "name": "stdout",
          "text": [
            "epoch # 8\n",
            "[-0.41646534  0.86338492 -0.92970861  0.50454581  0.36829595 -2.17642049\n",
            "  5.69628322 -4.38602253  0.          0.          0.        ] 8.652170703267133 True False {}\n",
            "obs:  [0.007658879355899941, 0.06349737993960894, 0.07664640646474072, 0.09745682705826787, 0.1655201924264, 0.324752620798032, 0.48485276249914105, 0.6828900238092759, 0.863384923600409] \n",
            " preds:  [0.86338492 1.06338492 1.06338492 1.06338492]\n"
          ]
        },
        {
          "output_type": "display_data",
          "data": {
            "text/plain": [
              "<Figure size 504x360 with 1 Axes>"
            ],
            "image/png": "[encoded data removed]"
          },
          "metadata": {
            "needs_background": "light"
          }
        },
        {
          "output_type": "stream",
          "name": "stdout",
          "text": [
            "[0.007658879355899941, 0.06349737993960894, 0.07664640646474072, 0.09745682705826787, 0.1655201924264, 0.324752620798032, 0.48485276249914105, 0.6828900238092759, 0.863384923600409]\n",
            "Prediction error in last 3 steps:  0.17315861006518926\n"
          ]
        }
      ],
      "source": [
        "from IPython.display import clear_output\n",
        "import time\n",
        "import matplotlib.pyplot as plt\n",
        "\n",
        "# observation, info = env.reset(seed=42)\n",
        "obs_history = []\n",
        "# fig,ax = plt.subplots(1,1)\n",
        "# ax.set_xlabel('t')\n",
        "# ax.set_ylabel('obs_idx_1')\n",
        "# ax.set_xlim(0,20)\n",
        "# ax.set_ylim(-5,5)\n",
        "\n",
        "for _ in range(10):\n",
        "    print(\"epoch #\", _)\n",
        "    observation, reward, terminated, truncated, info = env.step(env.action_space.sample())\n",
        "    print(observation, reward, terminated, truncated, info)\n",
        "    obs_history.append(observation[1])\n",
        "    # plt.plot(obs_history[0][0])\n",
        "    # plt.show()\n",
        "    preds = obs_history[-1]+[0, 0.2,0.2,0.2]\n",
        "    # obs_concat_preds = obs_history\n",
        "    # for pred in preds:\n",
        "    #     obs_concat_preds.append(pred)\n",
        "    live_plot({\"obs\": obs_history, \"preds\": preds}, title=\"Radians by epoch\")\n",
        "    time.sleep(1)\n",
        "    if terminated or truncated:\n",
        "        print(obs_history)\n",
        "        print(\"Prediction error in last 3 steps: \", forecast_error(obs_history[-3:], preds[-3:]))\n",
        "        break\n",
        "        # obs_history = []\n",
        "        # observation, info = env.reset()\n",
        "\n",
        "env.close()"
      ]
    },
    {
      "cell_type": "markdown",
      "id": "0dac7f61-e9f7-40a1-9bee-b6fdd9b0668e",
      "metadata": {
        "id": "0dac7f61-e9f7-40a1-9bee-b6fdd9b0668e"
      },
      "source": [
        "The episode ends when any of the following happens:\n",
        "\n",
        "Truncation: The episode duration reaches 1000 timesteps.\n",
        "\n",
        "Termination: Any of the state space values is no longer finite.\n",
        "\n",
        "Termination: The absolutely value of the vertical angle between the pole and the cart is greater than 0.2 radian. i.e. 11.4592 degrees\n",
        "\n",
        "1; vertical angle of the pole on the cart; -Inf; Inf; angle (rad)"
      ]
    },
    {
      "cell_type": "markdown",
      "id": "30806ff9-8c40-4528-be89-8b210d99c109",
      "metadata": {
        "id": "30806ff9-8c40-4528-be89-8b210d99c109"
      },
      "source": [
        "*JTBD*\n",
        "\n",
        "- Run thousands of episodes to generate training data with features (current and prev angles and other data) and labels (next few angles)\n",
        "- Train forecast model to predict trajectory of angle\n",
        "- Start episode with control over speed i.e. time lag between steps\n",
        "- Predict expected time to end of episode at step t with measure of uncertainty\n",
        "- Predict trajectory of angle in next few time steps at step t\n",
        "- At end of episode output prediction errors at a few time steps\n"
      ]
    },
    {
      "cell_type": "code",
      "source": [
        "!pip install torch"
      ],
      "metadata": {
        "colab": {
          "base_uri": "https://localhost:8080/"
        },
        "id": "Ski4fdQA-Qu4",
        "outputId": "e5e85535-af48-41cf-e4dd-ed2977d85333"
      },
      "id": "Ski4fdQA-Qu4",
      "execution_count": 10,
      "outputs": [
        {
          "output_type": "stream",
          "name": "stdout",
          "text": [
            "Looking in indexes: https://pypi.org/simple, https://us-python.pkg.dev/colab-wheels/public/simple/\n",
            "Requirement already satisfied: torch in /usr/local/lib/python3.8/dist-packages (1.13.0+cu116)\n",
            "Requirement already satisfied: typing-extensions in /usr/local/lib/python3.8/dist-packages (from torch) (4.4.0)\n"
          ]
        }
      ]
    },
    {
      "cell_type": "code",
      "execution_count": 11,
      "id": "eefda0be-faaa-436a-8b4b-62109c13f57d",
      "metadata": {
        "colab": {
          "base_uri": "https://localhost:8080/"
        },
        "id": "eefda0be-faaa-436a-8b4b-62109c13f57d",
        "outputId": "65683ddd-b5e5-46b0-b420-54958b126a78"
      },
      "outputs": [
        {
          "output_type": "stream",
          "name": "stdout",
          "text": [
            "tensor([[-0.1514, -1.2239,  1.4934, -1.8379,  1.7719,  0.4900,  0.7124,  1.3291,\n",
            "          0.0039,  0.9831, -1.6224, -1.3179,  0.5245,  0.8600, -0.0962]])\n"
          ]
        }
      ],
      "source": [
        "import torch\n",
        "X = torch.randn(1, 15)\n",
        "print(X)"
      ]
    },
    {
      "cell_type": "code",
      "source": [
        "y = torch.ones(1, 10)\n",
        "print(y)"
      ],
      "metadata": {
        "colab": {
          "base_uri": "https://localhost:8080/"
        },
        "id": "LkqGCLBT-O9P",
        "outputId": "d8cc4258-198c-41f4-8790-477bcab8ab39"
      },
      "id": "LkqGCLBT-O9P",
      "execution_count": 12,
      "outputs": [
        {
          "output_type": "stream",
          "name": "stdout",
          "text": [
            "tensor([[1., 1., 1., 1., 1., 1., 1., 1., 1., 1.]])\n"
          ]
        }
      ]
    },
    {
      "cell_type": "code",
      "source": [
        "# y = softmax(layer2(layer1(X)))\n",
        "\n",
        "from torch import nn\n",
        "\n",
        "class TestNetwork(nn.Module):\n",
        "  def __init__(self):\n",
        "    super(TestNetwork, self).__init__()\n",
        "    self.seqlayers = nn.Sequential(\n",
        "        nn.Linear(15, 20),\n",
        "        nn.ReLU(),\n",
        "        nn.Linear(20, 10),\n",
        "        nn.ReLU(),\n",
        "    )\n",
        "    self.softmax = nn.Softmax(dim=1)\n",
        "\n",
        "  def forward(self, X):\n",
        "    hidden1 = self.seqlayers(X)\n",
        "    output = self.softmax(hidden1)\n",
        "    return output\n",
        "\n"
      ],
      "metadata": {
        "id": "Q-C_ZzYz-xdb"
      },
      "id": "Q-C_ZzYz-xdb",
      "execution_count": 13,
      "outputs": []
    },
    {
      "cell_type": "code",
      "source": [
        "model = TestNetwork()\n",
        "print(model)"
      ],
      "metadata": {
        "colab": {
          "base_uri": "https://localhost:8080/"
        },
        "id": "smt_eLALBMZK",
        "outputId": "eb4fac91-e742-48a8-a686-9e4536a81487"
      },
      "id": "smt_eLALBMZK",
      "execution_count": 14,
      "outputs": [
        {
          "output_type": "stream",
          "name": "stdout",
          "text": [
            "TestNetwork(\n",
            "  (seqlayers): Sequential(\n",
            "    (0): Linear(in_features=15, out_features=20, bias=True)\n",
            "    (1): ReLU()\n",
            "    (2): Linear(in_features=20, out_features=10, bias=True)\n",
            "    (3): ReLU()\n",
            "  )\n",
            "  (softmax): Softmax(dim=1)\n",
            ")\n"
          ]
        }
      ]
    },
    {
      "cell_type": "code",
      "source": [
        "preds = model(X)\n",
        "preds"
      ],
      "metadata": {
        "colab": {
          "base_uri": "https://localhost:8080/"
        },
        "id": "afx--8_RBT_s",
        "outputId": "7657daa1-8ba9-4ffd-ac1e-3715dd20ca7c"
      },
      "id": "afx--8_RBT_s",
      "execution_count": 15,
      "outputs": [
        {
          "output_type": "execute_result",
          "data": {
            "text/plain": [
              "tensor([[0.1103, 0.0911, 0.0738, 0.1171, 0.1312, 0.1082, 0.0738, 0.0791, 0.1148,\n",
              "         0.1005]], grad_fn=<SoftmaxBackward0>)"
            ]
          },
          "metadata": {},
          "execution_count": 15
        }
      ]
    },
    {
      "cell_type": "code",
      "source": [
        "preds.size()"
      ],
      "metadata": {
        "colab": {
          "base_uri": "https://localhost:8080/"
        },
        "id": "8iuSXNVTCNan",
        "outputId": "acec07bd-f452-403a-d319-57fe78397b11"
      },
      "id": "8iuSXNVTCNan",
      "execution_count": 16,
      "outputs": [
        {
          "output_type": "execute_result",
          "data": {
            "text/plain": [
              "torch.Size([1, 10])"
            ]
          },
          "metadata": {},
          "execution_count": 16
        }
      ]
    },
    {
      "cell_type": "code",
      "source": [
        "loss_ = torch.nn.functional.binary_cross_entropy(preds, y)\n",
        "loss_"
      ],
      "metadata": {
        "colab": {
          "base_uri": "https://localhost:8080/"
        },
        "id": "bJ7hcXQbCUck",
        "outputId": "1d2dc381-ea39-47ad-c06c-faa9a87f2e87"
      },
      "id": "bJ7hcXQbCUck",
      "execution_count": 17,
      "outputs": [
        {
          "output_type": "execute_result",
          "data": {
            "text/plain": [
              "tensor(2.3211, grad_fn=<BinaryCrossEntropyBackward0>)"
            ]
          },
          "metadata": {},
          "execution_count": 17
        }
      ]
    },
    {
      "cell_type": "code",
      "source": [
        "# Backpropagation for one step\n",
        "learning_rate = 0.1\n",
        "optimizer = torch.optim.SGD(model.parameters(), lr=learning_rate)\n",
        "\n",
        "optimizer.zero_grad()\n",
        "loss_.backward()\n",
        "optimizer.step()\n",
        "\n",
        "new_preds = model(X)\n",
        "new_loss = torch.nn.functional.binary_cross_entropy(new_preds, y)\n",
        "\n",
        "print(new_loss)"
      ],
      "metadata": {
        "colab": {
          "base_uri": "https://localhost:8080/"
        },
        "id": "hhgkljCwDRUG",
        "outputId": "009dedcd-c382-4b3b-994c-a7a95ade83d2"
      },
      "id": "hhgkljCwDRUG",
      "execution_count": 18,
      "outputs": [
        {
          "output_type": "stream",
          "name": "stdout",
          "text": [
            "tensor(2.3189, grad_fn=<BinaryCrossEntropyBackward0>)\n"
          ]
        }
      ]
    },
    {
      "cell_type": "code",
      "source": [
        "def create_rows_for_episode(ep_num):\n",
        "  env.reset(seed=42)\n",
        "  for _ in range(100):\n",
        "    observation, reward, terminated, truncated, info = env.step(env.action_space.sample())\n",
        "    features = np.array(observation[:8]).reshape(1, 8)\n",
        "    if _ == 0:\n",
        "      rows_for_ep = features\n",
        "    else:\n",
        "      rows_for_ep = np.concatenate((rows_for_ep, features), axis=0)\n",
        "    if terminated or truncated:\n",
        "      labels = np.array(range(_, -1,-1)).reshape(_+1, 1)\n",
        "      ep_num_arr = np.array([ep_num for i in range(len(labels))]).reshape(_+1, 1)\n",
        "      assert len(labels) == len(rows_for_ep)\n",
        "      rows_for_ep = np.concatenate((rows_for_ep, labels), axis=1)\n",
        "      rows_for_ep = np.concatenate((rows_for_ep, ep_num_arr), axis=1)\n",
        "      # print(len(rows_for_ep), type(rows_for_ep))\n",
        "      return rows_for_ep\n",
        "  \n",
        "    "
      ],
      "metadata": {
        "id": "CCL0igDFRnWn"
      },
      "id": "CCL0igDFRnWn",
      "execution_count": 19,
      "outputs": []
    },
    {
      "cell_type": "code",
      "source": [
        "# create a dataset with positions of the pendulum as features and time to terminate as label\n",
        "\n",
        "import pandas as pd\n",
        "\n",
        "columns = []\n",
        "for i in range(8):\n",
        "  columns.append(f'feature_{i}')\n",
        "columns.append('time_to_terminate')\n",
        "columns.append('ep_num')\n",
        "\n",
        "#create array\n",
        "num_episodes = 10000\n",
        "for j in range(num_episodes):\n",
        "  episode_rows = create_rows_for_episode(j)\n",
        "  if j == 0:\n",
        "    arr = episode_rows\n",
        "  else:\n",
        "    arr = np.concatenate([arr, episode_rows], axis=0)\n",
        "env.close()\n",
        "\n",
        "df = pd.DataFrame(arr, columns=columns)\n",
        "print(df.head())\n",
        "print(df.describe())\n",
        "print(df.info())"
      ],
      "metadata": {
        "colab": {
          "base_uri": "https://localhost:8080/"
        },
        "id": "oiaRdUnNDpsn",
        "outputId": "3efc6ca1-c17f-446d-8a6f-bb85f9421d57"
      },
      "id": "oiaRdUnNDpsn",
      "execution_count": 20,
      "outputs": [
        {
          "output_type": "stream",
          "name": "stdout",
          "text": [
            "   feature_0  feature_1  feature_2  feature_3  feature_4  feature_5  \\\n",
            "0   0.075801  -0.057330   0.113376   0.998355   0.993552   0.747716   \n",
            "1   0.126741  -0.168810   0.245464   0.985649   0.969406   1.289914   \n",
            "2   0.156512  -0.254156   0.365291   0.967163   0.930893  -0.086805   \n",
            "3   0.134695  -0.270176   0.445150   0.962811   0.895456  -0.785373   \n",
            "4   0.067665  -0.232835   0.513079   0.972516   0.858341  -1.901470   \n",
            "\n",
            "   feature_6  feature_7  time_to_terminate  ep_num  \n",
            "0  -1.620037   1.819608                8.0     0.0  \n",
            "1  -2.879671   3.553874                7.0     0.0  \n",
            "2  -0.708112   1.724377                6.0     0.0  \n",
            "3   0.034924   1.810232                5.0     0.0  \n",
            "4   1.543794   1.229662                4.0     0.0  \n",
            "          feature_0     feature_1     feature_2     feature_3     feature_4  \\\n",
            "count  63666.000000  63666.000000  63666.000000  63666.000000  63666.000000   \n",
            "mean       0.056943     -0.042613      0.078471      0.886776      0.819415   \n",
            "std        0.226440      0.436495      0.528482      0.145904      0.207637   \n",
            "min       -0.793774     -0.945692     -0.997185      0.325064      0.074975   \n",
            "25%       -0.063100     -0.339068     -0.285894      0.822969      0.690533   \n",
            "50%        0.062697     -0.047076      0.102388      0.957342      0.913800   \n",
            "75%        0.185462      0.226229      0.494249      0.994883      0.987847   \n",
            "max        0.857487      0.941850      0.996722      1.000000      1.000000   \n",
            "\n",
            "          feature_5     feature_6     feature_7  time_to_terminate  \\\n",
            "count  63666.000000  63666.000000  63666.000000       63666.000000   \n",
            "mean       0.042722     -0.286445      0.242891           2.968617   \n",
            "std        1.965141      3.955929      4.323121           2.333060   \n",
            "min       -6.391518    -10.000000    -10.000000           0.000000   \n",
            "25%       -1.355425     -3.562932     -4.032300           1.000000   \n",
            "50%        0.073585     -0.485293      0.767218           3.000000   \n",
            "75%        1.461896      2.948379      4.410035           4.000000   \n",
            "max        6.456353     10.000000      9.904544          21.000000   \n",
            "\n",
            "             ep_num  \n",
            "count  63666.000000  \n",
            "mean    5010.094305  \n",
            "std     2884.173462  \n",
            "min        0.000000  \n",
            "25%     2514.000000  \n",
            "50%     5015.000000  \n",
            "75%     7511.750000  \n",
            "max     9999.000000  \n",
            "<class 'pandas.core.frame.DataFrame'>\n",
            "RangeIndex: 63666 entries, 0 to 63665\n",
            "Data columns (total 10 columns):\n",
            " #   Column             Non-Null Count  Dtype  \n",
            "---  ------             --------------  -----  \n",
            " 0   feature_0          63666 non-null  float64\n",
            " 1   feature_1          63666 non-null  float64\n",
            " 2   feature_2          63666 non-null  float64\n",
            " 3   feature_3          63666 non-null  float64\n",
            " 4   feature_4          63666 non-null  float64\n",
            " 5   feature_5          63666 non-null  float64\n",
            " 6   feature_6          63666 non-null  float64\n",
            " 7   feature_7          63666 non-null  float64\n",
            " 8   time_to_terminate  63666 non-null  float64\n",
            " 9   ep_num             63666 non-null  float64\n",
            "dtypes: float64(10)\n",
            "memory usage: 4.9 MB\n",
            "None\n"
          ]
        }
      ]
    },
    {
      "cell_type": "code",
      "source": [
        "# terminating conditions of the episodes\n",
        "\n",
        "df_terminated = df[df['time_to_terminate']==0]\n",
        "print(df_terminated.head())\n",
        "print(df_terminated.describe())\n",
        "print(df_terminated.info())"
      ],
      "metadata": {
        "colab": {
          "base_uri": "https://localhost:8080/"
        },
        "id": "sd5H2CORBQ78",
        "outputId": "dc69e2ab-15d8-44f4-cd25-815e74c4e362"
      },
      "id": "sd5H2CORBQ78",
      "execution_count": 21,
      "outputs": [
        {
          "output_type": "stream",
          "name": "stdout",
          "text": [
            "    feature_0  feature_1  feature_2  feature_3  feature_4  feature_5  \\\n",
            "8   -0.455108   0.301929   0.649349   0.953330   0.760491  -3.041690   \n",
            "13  -0.450777   0.819676  -0.806697   0.572827   0.590965  -4.291635   \n",
            "19  -0.392419   0.870543  -0.955114   0.492092   0.296238  -1.869417   \n",
            "23  -0.474936   0.832723  -0.792623   0.553690   0.609711  -4.311210   \n",
            "27  -0.492059   0.844797  -0.791137   0.535087   0.611638  -4.303746   \n",
            "\n",
            "    feature_6  feature_7  time_to_terminate  ep_num  \n",
            "8    3.964113  -0.328407                0.0     0.0  \n",
            "13   7.177317  -2.772604                0.0     1.0  \n",
            "19   5.299377  -4.625726                0.0     2.0  \n",
            "23   7.341728  -2.942574                0.0     3.0  \n",
            "27   7.469521  -2.992593                0.0     4.0  \n",
            "          feature_0     feature_1     feature_2     feature_3     feature_4  \\\n",
            "count  10000.000000  10000.000000  10000.000000  10000.000000  10000.000000   \n",
            "mean       0.067986     -0.083664      0.110270      0.626096      0.467966   \n",
            "std        0.416572      0.763098      0.861301      0.136918      0.164580   \n",
            "min       -0.793774     -0.945692     -0.997185      0.325064      0.074975   \n",
            "25%       -0.370798     -0.801106     -0.860755      0.532567      0.355329   \n",
            "50%        0.166015     -0.562236      0.779883      0.610781      0.473301   \n",
            "75%        0.464573      0.779723      0.895524      0.679117      0.575423   \n",
            "max        0.857487      0.941850      0.996722      0.999999      0.999941   \n",
            "\n",
            "          feature_5     feature_6     feature_7  time_to_terminate  \\\n",
            "count  10000.000000  10000.000000  10000.000000            10000.0   \n",
            "mean       0.114632     -0.498933      0.370664                0.0   \n",
            "std        2.682925      5.369164      4.716774                0.0   \n",
            "min       -6.391518     -9.304300    -10.000000                0.0   \n",
            "25%       -2.113632     -5.609862     -4.449359                0.0   \n",
            "50%        0.276341     -2.203382      1.779702                0.0   \n",
            "75%        2.321665      5.207563      4.754841                0.0   \n",
            "max        6.456353     10.000000      9.900658                0.0   \n",
            "\n",
            "            ep_num  \n",
            "count  10000.00000  \n",
            "mean    4999.50000  \n",
            "std     2886.89568  \n",
            "min        0.00000  \n",
            "25%     2499.75000  \n",
            "50%     4999.50000  \n",
            "75%     7499.25000  \n",
            "max     9999.00000  \n",
            "<class 'pandas.core.frame.DataFrame'>\n",
            "Int64Index: 10000 entries, 8 to 63665\n",
            "Data columns (total 10 columns):\n",
            " #   Column             Non-Null Count  Dtype  \n",
            "---  ------             --------------  -----  \n",
            " 0   feature_0          10000 non-null  float64\n",
            " 1   feature_1          10000 non-null  float64\n",
            " 2   feature_2          10000 non-null  float64\n",
            " 3   feature_3          10000 non-null  float64\n",
            " 4   feature_4          10000 non-null  float64\n",
            " 5   feature_5          10000 non-null  float64\n",
            " 6   feature_6          10000 non-null  float64\n",
            " 7   feature_7          10000 non-null  float64\n",
            " 8   time_to_terminate  10000 non-null  float64\n",
            " 9   ep_num             10000 non-null  float64\n",
            "dtypes: float64(10)\n",
            "memory usage: 859.4 KB\n",
            "None\n"
          ]
        }
      ]
    },
    {
      "cell_type": "code",
      "source": [
        "# plot a five of the episodes against various features\n",
        "\n",
        "ep_split_df = [df[df['ep_num']==i] for i in range(5)]\n",
        "num_features = 8\n",
        "fig, axs = plt.subplots(num_features, figsize=(12, 8))\n",
        "plt.suptitle('First 5 episodes against features')\n",
        "for i in range(num_features):\n",
        "  for el in ep_split_df:\n",
        "    ep = el['ep_num'].values[0]\n",
        "    axs[i].plot(el[f'feature_{i}'], label=f'episode_{int(ep)}')\n",
        "    axs[i].set_title(f'feature_{i}', fontsize='small')\n",
        "# plt.legend(loc='right')\n",
        "plt.show()"
      ],
      "metadata": {
        "id": "HG_LvX_NxKam",
        "outputId": "f0a06a63-161f-4ba1-e4e8-2ce02290fac5",
        "colab": {
          "base_uri": "https://localhost:8080/",
          "height": 540
        }
      },
      "id": "HG_LvX_NxKam",
      "execution_count": 22,
      "outputs": [
        {
          "output_type": "display_data",
          "data": {
            "text/plain": [
              "<Figure size 864x576 with 8 Axes>"
            ],
            "image/png": "[encoded data removed]"
          },
          "metadata": {
            "needs_background": "light"
          }
        }
      ]
    },
    {
      "cell_type": "code",
      "source": [
        "from random import triangular\n",
        "# prepare dataset for train, validate, test\n",
        "# use final 20% episodes for testing\n",
        "\n",
        "test_size = 0.2*num_episodes\n",
        "\n",
        "test_df = df[df['ep_num']<=test_size]\n",
        "train_df = df[df['ep_num']>test_size]\n",
        "\n",
        "features = []\n",
        "for i in range(8):\n",
        "  features.append(f'feature_{i}')\n",
        "\n",
        "test_labels = test_df['time_to_terminate']\n",
        "test_features = test_df[features]\n",
        "\n",
        "train_labels = train_df['time_to_terminate']\n",
        "train_features = train_df[features]\n",
        "\n",
        "print('Test dataset shapes:', test_labels.shape, test_features.shape)\n",
        "print('Train dataset shapes:', train_labels.shape, train_features.shape)"
      ],
      "metadata": {
        "id": "gmKXAZHJpzQ6",
        "outputId": "bc236818-23b1-420f-959c-85fd3b35e96b",
        "colab": {
          "base_uri": "https://localhost:8080/"
        }
      },
      "id": "gmKXAZHJpzQ6",
      "execution_count": 23,
      "outputs": [
        {
          "output_type": "stream",
          "name": "stdout",
          "text": [
            "Test dataset shapes: (12677,) (12677, 8)\n",
            "Train dataset shapes: (50989,) (50989, 8)\n"
          ]
        }
      ]
    },
    {
      "cell_type": "code",
      "source": [
        "# linear regression model to predict time_to_terminate using features as baseline\n",
        "# this model does not take into account the time series i.e. it assumes that t, t+1 are independent\n",
        "\n",
        "from sklearn.linear_model import LinearRegression\n",
        "\n",
        "regr = LinearRegression()\n",
        "\n",
        "regr.fit(train_features, train_labels)\n",
        "\n",
        "preds = regr.predict(test_features)\n",
        "\n",
        "print('MSE: \\n', forecast_error(test_labels, preds))\n",
        "print('Score: \\n', regr.score(test_features, test_labels))"
      ],
      "metadata": {
        "colab": {
          "base_uri": "https://localhost:8080/"
        },
        "id": "DGVE0Lf1KHNi",
        "outputId": "2ff197a2-b494-4517-fa02-cbb9e613ee39"
      },
      "id": "DGVE0Lf1KHNi",
      "execution_count": 24,
      "outputs": [
        {
          "output_type": "stream",
          "name": "stdout",
          "text": [
            "MSE: \n",
            " 2.192567743695222\n",
            "Score: \n",
            " 0.6020273794505684\n"
          ]
        }
      ]
    },
    {
      "cell_type": "code",
      "source": [
        "print(regr.coef_)\n",
        "print(regr.intercept_)"
      ],
      "metadata": {
        "id": "E2sj7t90VOXp",
        "outputId": "fdbd140c-b91b-4f1e-f295-3ac3ae7d6713",
        "colab": {
          "base_uri": "https://localhost:8080/"
        }
      },
      "id": "E2sj7t90VOXp",
      "execution_count": 25,
      "outputs": [
        {
          "output_type": "stream",
          "name": "stdout",
          "text": [
            "[ 7.79679300e+00  6.90380173e+00  2.66616911e+00  5.07305108e+00\n",
            "  5.26486320e+00 -1.93269233e-01 -7.71255485e-02 -3.00148994e-03]\n",
            "-6.216255558853751\n"
          ]
        }
      ]
    },
    {
      "cell_type": "markdown",
      "source": [
        "Results:\n",
        "\n",
        "> n=100, mse=2.07, model=lin reg\n",
        "coef= [ 1.33349380e+00 -6.43072005e-01 -1.25702564e+00  6.48821446e+00\n",
        "  5.30884445e+00 -1.92036934e-01 -8.90950510e-02 -3.15731262e-03]\n",
        "intercept= -7.1225544550046775\n",
        "\n",
        "\n",
        "\n",
        "> n=10000, mse=2.07, model=lin reg\n",
        "coef=[ 8.05432692  6.7247005   2.55556171  4.98903376  5.38681353 -0.09618963\n",
        "  0.021658    0.03276889]\n",
        "intercept=-6.228216297398191\n",
        "\n",
        "\n",
        "\n"
      ],
      "metadata": {
        "id": "hQ8aEqjZYMr9"
      },
      "id": "hQ8aEqjZYMr9"
    },
    {
      "cell_type": "code",
      "source": [
        "# log linear so only positve? \n",
        "# look at gamma regression to use linear regression and only predict positive values\n",
        "\n",
        "from sklearn.linear_model import PoissonRegressor\n",
        "\n",
        "pois_regr = PoissonRegressor()\n",
        "\n",
        "pois_regr.fit(train_features, train_labels)\n",
        "\n",
        "pois_preds = pois_regr.predict(test_features)\n",
        "print('Poisson model')\n",
        "print('MSE: \\n', forecast_error(test_labels, pois_preds))\n",
        "print('Score: \\n', pois_regr.score(test_features, test_labels))"
      ],
      "metadata": {
        "id": "GVuSeff4Wa6B",
        "outputId": "f2dc8cb1-fc17-4032-df72-0624851c6b21",
        "colab": {
          "base_uri": "https://localhost:8080/"
        }
      },
      "id": "GVuSeff4Wa6B",
      "execution_count": 26,
      "outputs": [
        {
          "output_type": "stream",
          "name": "stdout",
          "text": [
            "Poisson model\n",
            "MSE: \n",
            " 4.624125806092908\n",
            "Score: \n",
            " 0.14978900003789875\n"
          ]
        }
      ]
    },
    {
      "cell_type": "code",
      "source": [
        "from sklearn.linear_model import TweedieRegressor\n",
        "\n",
        "tweed_regr = TweedieRegressor(power=1.5)\n",
        "\n",
        "tweed_regr.fit(train_features, train_labels)\n",
        "\n",
        "tweed_preds = tweed_regr.predict(test_features)\n",
        "print('Tweedie w/ power=1.5')\n",
        "print('MSE: \\n', forecast_error(test_labels, tweed_preds))\n",
        "print('Score: \\n', tweed_regr.score(test_features, test_labels))"
      ],
      "metadata": {
        "id": "2UXgupFJuCRu",
        "outputId": "d23718b3-bcec-4639-fd15-e17a8c4be9e7",
        "colab": {
          "base_uri": "https://localhost:8080/"
        }
      },
      "id": "2UXgupFJuCRu",
      "execution_count": 27,
      "outputs": [
        {
          "output_type": "stream",
          "name": "stdout",
          "text": [
            "Tweedie w/ power=1.5\n",
            "MSE: \n",
            " 4.941678266470815\n",
            "Score: \n",
            " 0.06987990671266442\n"
          ]
        }
      ]
    },
    {
      "cell_type": "code",
      "source": [
        "# take linear model but set preds less than zero to 0.\n",
        "preds_positive = preds.copy()\n",
        "preds_positive[preds_positive < 0] =  0\n",
        "\n",
        "print('Positive only predictions linear model')\n",
        "print('MSE: \\n', forecast_error(test_labels, preds_positive))\n"
      ],
      "metadata": {
        "id": "vchbuD4Wwy32",
        "outputId": "94631bd2-8bec-4004-83f0-d3aad02a86ef",
        "colab": {
          "base_uri": "https://localhost:8080/"
        }
      },
      "id": "vchbuD4Wwy32",
      "execution_count": 28,
      "outputs": [
        {
          "output_type": "stream",
          "name": "stdout",
          "text": [
            "Positive only predictions linear model\n",
            "MSE: \n",
            " 2.077998115841308\n"
          ]
        }
      ]
    },
    {
      "cell_type": "code",
      "source": [
        "# wants to learn the x^2 features so linear is a bad model e.g. direction (+/-) does not matter for falling for pendulum\n",
        "# implement NN to add non-linearity - use softplus for output\n",
        "\n",
        "\n",
        "\n",
        "class DenseNet(nn.Module):\n",
        "  def __init__(self):\n",
        "    super(DenseNet, self).__init__()\n",
        "    self.layer1 = nn.Linear(8,20)\n",
        "    self.layer2 = nn.Linear(20,1)\n",
        "    self.softplus = nn.Softplus()\n",
        "  \n",
        "  def forward(self, X):\n",
        "    hidden1 = self.layer1(X)\n",
        "    hidden2 = self.layer2(hidden1)\n",
        "\n",
        "    output = self.softplus(hidden2)\n",
        "    return output"
      ],
      "metadata": {
        "id": "uS2ohSKX8vbv"
      },
      "id": "uS2ohSKX8vbv",
      "execution_count": 46,
      "outputs": []
    },
    {
      "cell_type": "code",
      "source": [
        "dense_model = DenseNet()\n",
        "print(dense_model)\n",
        "X_sample = torch.tensor(sample_feat.values)\n",
        "y_sample = torch.tensor(sample_lab.values)\n",
        "\n",
        "#transform to float.32\n",
        "X_sample = X_sample.to(torch.float32)\n",
        "print(X_sample.shape, X_sample.dtype)\n",
        "dense_model(X_sample)"
      ],
      "metadata": {
        "id": "DS056DSJ2T7q",
        "outputId": "dc7369c9-cb69-4631-b3a9-9059d0e90094",
        "colab": {
          "base_uri": "https://localhost:8080/"
        }
      },
      "id": "DS056DSJ2T7q",
      "execution_count": 64,
      "outputs": [
        {
          "output_type": "stream",
          "name": "stdout",
          "text": [
            "DenseNet(\n",
            "  (layer1): Linear(in_features=8, out_features=20, bias=True)\n",
            "  (layer2): Linear(in_features=20, out_features=1, bias=True)\n",
            "  (softplus): Softplus(beta=1, threshold=20)\n",
            ")\n",
            "torch.Size([1, 8]) torch.float32\n"
          ]
        },
        {
          "output_type": "execute_result",
          "data": {
            "text/plain": [
              "tensor([[1.8771]], grad_fn=<SoftplusBackward0>)"
            ]
          },
          "metadata": {},
          "execution_count": 64
        }
      ]
    },
    {
      "cell_type": "code",
      "source": [
        "from sklearn.metrics import log_loss\n",
        "# Training loop\n",
        "\n",
        "def train(y_, X_, model_, epochs=10000, learning_rate=0.1):\n",
        "  criterion = nn.MSELoss()\n",
        "  optimizer = torch.optim.SGD(model_.parameters(), lr=learning_rate)\n",
        "\n",
        "  for epoch in range(epochs):\n",
        "    optimizer.zero_grad()\n",
        "\n",
        "    preds = model_(X_)\n",
        "    loss = torch.sqrt(criterion(preds, y_))\n",
        "    if epoch % 500 == 0:\n",
        "      print(f'epoch #{epoch} loss: \\n', loss.item())\n",
        "    loss.backward()\n",
        "    optimizer.step()\n",
        "\n",
        "  print('Final loss: \\n', loss.item())\n"
      ],
      "metadata": {
        "id": "Q9kS-Yfi0DiZ"
      },
      "id": "Q9kS-Yfi0DiZ",
      "execution_count": 108,
      "outputs": []
    },
    {
      "cell_type": "code",
      "source": [
        "train(train_labels_tensor, train_features_tensor, dense_model, epochs=1000)"
      ],
      "metadata": {
        "id": "UmaC7D0g7EG8",
        "outputId": "0c82a3d6-8b4b-4e4f-b76b-9d3dcc989a74",
        "colab": {
          "base_uri": "https://localhost:8080/"
        }
      },
      "id": "UmaC7D0g7EG8",
      "execution_count": 84,
      "outputs": [
        {
          "output_type": "stream",
          "name": "stdout",
          "text": [
            "epoch #0 loss: \n",
            " 1.3395487070083618\n",
            "epoch #100 loss: \n",
            " 1.3389513492584229\n",
            "epoch #200 loss: \n",
            " 1.338364601135254\n",
            "epoch #300 loss: \n",
            " 1.3377890586853027\n",
            "epoch #400 loss: \n",
            " 1.3372238874435425\n",
            "epoch #500 loss: \n",
            " 1.3366695642471313\n",
            "epoch #600 loss: \n",
            " 1.336125135421753\n",
            "epoch #700 loss: \n",
            " 1.3355909585952759\n",
            "epoch #800 loss: \n",
            " 1.3350664377212524\n",
            "epoch #900 loss: \n",
            " 1.3345513343811035\n",
            "Final loss: \n",
            " 1.3438174724578857\n"
          ]
        }
      ]
    },
    {
      "cell_type": "code",
      "source": [
        "# next add reLU for additional non-linearity\n",
        "\n",
        "class DenseNetRelu(nn.Module):\n",
        "  def __init__(self):\n",
        "    super(DenseNetRelu, self).__init__()\n",
        "    self.layer1 = nn.Linear(8,20)\n",
        "    self.relu1 = nn.ReLU()\n",
        "    self.layer2 = nn.Linear(20,1)\n",
        "    self.relu2 = nn.ReLU()\n",
        "    self.softplus = nn.Softplus()\n",
        "  \n",
        "  def forward(self, X):\n",
        "    hidden1 = self.relu1(self.layer1(X))\n",
        "    hidden2 = self.relu2(self.layer2(hidden1))\n",
        "\n",
        "    output = self.softplus(hidden2)\n",
        "    return output"
      ],
      "metadata": {
        "id": "_ILkFZvfWG1y"
      },
      "id": "_ILkFZvfWG1y",
      "execution_count": 103,
      "outputs": []
    },
    {
      "cell_type": "code",
      "source": [
        "dense_plus_relu_model = DenseNetRelu()\n",
        "print(dense_plus_relu_model)"
      ],
      "metadata": {
        "id": "gd5p8BwgYNM1",
        "outputId": "e8c1b282-c9a2-4ddf-f4c3-40c1348955fb",
        "colab": {
          "base_uri": "https://localhost:8080/"
        }
      },
      "id": "gd5p8BwgYNM1",
      "execution_count": 104,
      "outputs": [
        {
          "output_type": "stream",
          "name": "stdout",
          "text": [
            "DenseNetRelu(\n",
            "  (layer1): Linear(in_features=8, out_features=20, bias=True)\n",
            "  (relu1): ReLU()\n",
            "  (layer2): Linear(in_features=20, out_features=1, bias=True)\n",
            "  (relu2): ReLU()\n",
            "  (softplus): Softplus(beta=1, threshold=20)\n",
            ")\n"
          ]
        }
      ]
    },
    {
      "cell_type": "code",
      "source": [
        "train(train_labels_tensor, train_features_tensor, dense_plus_relu_model)"
      ],
      "metadata": {
        "id": "eEcpVrPJY1TY",
        "outputId": "aad0e4f4-5bce-4c87-f923-e5d3fe58516e",
        "colab": {
          "base_uri": "https://localhost:8080/"
        }
      },
      "id": "eEcpVrPJY1TY",
      "execution_count": 109,
      "outputs": [
        {
          "output_type": "stream",
          "name": "stdout",
          "text": [
            "epoch #0 loss: \n",
            " 1.1787439584732056\n",
            "epoch #500 loss: \n",
            " 1.1178183555603027\n",
            "epoch #1000 loss: \n",
            " 1.1159192323684692\n",
            "epoch #1500 loss: \n",
            " 1.106859564781189\n",
            "epoch #2000 loss: \n",
            " 1.0983161926269531\n",
            "epoch #2500 loss: \n",
            " 1.1193236112594604\n",
            "epoch #3000 loss: \n",
            " 1.0950719118118286\n",
            "epoch #3500 loss: \n",
            " 1.0880285501480103\n",
            "epoch #4000 loss: \n",
            " 1.0850255489349365\n",
            "epoch #4500 loss: \n",
            " 1.089189052581787\n",
            "epoch #5000 loss: \n",
            " 1.0803968906402588\n",
            "epoch #5500 loss: \n",
            " 1.0822069644927979\n",
            "epoch #6000 loss: \n",
            " 1.083616018295288\n",
            "epoch #6500 loss: \n",
            " 1.081641674041748\n",
            "epoch #7000 loss: \n",
            " 1.0782501697540283\n",
            "epoch #7500 loss: \n",
            " 1.0804098844528198\n",
            "epoch #8000 loss: \n",
            " 1.0805439949035645\n",
            "epoch #8500 loss: \n",
            " 1.077345371246338\n",
            "epoch #9000 loss: \n",
            " 1.078823208808899\n",
            "epoch #9500 loss: \n",
            " 1.0772886276245117\n",
            "Final loss: \n",
            " 1.0766116380691528\n"
          ]
        }
      ]
    },
    {
      "cell_type": "code",
      "source": [
        "sample = df.sample()\n",
        "sample_feat = sample[features]\n",
        "sample_lab = sample['time_to_terminate']\n",
        "print('Linear model: ',regr.predict(sample_feat)[0])\n",
        "print('Poisson model: ', pois_regr.predict(sample_feat)[0])\n",
        "print('DenseNet model: ', dense_model(torch.tensor(sample_feat.values, dtype=dtype, device=device)).item())\n",
        "print('DenseNetRelu model: ', dense_plus_relu_model(torch.tensor(sample_feat.values, dtype=dtype, device=device)).item())\n",
        "print('Actual:  ', sample_lab.values[0])"
      ],
      "metadata": {
        "id": "T14-cgqdVr_G",
        "outputId": "3bddc8ea-0544-4d89-df3c-2aac8e3e138d",
        "colab": {
          "base_uri": "https://localhost:8080/"
        }
      },
      "id": "T14-cgqdVr_G",
      "execution_count": 120,
      "outputs": [
        {
          "output_type": "stream",
          "name": "stdout",
          "text": [
            "Linear model:  4.6350984377698765\n",
            "Poisson model:  3.258579524341748\n",
            "DenseNet model:  5.121188163757324\n",
            "DenseNetRelu model:  6.119725704193115\n",
            "Actual:   6.0\n"
          ]
        }
      ]
    },
    {
      "cell_type": "code",
      "source": [
        "# try lstm to enable dependency between t, t+1 but only within the same episode\n",
        "# train on gpu\n",
        "\n"
      ],
      "metadata": {
        "id": "-HMXsDNxY-Tu"
      },
      "id": "-HMXsDNxY-Tu",
      "execution_count": null,
      "outputs": []
    }
  ],
  "metadata": {
    "kernelspec": {
      "display_name": "Python 3 (ipykernel)",
      "language": "python",
      "name": "python3"
    },
    "language_info": {
      "codemirror_mode": {
        "name": "ipython",
        "version": 3
      },
      "file_extension": ".py",
      "mimetype": "text/x-python",
      "name": "python",
      "nbconvert_exporter": "python",
      "pygments_lexer": "ipython3",
      "version": "3.7.0"
    },
    "colab": {
      "provenance": [],
      "include_colab_link": true
    }
  },
  "nbformat": 4,
  "nbformat_minor": 5
}